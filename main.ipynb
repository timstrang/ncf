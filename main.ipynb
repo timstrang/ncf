{
 "cells": [
  {
   "cell_type": "markdown",
   "id": "175c2c5a",
   "metadata": {},
   "source": [
    "## Simulation as Optimization: Finding Paths of Least Action with Gradient Descent\n",
    "Tim Strang and Sam Greydanus | 2023 | MIT License"
   ]
  },
  {
   "cell_type": "code",
   "execution_count": null,
   "id": "6a963d2b",
   "metadata": {},
   "outputs": [],
   "source": [
    "import numpy as np\n",
    "import pandas as pd\n",
    "import matplotlib.pyplot as plt\n",
    "import torch, time\n",
    "\n",
    "from celluloid import Camera\n",
    "from IPython.display import HTML\n",
    "from base64 import b64encode"
   ]
  },
  {
   "cell_type": "code",
   "execution_count": null,
   "id": "82f8c798",
   "metadata": {},
   "outputs": [],
   "source": [
    "%load_ext autoreload\n",
    "%autoreload 2"
   ]
  },
  {
   "cell_type": "code",
   "execution_count": null,
   "id": "c591cfc9",
   "metadata": {},
   "outputs": [],
   "source": [
    "from main import * # SimOpt code"
   ]
  },
  {
   "cell_type": "code",
   "execution_count": null,
   "id": "0d7b6fbe",
   "metadata": {},
   "outputs": [],
   "source": [
    "# def action(x, L_fn, dt):\n",
    "#     xdot = (x[1:] - x[:-1]) / dt\n",
    "#     xdot = torch.cat([xdot, xdot[-1:]], axis=0)\n",
    "#     return L_fn(x, xdot).sum()\n",
    "\n",
    "# def minimize_action(path, steps, step_size, L_fn, dt, opt='sgd', print_every=15):\n",
    "#     t = np.linspace(0, len(path.x)-1, len(path.x)) * dt\n",
    "#     optimizer = torch.optim.SGD(path.parameters(), lr=step_size, momentum=0) if opt=='sgd' else \\\n",
    "#                 torch.optim.Adam(path.parameters(), lr=step_size)\n",
    "#     xs = [path.x.clone().data]\n",
    "#     t0 = time.time()\n",
    "#     for i in range(steps):\n",
    "#         S = action(path.x, L_fn, dt)\n",
    "#         S.backward() ; path.x.grad.data[[0,-1]] *= 0\n",
    "#         optimizer.step() ; path.zero_grad()\n",
    "\n",
    "#         if i % (steps//print_every) == 0:\n",
    "#             xs.append(path.x.clone().data)\n",
    "#             print('step={:04d}, S={:.3e} J*s, dt={:.1f}s'.format(i, S.item(), time.time()-t0))\n",
    "#             t0 = time.time()\n",
    "#     return t, path, xs"
   ]
  },
  {
   "cell_type": "markdown",
   "id": "98451c00",
   "metadata": {},
   "source": [
    "## Free body"
   ]
  },
  {
   "cell_type": "code",
   "execution_count": null,
   "id": "5548e981",
   "metadata": {},
   "outputs": [],
   "source": [
    "t_sim, x_sim = simulate_freebody(dt=0.25, steps=60)\n",
    "plt.title('Free body')\n",
    "plt.plot(t_sim, x_sim, 'k.-')\n",
    "plt.show()"
   ]
  },
  {
   "cell_type": "code",
   "execution_count": null,
   "id": "94c7cac6",
   "metadata": {},
   "outputs": [],
   "source": []
  },
  {
   "cell_type": "code",
   "execution_count": null,
   "id": "bdc615ee",
   "metadata": {},
   "outputs": [],
   "source": [
    "dt = 0.25 ; N = 1 ; steps = 60\n",
    "t_sim, x_sim = simulate_freebody(dt=dt, steps=steps)\n",
    "init_path = PerturbedPath(x_sim, N=N, coords=1, sigma=1.5e0, zero_basepath=True) # [time, N*2]\n",
    "t_min, path, xs_min, info = minimize_action(init_path, steps=500, step_size=1e0, \n",
    "                                       L_fn=lagrangian_freebody, dt=dt, opt='adam')"
   ]
  },
  {
   "cell_type": "code",
   "execution_count": null,
   "id": "915facc8",
   "metadata": {},
   "outputs": [],
   "source": [
    "plt.figure(dpi=90)\n",
    "plt.title('Particle in freefall')\n",
    "plt.plot(t_sim, x_sim, 'r-', label='ODE solution')\n",
    "\n",
    "plt.plot(t_min, xs_min[0], 'y.-', label='Initial (random) path')\n",
    "for i, xi in enumerate(xs_min):\n",
    "    label = 'During optimization' if i==10 else None\n",
    "    plt.plot(t_min, xi, alpha=0.3, color=plt.cm.viridis( 1-i/(len(xs_min)-1) ), label=label)\n",
    "plt.plot(t_min, xs_min[-1], 'b.-', label='Final (optimized) path')\n",
    "plt.plot(t_min[[0,-1]], xs_min[0].data[[0,-1]], 'b+', markersize=15, label='Points held constant')\n",
    "\n",
    "plt.ylim(-5, 40)\n",
    "plt.xlabel('Time (s)') ; plt.ylabel('Height (m)') ; plt.legend(fontsize=8, ncol=3)\n",
    "plt.tight_layout() ; plt.show()"
   ]
  },
  {
   "cell_type": "code",
   "execution_count": null,
   "id": "cb6d72e4",
   "metadata": {},
   "outputs": [],
   "source": [
    "def action_plot(ax, S, T, V, S_ode, T_ode, V_ode):\n",
    "    plot_config = [(S, 'k', '$S$'), (T, 'r', '$\\sum_i T_i$'),\n",
    "         (V, 'b', '$-\\sum_i V_i$'), (S_ode, 'k--', '$S$ (ODE)'),\n",
    "         (T_ode, 'r--', '$-\\sum_i T_i$ (ODE)'), (V_ode, 'b--', '$-\\sum_i V_i$ (ODE)')]\n",
    "    N = len(S)\n",
    "    for i, (x, fmt, label) in enumerate(plot_config):\n",
    "        if i <= 2:\n",
    "            ax.plot(np.arange(N), x, fmt, linewidth=4, label=label)\n",
    "        else:\n",
    "            ax.plot([0,N], [x]*2, fmt, linewidth=4, label=label)\n",
    "            \n",
    "def plot_help(ax, ax_labels, steps=None):\n",
    "    plt.title(ax_labels['title'], fontweight=\"bold\")\n",
    "    plt.legend(ncol=2)\n",
    "    plt.xlabel(ax_labels['x_label'])\n",
    "    plt.ylabel(ax_labels['y_label'])\n",
    "    for item in [ax.xaxis.label, ax.yaxis.label]:\n",
    "        item.set_fontsize(23)\n",
    "    ax.title.set_fontsize(19)\n",
    "#     if steps:\n",
    "#         plt.xticks(np.linspace(0, steps, num=5).astype(int))\n",
    "    ax.tick_params(axis='both', length=9, width=3, labelsize=15)"
   ]
  },
  {
   "cell_type": "code",
   "execution_count": null,
   "id": "65bd5ca7",
   "metadata": {},
   "outputs": [],
   "source": [
    "fig = plt.figure(figsize=(8.3333, 6.25), dpi=80)\n",
    "ax = fig.add_subplot(111)\n",
    "\n",
    "S_ode, T_ode, V_ode = action(torch.from_numpy(x_sim), L_fn=lagrangian_freebody, dt=dt)\n",
    "\n",
    "ax_labels = {'title':'SimOpt Freebody Action Over Optimization',\n",
    "             'x_label':'Optimizer Steps', 'y_label':'J * s'}\n",
    "\n",
    "action_plot(ax, info['S'], info['T'], info['V'], S_ode, T_ode, V_ode)\n",
    "plot_help(ax, ax_labels, steps=steps)\n",
    "plt.show()\n",
    "# fig.savefig(project_dir + 'freebody_action.pdf')"
   ]
  },
  {
   "cell_type": "code",
   "execution_count": null,
   "id": "387c3b50",
   "metadata": {},
   "outputs": [],
   "source": []
  },
  {
   "cell_type": "markdown",
   "id": "3eeb5cd0",
   "metadata": {},
   "source": [
    "## Single pendulum"
   ]
  },
  {
   "cell_type": "code",
   "execution_count": null,
   "id": "37b067f3",
   "metadata": {},
   "outputs": [],
   "source": [
    "t_sim, x_sim = simulate_pend(dt=1)\n",
    "plt.title('Pendulum')\n",
    "plt.plot(t_sim, x_sim, 'k.-')\n",
    "plt.show()"
   ]
  },
  {
   "cell_type": "code",
   "execution_count": null,
   "id": "3d742d88",
   "metadata": {},
   "outputs": [],
   "source": [
    "dt = 1 ; N = 1\n",
    "t_sim, x_sim = simulate_pend(dt=dt)\n",
    "\n",
    "init_path = PerturbedPath(x_sim, N=N, coords=1, sigma=1.5e0, zero_basepath=True) # [time, N*2]\n",
    "t_min, path, xs_min = minimize_action(init_path, steps=1000, step_size=1e0, \n",
    "                                       L_fn=lagrangian_pend, dt=dt, opt='adam')\n",
    "\n",
    "plt.title('Pendulum')\n",
    "plt.plot(t_sim, x_sim, 'k.-', label='Simulator')\n",
    "plt.plot(t_min, xs_min[-1], 'b.-', label='Path of least action')\n",
    "plt.legend()\n",
    "plt.tight_layout() ; plt.show()"
   ]
  },
  {
   "cell_type": "markdown",
   "id": "0bb3dc51",
   "metadata": {},
   "source": [
    "## Double pendulum"
   ]
  },
  {
   "cell_type": "code",
   "execution_count": null,
   "id": "dbdf9b86",
   "metadata": {},
   "outputs": [],
   "source": [
    "t_sim, x_sim = simulate_dblpend(dt=0.06)\n",
    "plt.title('Double pendulum')\n",
    "plt.plot(t_sim, x_sim, 'k.-')\n",
    "plt.show()\n",
    "\n",
    "make_video(radial2cartesian(x_sim), path='sim.mp4', interval=60, ms=20)\n",
    "mp4 = open('sim.mp4','rb').read()\n",
    "data_url = \"data:video/mp4;base64,\" + b64encode(mp4).decode()\n",
    "HTML('<video width=300 controls><source src=\"{}\" type=\"video/mp4\"></video>'.format(data_url))"
   ]
  },
  {
   "cell_type": "code",
   "execution_count": null,
   "id": "c50cb9fe",
   "metadata": {},
   "outputs": [],
   "source": [
    "dt = 0.06 ; N = 2\n",
    "t_sim, x_sim = simulate_dblpend(dt=dt)\n",
    "\n",
    "init_path = PerturbedPath(x_sim, N=N, coords=1, sigma=1e0, zero_basepath=False) # [time, N*2]\n",
    "t_min, path, xs_min = minimize_action(init_path, steps=100, step_size=1e-1, \n",
    "                                       L_fn=lagrangian_dblpend, dt=dt, opt='adam')\n",
    "\n",
    "\n",
    "plt.title('Double Pendulum (theta 2)')\n",
    "plt.plot(t_sim, x_sim[:,1], 'k.-', label='Simulator')\n",
    "plt.plot(t_min, xs_min[0][:,1], 'y-', label='Initial path')\n",
    "plt.plot(t_min, xs_min[-1][:,1], 'b.-', label='Path of least action')\n",
    "plt.legend()\n",
    "plt.tight_layout() ; plt.show()\n",
    "\n",
    "make_video(radial2cartesian(xs_min[-1]), path='sim.mp4', interval=60, ms=20)\n",
    "mp4 = open('sim.mp4','rb').read()\n",
    "data_url = \"data:video/mp4;base64,\" + b64encode(mp4).decode()\n",
    "HTML('<video width=300 controls><source src=\"{}\" type=\"video/mp4\"></video>'.format(data_url))"
   ]
  },
  {
   "cell_type": "markdown",
   "id": "e1f87db6",
   "metadata": {},
   "source": [
    "## Three body problem"
   ]
  },
  {
   "cell_type": "code",
   "execution_count": null,
   "id": "48965794",
   "metadata": {},
   "outputs": [],
   "source": [
    "t, x = simulate_3body()\n",
    "make_video(x, path='sim.mp4', interval=60, ms=20)\n",
    "mp4 = open('sim.mp4','rb').read()\n",
    "data_url = \"data:video/mp4;base64,\" + b64encode(mp4).decode()\n",
    "HTML('<video width=300 controls><source src=\"{}\" type=\"video/mp4\"></video>'.format(data_url))"
   ]
  },
  {
   "cell_type": "code",
   "execution_count": null,
   "id": "29ce8f91",
   "metadata": {},
   "outputs": [],
   "source": [
    "dt = 0.5 ; N = 3\n",
    "\n",
    "t_sim, x_sim = simulate_3body(dt=dt)\n",
    "init_path = PerturbedPath(x_sim, N=N, sigma=2e-2) # [time, N*2]\n",
    "t_min, path, xs_min = minimize_action(init_path, steps=500, step_size=1e1,\n",
    "                                       L_fn=lagrangian_3body, dt=dt, opt='sgd')"
   ]
  },
  {
   "cell_type": "code",
   "execution_count": null,
   "id": "932355b2",
   "metadata": {},
   "outputs": [],
   "source": [
    "N = x_sim.shape[-2]\n",
    "xs_before = xs_min[0].detach().numpy().reshape(-1,N,2)\n",
    "xs_after = xs_min[-1].detach().numpy().reshape(-1,N,2)\n",
    "\n",
    "plt.figure(dpi=100) ; k = 1\n",
    "plt.title('Ball {} horiz. velocity vs. time'.format(1 + k//2))\n",
    "plt.plot((xs_before[1:] - xs_before[:-1]).reshape(-1,N*2)[...,k], '.-', label='Initial path')\n",
    "plt.plot((xs_after[1:] - xs_after[:-1]).reshape(-1,N*2)[...,k], '.-', label='Minimum action')\n",
    "plt.plot((x_sim[1:] - x_sim[:-1]).reshape(-1,N*2)[...,k], 'k-', label='Simulator')\n",
    "plt.legend()\n",
    "plt.show()"
   ]
  },
  {
   "cell_type": "code",
   "execution_count": null,
   "id": "fe1dd4e6",
   "metadata": {},
   "outputs": [],
   "source": [
    "xs = xs_min[0].detach().numpy().reshape(-1,N,2)\n",
    "make_video(xs, path='sim.mp4', interval=60, ms=20)\n",
    "mp4 = open('sim.mp4','rb').read()\n",
    "data_url = \"data:video/mp4;base64,\" + b64encode(mp4).decode()\n",
    "HTML('<video width=300 controls><source src=\"{}\" type=\"video/mp4\"></video>'.format(data_url))"
   ]
  },
  {
   "cell_type": "code",
   "execution_count": null,
   "id": "0c2e7559",
   "metadata": {},
   "outputs": [],
   "source": [
    "xs = xs_min[-1].detach().numpy().reshape(-1,N,2)\n",
    "make_video(xs, path='sim.mp4', interval=30, ms=20)\n",
    "mp4 = open('sim.mp4','rb').read()\n",
    "data_url = \"data:video/mp4;base64,\" + b64encode(mp4).decode()\n",
    "HTML('<video width=300 controls><source src=\"{}\" type=\"video/mp4\"></video>'.format(data_url))"
   ]
  },
  {
   "cell_type": "markdown",
   "id": "1e860291",
   "metadata": {},
   "source": [
    "## Gas simulation"
   ]
  },
  {
   "cell_type": "code",
   "execution_count": null,
   "id": "67b6b233",
   "metadata": {},
   "outputs": [],
   "source": [
    "t, x = simulate_gas(dt=.5, N=50)\n",
    "\n",
    "make_video(x, path='sim.mp4', interval=30)\n",
    "mp4 = open('sim.mp4','rb').read()\n",
    "data_url = \"data:video/mp4;base64,\" + b64encode(mp4).decode()\n",
    "HTML('<video width=300 controls><source src=\"{}\" type=\"video/mp4\"></video>'.format(data_url))"
   ]
  },
  {
   "cell_type": "code",
   "execution_count": null,
   "id": "a10e7159",
   "metadata": {},
   "outputs": [],
   "source": [
    "dt = 0.5 ; N = 50\n",
    "t_sim, x_sim = simulate_gas(dt=dt, N=N)\n",
    "init_path = PerturbedPath(x_sim, N=N, sigma=1e-2) # [time, N*2]\n",
    "t_min, path, xs_min = minimize_action(init_path, steps=500, step_size=1e1,\n",
    "                                       L_fn=lagrangian_gas, dt=dt, opt='sgd')"
   ]
  },
  {
   "cell_type": "code",
   "execution_count": null,
   "id": "9bdd01fb",
   "metadata": {},
   "outputs": [],
   "source": [
    "N = x_sim.shape[-2]\n",
    "xs_before = xs_min[0].detach().numpy().reshape(-1,N,2)\n",
    "xs_after = xs_min[-1].detach().numpy().reshape(-1,N,2)\n",
    "\n",
    "k = 25\n",
    "plt.figure(dpi=100)\n",
    "plt.title('Ball {} horiz. velocity vs. time'.format(1 + k//2))\n",
    "plt.plot((xs_before[1:] - xs_before[:-1]).reshape(-1,N*2)[...,k], '.-', label='Initial path')\n",
    "plt.plot((xs_after[1:] - xs_after[:-1]).reshape(-1,N*2)[...,k], '.-', label='Minimum action')\n",
    "plt.plot((x_sim[1:] - x_sim[:-1]).reshape(-1,N*2)[...,k], 'k-', label='Simulator')\n",
    "plt.legend()\n",
    "plt.show()"
   ]
  },
  {
   "cell_type": "code",
   "execution_count": null,
   "id": "7d582ff6",
   "metadata": {},
   "outputs": [],
   "source": [
    "xs = xs_min[0].detach().numpy().reshape(-1,N,2)\n",
    "make_video(xs, path='sim.mp4', interval=30, ms=10)\n",
    "mp4 = open('sim.mp4','rb').read()\n",
    "data_url = \"data:video/mp4;base64,\" + b64encode(mp4).decode()\n",
    "HTML('<video width=300 controls><source src=\"{}\" type=\"video/mp4\"></video>'.format(data_url))"
   ]
  },
  {
   "cell_type": "markdown",
   "id": "5efd203d",
   "metadata": {},
   "source": [
    "## Ephemeris dataset and simulation"
   ]
  },
  {
   "cell_type": "code",
   "execution_count": null,
   "id": "cc49be5e",
   "metadata": {},
   "outputs": [],
   "source": [
    "planets = ['sun', 'mercury', 'venus', 'earth', 'mars']\n",
    "data_dir = './data/'\n",
    "df = process_raw_ephemeris(planets, data_dir, last_n_days=365) #365\n",
    "\n",
    "t_sim, x_sim = simulate_planets(df, planets)\n",
    "plot_planets(df, planets)\n",
    "\n",
    "colors = get_planet_colors()\n",
    "for i, (planet, coords) in enumerate(zip(planets, x_sim.transpose(1,2,0))):\n",
    "    x, y = coords\n",
    "    plt.plot(x, y, ':', alpha=0.5, color=colors[planet], label=planets[i] + ' (sim)')\n",
    "    plt.plot(x[0], y[0], '+', color=colors[planet])\n",
    "    plt.plot(x[-1], y[-1], 'x', color=colors[planet])\n",
    "plt.axis('equal')\n",
    "plt.legend(fontsize=6,  loc='upper right', ncol=2) ; plt.show()"
   ]
  },
  {
   "cell_type": "code",
   "execution_count": null,
   "id": "115378cf",
   "metadata": {},
   "outputs": [],
   "source": [
    "dt = 24*60*60 ; N = len(planets)\n",
    "df = process_raw_ephemeris(planets, data_dir, last_n_days=365)\n",
    "t_sim, x_sim = simulate_planets(df, planets, dt=dt)\n",
    "init_path = PerturbedPath(x_sim, N=N, sigma=2e10, is_ephemeris=True) # [time, N*2]\n",
    "\n",
    "L_planets = partial(lagrangian_planets, masses=get_masses(planets))\n",
    "\n",
    "t_min, path, xs_min = minimize_action(init_path, steps=500, step_size=1e9,\n",
    "                                       L_fn=L_planets, dt=dt, opt='adam')"
   ]
  },
  {
   "cell_type": "code",
   "execution_count": null,
   "id": "45af9abb",
   "metadata": {},
   "outputs": [],
   "source": [
    "plt.figure(figsize=[5,3], dpi=120)\n",
    "plt.title('Earth y coordinate')\n",
    "xs_sim = init_path.x_true\n",
    "xs_init = xs_min[0].detach().numpy().reshape(-1,N,2)\n",
    "xs_final = xs_min[-1].detach().numpy().reshape(-1,N,2)\n",
    "plt.plot(xs_sim[:,2,1], '--', label='sim')\n",
    "plt.plot(xs_init[:,2,1], alpha=0.5, label='init')\n",
    "plt.plot(xs_final[:,2,1], alpha=0.5, label='final')\n",
    "plt.legend()"
   ]
  },
  {
   "cell_type": "code",
   "execution_count": null,
   "id": "a4fb3244",
   "metadata": {},
   "outputs": [],
   "source": [
    "fig = plt.figure(figsize=[5,5], dpi=140)\n",
    "plot_planets(df, planets, fig=fig)\n",
    "colors = get_planet_colors()\n",
    "\n",
    "xs = xs_min[0].detach().numpy().reshape(-1,N,2)\n",
    "for i, (planet, coords) in enumerate(zip(planets, xs.transpose(1,2,0))):\n",
    "    x, y = coords\n",
    "    plt.plot(x, y, '.', alpha=0.3, color=colors[planet], label=planets[i] + ' (init)')\n",
    "    plt.plot(x[0], y[0], '+', color=colors[planet])\n",
    "    plt.plot(x[-1], y[-1], 'x', color=colors[planet])\n",
    "    \n",
    "xs = xs_min[-1].detach().numpy().reshape(-1,N,2)\n",
    "for i, (planet, coords) in enumerate(zip(planets, xs.transpose(1,2,0))):\n",
    "    x, y = coords\n",
    "    plt.plot(x, y, ':', alpha=0.5, color=colors[planet], label=planets[i] + ' (path)')\n",
    "\n",
    "plt.axis('equal')\n",
    "plt.legend(fontsize=6,  loc='upper right', ncol=3) ; plt.show()"
   ]
  },
  {
   "cell_type": "code",
   "execution_count": null,
   "id": "529711f2",
   "metadata": {},
   "outputs": [],
   "source": []
  }
 ],
 "metadata": {
  "kernelspec": {
   "display_name": "Python 3 (ipykernel)",
   "language": "python",
   "name": "python3"
  },
  "language_info": {
   "codemirror_mode": {
    "name": "ipython",
    "version": 3
   },
   "file_extension": ".py",
   "mimetype": "text/x-python",
   "name": "python",
   "nbconvert_exporter": "python",
   "pygments_lexer": "ipython3",
   "version": "3.8.5"
  }
 },
 "nbformat": 4,
 "nbformat_minor": 5
}
