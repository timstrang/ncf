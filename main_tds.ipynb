{
 "cells": [
  {
   "cell_type": "markdown",
   "id": "20ea9bbe",
   "metadata": {},
   "source": [
    "## Simulation as Optimization: Finding Paths of Least Action with Gradient Descent\n",
    "Tim Strang and Sam Greydanus | 2023 | MIT License"
   ]
  },
  {
   "cell_type": "code",
   "execution_count": 1,
   "id": "f4fea46a",
   "metadata": {},
   "outputs": [],
   "source": [
    "import numpy as np\n",
    "import pandas as pd\n",
    "import matplotlib.pyplot as plt\n",
    "import torch, time\n",
    "\n",
    "from celluloid import Camera\n",
    "from IPython.display import HTML\n",
    "from base64 import b64encode"
   ]
  },
  {
   "cell_type": "code",
   "execution_count": 2,
   "id": "14fc9457",
   "metadata": {},
   "outputs": [],
   "source": [
    "%load_ext autoreload\n",
    "%autoreload 2"
   ]
  },
  {
   "cell_type": "code",
   "execution_count": 3,
   "id": "76ab9f82",
   "metadata": {},
   "outputs": [],
   "source": [
    "from main import * # SimOpt code"
   ]
  },
  {
   "cell_type": "code",
   "execution_count": 4,
   "id": "c30e875e",
   "metadata": {},
   "outputs": [],
   "source": [
    "def plot_action_stats(ax, S, T, V, S_ode, T_ode, V_ode):\n",
    "    alpha = .7\n",
    "    plot_config = [(S, 'k', '$S$', alpha), (T, 'm', '$\\sum_i T_i$', alpha),\n",
    "                   (-np.asarray(V), 'c', '$-\\sum_i V_i$', alpha),\n",
    "                   (S_ode, 'k--', '$S$ (ODE)', 1), (T_ode, 'm--', '$-\\sum_i T_i$ (ODE)', 1),\n",
    "                   (-V_ode, 'c--', '$-\\sum_i V_i$ (ODE)', 1)]\n",
    "    N = len(S)\n",
    "    for i, (x, fmt, label, alpha) in enumerate(plot_config):\n",
    "        if i <= 2:\n",
    "            ax.plot(np.arange(N), x, fmt, alpha=alpha, linewidth=4, label=label)\n",
    "        else:\n",
    "            ax.plot([0,N], [x]*2, fmt, alpha=alpha, linewidth=4, label=label)\n",
    "            \n",
    "def plot_helper(ax, ax_labels, fontsz, legend=False):\n",
    "    plt.title(ax_labels['title'], fontweight=\"bold\")\n",
    "    if legend:\n",
    "        plt.legend(ncol=2, fontsize=fontsz['legend'])\n",
    "    plt.xlabel(ax_labels['x_label'])\n",
    "    plt.ylabel(ax_labels['y_label'])\n",
    "    ax.xaxis.label.set_fontsize(fontsz['x_label'])\n",
    "    ax.yaxis.label.set_fontsize(fontsz['y_label'])\n",
    "    ax.title.set_fontsize(fontsz['title'])\n",
    "    ax.tick_params(axis='both', length=9, width=3, labelsize=15)\n",
    "    plt.tight_layout()  # helps clean up plots sometimes\n",
    "    \n",
    "def action_plot(info, x_sim, ax_labels, fontsz, L_fn, legend=False, fig=None):\n",
    "    if fig is None:\n",
    "        fig = plt.figure(figsize=(8.3333, 6.25), dpi=50)\n",
    "    ax = fig.add_subplot(111)\n",
    "    S_ode, T_ode, V_ode = action(torch.tensor(x_sim), L_fn=L_fn, dt=dt)\n",
    "    plot_action_stats(ax, info['S'], info['T'], info['V'], S_ode.sum(), T_ode.sum(), V_ode.sum())\n",
    "\n",
    "    plot_helper(ax, ax_labels, fontsz, legend=legend)\n",
    "    return fig"
   ]
  },
  {
   "cell_type": "markdown",
   "id": "deb9542f",
   "metadata": {},
   "source": [
    "## Free body"
   ]
  },
  {
   "cell_type": "code",
   "execution_count": 5,
   "id": "477680a2",
   "metadata": {},
   "outputs": [
    {
     "ename": "TypeError",
     "evalue": "minimize_action() got an unexpected keyword argument 'verbose'",
     "output_type": "error",
     "traceback": [
      "\u001b[1;31m---------------------------------------------------------------------------\u001b[0m",
      "\u001b[1;31mTypeError\u001b[0m                                 Traceback (most recent call last)",
      "Cell \u001b[1;32mIn[5], line 4\u001b[0m\n\u001b[0;32m      2\u001b[0m t_sim, x_sim \u001b[38;5;241m=\u001b[39m simulate_freebody(dt\u001b[38;5;241m=\u001b[39mdt, steps\u001b[38;5;241m=\u001b[39msteps)\n\u001b[0;32m      3\u001b[0m init_path \u001b[38;5;241m=\u001b[39m PerturbedPath(x_sim, N\u001b[38;5;241m=\u001b[39mN, coords\u001b[38;5;241m=\u001b[39m\u001b[38;5;241m1\u001b[39m, sigma\u001b[38;5;241m=\u001b[39m\u001b[38;5;241m1.5e0\u001b[39m, zero_basepath\u001b[38;5;241m=\u001b[39m\u001b[38;5;28;01mTrue\u001b[39;00m) \u001b[38;5;66;03m# [time, N*2]\u001b[39;00m\n\u001b[1;32m----> 4\u001b[0m t_min, path, xs_min, info \u001b[38;5;241m=\u001b[39m \u001b[43mminimize_action\u001b[49m\u001b[43m(\u001b[49m\u001b[43minit_path\u001b[49m\u001b[43m,\u001b[49m\u001b[43m \u001b[49m\u001b[43msteps\u001b[49m\u001b[38;5;241;43m=\u001b[39;49m\u001b[38;5;241;43m500\u001b[39;49m\u001b[43m,\u001b[49m\u001b[43m \u001b[49m\u001b[43mstep_size\u001b[49m\u001b[38;5;241;43m=\u001b[39;49m\u001b[38;5;241;43m1e0\u001b[39;49m\u001b[43m,\u001b[49m\u001b[43m \u001b[49m\n\u001b[0;32m      5\u001b[0m \u001b[43m                                       \u001b[49m\u001b[43mL_fn\u001b[49m\u001b[38;5;241;43m=\u001b[39;49m\u001b[43mlagrangian_freebody\u001b[49m\u001b[43m,\u001b[49m\u001b[43m \u001b[49m\u001b[43mdt\u001b[49m\u001b[38;5;241;43m=\u001b[39;49m\u001b[43mdt\u001b[49m\u001b[43m,\u001b[49m\u001b[43m \u001b[49m\u001b[43mopt\u001b[49m\u001b[38;5;241;43m=\u001b[39;49m\u001b[38;5;124;43m'\u001b[39;49m\u001b[38;5;124;43madam\u001b[39;49m\u001b[38;5;124;43m'\u001b[39;49m\u001b[43m,\u001b[49m\u001b[43m \u001b[49m\u001b[43mverbose\u001b[49m\u001b[38;5;241;43m=\u001b[39;49m\u001b[38;5;28;43;01mFalse\u001b[39;49;00m\u001b[43m)\u001b[49m\n",
      "\u001b[1;31mTypeError\u001b[0m: minimize_action() got an unexpected keyword argument 'verbose'"
     ]
    }
   ],
   "source": [
    "dt = 0.25 ; N = 1 ; steps = 60\n",
    "t_sim, x_sim = simulate_freebody(dt=dt, steps=steps)\n",
    "init_path = PerturbedPath(x_sim, N=N, coords=1, sigma=1.5e0, zero_basepath=True) # [time, N*2]\n",
    "t_min, path, xs_min, info = minimize_action(init_path, steps=500, step_size=1e0, \n",
    "                                       L_fn=lagrangian_freebody, dt=dt, opt='adam', verbose=False)"
   ]
  },
  {
   "cell_type": "code",
   "execution_count": null,
   "id": "26669d57",
   "metadata": {},
   "outputs": [],
   "source": [
    "fig = plt.figure(figsize=(8.3333, 6.25), dpi=300)\n",
    "M_sim = int(len(x_sim)/4)\n",
    "\n",
    "ax1 = fig.add_subplot(241)\n",
    "ax2 = fig.add_subplot(242)\n",
    "ax3 = fig.add_subplot(243)\n",
    "ax4 = fig.add_subplot(244)\n",
    "ax5 = fig.add_subplot(245)\n",
    "ax6 = fig.add_subplot(246)\n",
    "ax7 = fig.add_subplot(247)\n",
    "ax8 = fig.add_subplot(248)\n",
    "\n",
    "sim_axes=[ax1, ax2, ax3, ax4]\n",
    "min_axes=[ax5, ax6, ax7, ax8]\n",
    "\n",
    "for i, ax in enumerate(sim_axes):\n",
    "    j = i+1\n",
    "    ax.plot(t_sim[:j*M_sim], x_sim[:j*M_sim], 'k.-')\n",
    "    ax.set_xlim(-1, t_sim.max()+1)\n",
    "    ax.set_ylim(-5, 40)\n",
    "\n",
    "ax5.plot(t_min, xs_min[0], 'k.-')\n",
    "ax6.plot(t_min, xs_min[3], 'k.-')\n",
    "ax7.plot(t_min, xs_min[6], 'k.-')\n",
    "ax8.plot(t_min, xs_min[-1], 'k.-')\n",
    "\n",
    "\n",
    "plt.show()\n"
   ]
  },
  {
   "cell_type": "code",
   "execution_count": null,
   "id": "e6f74b4f",
   "metadata": {},
   "outputs": [],
   "source": [
    "fig = plt.figure(figsize=(8.3333, 6.25), dpi=300) \n",
    "ax = fig.add_subplot(111)\n",
    "name = 'Free body'\n",
    "ax.plot(t_sim, x_sim, 'r-', label='ODE solution', linewidth=3)\n",
    "ax.plot(t_min, xs_min[0], 'y.-', alpha=.3, label='Initial (random) path')\n",
    "for i, xi in enumerate(xs_min):\n",
    "    label = 'During optimization' if i==10 else None\n",
    "    ax.plot(t_min, xi, alpha=.3 + .7 * i/(len(xs_min)-1), color=plt.cm.viridis( 1-i/(len(xs_min)-1) ), label=label)\n",
    "ax.plot(t_min, xs_min[-1], 'b.-', label='Final (optimized) path')\n",
    "ax.plot(t_min[[0,-1]], xs_min[0].data[[0,-1]], 'b+', markersize=15, label='Points held constant')\n",
    "\n",
    "plt.ylim(-5, 40)\n",
    "\n",
    "fontsz = {'title': 23, 'x_label': 23, 'y_label': 23, 'legend': 10}\n",
    "ax_labels = {'title':'Free Body Height vs Time',\n",
    "             'x_label':'Time (s)', 'y_label':'Height (m)'}\n",
    "plot_helper(ax, ax_labels, fontsz, legend=True)\n",
    "path ='./dynamic/{}.pdf'.format(name.lower().replace(' ', ''))\n",
    "plt.show() ; fig.savefig(path)"
   ]
  },
  {
   "cell_type": "code",
   "execution_count": null,
   "id": "b4cdea84",
   "metadata": {
    "scrolled": true
   },
   "outputs": [],
   "source": [
    "ax_labels = {'title':'Action and associated quantities ({})'.format(name),\n",
    "                 'x_label':'Optimizer Steps', 'y_label':'J * s'}\n",
    "fontsz = {'title': 17, 'x_label': 23, 'y_label': 28, 'legend': 14}\n",
    "fig = action_plot(info, x_sim, ax_labels, fontsz, L_fn=lagrangian_freebody, legend=True)\n",
    "plt.ylim(-25, 20)\n",
    "path ='./static/{}_action.pdf'.format(name.lower().replace(' ', ''))\n",
    "plt.show() ; fig.savefig(path)"
   ]
  },
  {
   "cell_type": "markdown",
   "id": "aaecb6af",
   "metadata": {},
   "source": [
    "## Single pendulum"
   ]
  },
  {
   "cell_type": "code",
   "execution_count": null,
   "id": "9accaf4d",
   "metadata": {},
   "outputs": [],
   "source": [
    "dt = 1 ; N = 1\n",
    "t_sim, x_sim = simulate_pend(dt=dt)\n",
    "\n",
    "init_path = PerturbedPath(x_sim, N=N, coords=1, sigma=1.5e0, zero_basepath=False, clip_rng=.5) # [time, N*2]\n",
    "t_min, path, xs_min, info = minimize_action(init_path, steps=100, step_size=1e0, \n",
    "                                            L_fn=lagrangian_pend, dt=dt, opt='adam', \n",
    "                                            loss_coeffs=(1,1), verbose=False)\n",
    "\n",
    "fig = plt.figure(figsize=(8.3333, 6.25), dpi=300) \n",
    "ax = fig.add_subplot(111)\n",
    "name = 'Pendulum'\n",
    "ax.plot(t_sim, np.sin(x_sim), 'r-', label='ODE solution', linewidth=5)\n",
    "ax.plot(t_min, np.sin(xs_min[0]), 'y.-', alpha=.3, label='Initial (random) path')\n",
    "for i, xi in enumerate(xs_min):\n",
    "    label = 'During optimization' if i==10 else None\n",
    "    ax.plot(t_min, np.sin(xi), alpha=.3 + .7 * i/(len(xs_min)-1), color=plt.cm.viridis( 1-i/(len(xs_min)-1) ), label=label)\n",
    "ax.plot(t_min, np.sin(xs_min[-1]), 'b.-', label='Final (optimized) path')\n",
    "ax.plot(t_min[[0,-1]], np.sin(xs_min[0].data[[0,-1]]), 'b+', markersize=15, label='Points held constant')\n",
    "\n",
    "fontsz = {'title': 19, 'x_label': 23, 'y_label': 23, 'legend': 10}\n",
    "ax_labels = {'title':'Pendulum Height vs Time',\n",
    "             'x_label':'Time (s)', 'y_label':'Height (m)'}\n",
    "plot_helper(ax, ax_labels, fontsz)\n",
    "path ='./dynamic/{}.pdf'.format(name.lower().replace(' ', ''))\n",
    "plt.show() ; fig.savefig(path)"
   ]
  },
  {
   "cell_type": "code",
   "execution_count": null,
   "id": "2dfca783",
   "metadata": {},
   "outputs": [],
   "source": [
    "ax_labels = {'title':'Action and associated quantities ({})'.format(name),\n",
    "                 'x_label':'Optimizer Steps', 'y_label':'J * s'}\n",
    "fontsz = {'title': 18, 'x_label': 23, 'y_label': 28, 'legend': 10}\n",
    "fig = action_plot(info, x_sim, ax_labels, fontsz, L_fn=lagrangian_pend)\n",
    "plt.ylim(-200, 600)\n",
    "path ='./static/{}_action.pdf'.format(name.lower().replace(' ', ''))\n",
    "plt.show() ; fig.savefig(path)"
   ]
  },
  {
   "cell_type": "markdown",
   "id": "fbeee672",
   "metadata": {},
   "source": [
    "## Double pendulum"
   ]
  },
  {
   "cell_type": "code",
   "execution_count": null,
   "id": "46f776c2",
   "metadata": {},
   "outputs": [],
   "source": [
    "#make_video(radial2cartesian(x_sim), path='sim.mp4', interval=60, ms=20)\n",
    "#mp4 = open('sim.mp4','rb').read()\n",
    "#data_url = \"data:video/mp4;base64,\" + b64encode(mp4).decode()\n",
    "#HTML('<video width=300 controls><source src=\"{}\" type=\"video/mp4\"></video>'.format(data_url))"
   ]
  },
  {
   "cell_type": "code",
   "execution_count": null,
   "id": "0cd9af75",
   "metadata": {
    "scrolled": false
   },
   "outputs": [],
   "source": [
    "dt = 0.06 ; N = 2\n",
    "t_sim, x_sim = simulate_dblpend(dt=dt)\n",
    "\n",
    "init_path = PerturbedPath(x_sim, N=N, coords=1, sigma=1e0, zero_basepath=False, unpert_till=3) # [time, N*2]\n",
    "t_min, path, xs_min, info = minimize_action(init_path, steps=200, step_size=1e-1, \n",
    "                                            L_fn=lagrangian_dblpend, dt=dt, opt='adam',\n",
    "                                            loss_coeffs=(1,0), verbose=False)\n",
    "\n",
    "fig = plt.figure(figsize=(8.3333, 6.25), dpi=300)\n",
    "ax = fig.add_subplot(111)\n",
    "name = 'Double pendulum'\n",
    "nm, xy = (1, 1)\n",
    "radsim = radial2cartesian(x_sim)[:, nm, xy]\n",
    "size = len(radsim)\n",
    "ax.plot(t_sim, radsim, 'r-', label='ODE solution', linewidth=5)\n",
    "ax.plot(t_min, radial2cartesian(xs_min[0])[:, nm, xy], 'y.-', alpha=.3, label='Initial (random) path')\n",
    "for i, xi in enumerate(xs_min):\n",
    "    label = 'During optimization' if i==10 else None\n",
    "    ax.plot(t_min, radial2cartesian(xs_min[i])[:, nm, xy],\n",
    "             alpha=.3 + .7 * i/(size - 1), \n",
    "             color=plt.cm.viridis( 1-i/(size - 1)), label=label)\n",
    "ax.plot(t_min, radial2cartesian(xs_min[-1])[:, nm, xy], 'b.-', label='Final (optimized) path')\n",
    "ax.plot(t_min[[0,-1]], radial2cartesian(xs_min[0])[[0,-1], nm, xy],\n",
    "         'b+', markersize=15, label='Points held constant')\n",
    "\n",
    "ax_labels = {'title':'Double Pendulum Height vs Time',\n",
    "             'x_label':'Time (s)', 'y_label':'Height (m)'}\n",
    "fontsz = {'title': 18, 'x_label': 23, 'y_label': 23, 'legend': 10}\n",
    "plot_helper(ax, ax_labels, fontsz)\n",
    "\n",
    "path ='./dynamic/{}.pdf'.format(name.lower().replace(' ', ''))\n",
    "plt.show() ; fig.savefig(path)\n",
    "\n",
    "#make_video(radial2cartesian(xs_min[-1]), path='sim.mp4', interval=60, ms=20)\n",
    "#mp4 = open('sim.mp4','rb').read()\n",
    "#data_url = \"data:video/mp4;base64,\" + b64encode(mp4).decode()\n",
    "#HTML('<video width=300 controls><source src=\"{}\" type=\"video/mp4\"></video>'.format(data_url))"
   ]
  },
  {
   "cell_type": "code",
   "execution_count": null,
   "id": "29f38406",
   "metadata": {},
   "outputs": [],
   "source": [
    "name = 'Double pendulum'\n",
    "ax_labels = {'title':'Action and associated quantities ({})'.format(name),\n",
    "                 'x_label':'Optimizer Steps', 'y_label':'J * s'}\n",
    "fontsz = {'title': 16, 'x_label': 23, 'y_label': 28, 'legend': 10}\n",
    "fig = action_plot(info, x_sim, ax_labels, fontsz, L_fn=lagrangian_dblpend)\n",
    "plt.ylim(0, 7)\n",
    "path ='./static/{}_action.pdf'.format(name.lower().replace(' ', '')) ; print(path)\n",
    "plt.show() ; fig.savefig(path)"
   ]
  },
  {
   "cell_type": "markdown",
   "id": "afd88b2e",
   "metadata": {},
   "source": [
    "## Three body problem"
   ]
  },
  {
   "cell_type": "code",
   "execution_count": null,
   "id": "7224c798",
   "metadata": {
    "scrolled": true
   },
   "outputs": [],
   "source": [
    "t, x = simulate_3body()\n",
    "#make_video(x, path='sim.mp4', interval=60, ms=20)\n",
    "#mp4 = open('sim.mp4','rb').read()\n",
    "#data_url = \"data:video/mp4;base64,\" + b64encode(mp4).decode()\n",
    "#HTML('<video width=300 controls><source src=\"{}\" type=\"video/mp4\"></video>'.format(data_url))"
   ]
  },
  {
   "cell_type": "code",
   "execution_count": null,
   "id": "eea36bd7",
   "metadata": {},
   "outputs": [],
   "source": [
    "dt = 0.5 ; N = 3\n",
    "\n",
    "t_sim, x_sim = simulate_3body(dt=dt)\n",
    "init_path = PerturbedPath(x_sim, N=N, sigma=2e-2) # [time, N*2]\n",
    "t_min, path, xs_min, info = minimize_action(init_path, steps=125, step_size=1e1,\n",
    "                                       L_fn=lagrangian_3body, dt=dt, opt='sgd')"
   ]
  },
  {
   "cell_type": "code",
   "execution_count": null,
   "id": "ab198206",
   "metadata": {},
   "outputs": [],
   "source": [
    "\n",
    "fig = plt.figure(figsize=(8.3333, 6.25), dpi=300)\n",
    "ax = fig.add_subplot(111)\n",
    "\n",
    "N = x_sim.shape[-2]\n",
    "\n",
    "k = 30\n",
    "ax.plot(t_min, x_sim.reshape(-1,N*2)[...,k], 'r-', label='ODE solution', linewidth=5)\n",
    "ax.plot(t_min, xs_min[0].reshape(-1,N*2)[...,k], 'y.-', alpha=.3, label='Initial (random) path')\n",
    "for i, xi in enumerate(xs_min):\n",
    "    label = 'During optimization' if i==10 else None\n",
    "    ax.plot(t_min, xs_min[i].detach().numpy().reshape(-1,N*2)[...,k], alpha=.3 + .7 * i/(17), color=plt.cm.viridis( 1-i/(17) ), label=label)\n",
    "ax.plot(t_min, xs_min[-1].detach().numpy().reshape(-1,N*2)[...,k], 'b.-', label='Final (optimized) path')\n",
    "ax.plot(t_min[[0,-1]], xs_min[0].detach().numpy().reshape(-1,N*2)[...,k][[0,-1]], 'b+', markersize=15, label='Points held constant')\n",
    "\n",
    "\n",
    "ax_labels = {'title':'Ball {} X-Coordinate vs. Time'.format(1 + k//2),\n",
    "             'x_label':'Time (s)', 'y_label':'Position (m)'}\n",
    "\n",
    "Plot_help(ax, ax_labels)"
   ]
  },
  {
   "cell_type": "code",
   "execution_count": null,
   "id": "fb7b69e2",
   "metadata": {},
   "outputs": [],
   "source": [
    "xs = xs_min[0].detach().numpy().reshape(-1,N,2)\n",
    "make_video(xs, path='sim.mp4', interval=60, ms=20)\n",
    "mp4 = open('sim.mp4','rb').read()\n",
    "data_url = \"data:video/mp4;base64,\" + b64encode(mp4).decode()\n",
    "HTML('<video width=300 controls><source src=\"{}\" type=\"video/mp4\"></video>'.format(data_url))"
   ]
  },
  {
   "cell_type": "code",
   "execution_count": null,
   "id": "847a036b",
   "metadata": {},
   "outputs": [],
   "source": [
    "xs = xs_min[-1].detach().numpy().reshape(-1,N,2)\n",
    "make_video(xs, path='sim.mp4', interval=30, ms=20)\n",
    "mp4 = open('sim.mp4','rb').read()\n",
    "data_url = \"data:video/mp4;base64,\" + b64encode(mp4).decode()\n",
    "HTML('<video width=300 controls><source src=\"{}\" type=\"video/mp4\"></video>'.format(data_url))"
   ]
  },
  {
   "cell_type": "code",
   "execution_count": null,
   "id": "46cee422",
   "metadata": {},
   "outputs": [],
   "source": [
    "name = 'Three body'\n",
    "ax_labels = {'title':'Action and associated quantities ({})'.format(name),\n",
    "                 'x_label':'Optimizer Steps', 'y_label':'J * s'}\n",
    "fig = action_plot(info, x_sim, ax_labels, L_fn=lagrangian_3body)\n",
    "#plt.ylim(-400, 200)\n",
    "path ='./static/{}_action.pdf'.format(name.lower().replace(' ', '')) ; print(path)\n",
    "plt.show() #; fig.savefig(path)"
   ]
  },
  {
   "cell_type": "markdown",
   "id": "b135af0f",
   "metadata": {},
   "source": [
    "## Gas simulation"
   ]
  },
  {
   "cell_type": "code",
   "execution_count": null,
   "id": "74d7230a",
   "metadata": {},
   "outputs": [],
   "source": [
    "t, x = simulate_gas(dt=.5, N=50)\n",
    "\n",
    "make_video(x, path='sim.mp4', interval=30)\n",
    "mp4 = open('sim.mp4','rb').read()\n",
    "data_url = \"data:video/mp4;base64,\" + b64encode(mp4).decode()\n",
    "HTML('<video width=300 controls><source src=\"{}\" type=\"video/mp4\"></video>'.format(data_url))"
   ]
  },
  {
   "cell_type": "code",
   "execution_count": null,
   "id": "4c7dfe29",
   "metadata": {},
   "outputs": [],
   "source": [
    "dt = 0.5 ; N = 50\n",
    "t_sim, x_sim = simulate_gas(dt=dt, N=N)\n",
    "init_path = PerturbedPath(x_sim, N=N, sigma=1e-2) # [time, N*2]\n",
    "t_min, path, xs_min, info = minimize_action(init_path, steps=500, step_size=1e1,\n",
    "                                       L_fn=lagrangian_gas, dt=dt, opt='sgd')"
   ]
  },
  {
   "cell_type": "code",
   "execution_count": null,
   "id": "43231d86",
   "metadata": {},
   "outputs": [],
   "source": [
    "N = x_sim.shape[-2]\n",
    "xs_before = xs_min[0].detach().numpy().reshape(-1,N,2)\n",
    "xs_after = xs_min[-1].detach().numpy().reshape(-1,N,2)\n",
    "\n",
    "k = 25\n",
    "plt.figure(dpi=100)\n",
    "plt.title('Ball {} horiz. velocity vs. time'.format(1 + k//2))\n",
    "plt.plot((xs_before[1:] - xs_before[:-1]).reshape(-1,N*2)[...,k], '.-', label='Initial path')\n",
    "plt.plot((xs_after[1:] - xs_after[:-1]).reshape(-1,N*2)[...,k], '.-', label='Minimum action')\n",
    "plt.plot((x_sim[1:] - x_sim[:-1]).reshape(-1,N*2)[...,k], 'k-', label='Simulator')\n",
    "plt.legend()\n",
    "plt.show()"
   ]
  },
  {
   "cell_type": "code",
   "execution_count": null,
   "id": "93a05463",
   "metadata": {},
   "outputs": [],
   "source": [
    "xs = xs_min[0].detach().numpy().reshape(-1,N,2)\n",
    "make_video(xs, path='sim.mp4', interval=30, ms=10)\n",
    "mp4 = open('sim.mp4','rb').read()\n",
    "data_url = \"data:video/mp4;base64,\" + b64encode(mp4).decode()\n",
    "HTML('<video width=300 controls><source src=\"{}\" type=\"video/mp4\"></video>'.format(data_url))"
   ]
  },
  {
   "cell_type": "code",
   "execution_count": null,
   "id": "07b2bac3",
   "metadata": {},
   "outputs": [],
   "source": [
    "name = 'Gas'\n",
    "ax_labels = {'title':'Action and associated quantities ({})'.format(name),\n",
    "                 'x_label':'Optimizer Steps', 'y_label':'J * s'}\n",
    "fig = action_plot(info, x_sim, ax_labels, L_fn=lagrangian_3body)\n",
    "# plt.ylim(None, 0.001)\n",
    "path ='./static/{}_action.pdf'.format(name.lower().replace(' ', '')) ; print(path)\n",
    "plt.show() #; fig.savefig(path)"
   ]
  },
  {
   "cell_type": "markdown",
   "id": "8f05f182",
   "metadata": {},
   "source": [
    "## Ephemeris dataset and simulation"
   ]
  },
  {
   "cell_type": "code",
   "execution_count": null,
   "id": "156ff5b1",
   "metadata": {},
   "outputs": [],
   "source": [
    "planets = ['sun', 'mercury', 'venus', 'earth', 'mars']\n",
    "data_dir = './data/'\n",
    "df = process_raw_ephemeris(planets, data_dir, last_n_days=365) #365\n",
    "\n",
    "t_sim, x_sim = simulate_planets(df, planets)\n",
    "plot_planets(df, planets)\n",
    "\n",
    "colors = get_planet_colors()\n",
    "for i, (planet, coords) in enumerate(zip(planets, x_sim.transpose(1,2,0))):\n",
    "    x, y = coords\n",
    "    plt.plot(x, y, ':', alpha=0.5, color=colors[planet], label=planets[i] + ' (sim)')\n",
    "    plt.plot(x[0], y[0], '+', color=colors[planet])\n",
    "    plt.plot(x[-1], y[-1], 'x', color=colors[planet])\n",
    "plt.axis('equal')\n",
    "plt.legend(fontsize=6,  loc='upper right', ncol=2) ; plt.show()"
   ]
  },
  {
   "cell_type": "code",
   "execution_count": null,
   "id": "95f7d04a",
   "metadata": {},
   "outputs": [],
   "source": [
    "dt = 24*60*60 ; N = len(planets)\n",
    "df = process_raw_ephemeris(planets, data_dir, last_n_days=365)\n",
    "t_sim, x_sim = simulate_planets(df, planets, dt=dt)\n",
    "init_path = PerturbedPath(x_sim, N=N, sigma=2e10, is_ephemeris=True) # [time, N*2]\n",
    "\n",
    "L_planets = partial(lagrangian_planets, masses=get_masses(planets))\n",
    "\n",
    "t_min, path, xs_min = minimize_action(init_path, steps=500, step_size=1e9,\n",
    "                                       L_fn=L_planets, dt=dt, opt='adam')"
   ]
  },
  {
   "cell_type": "code",
   "execution_count": null,
   "id": "3dbc5a1e",
   "metadata": {},
   "outputs": [],
   "source": [
    "plt.figure(figsize=[5,3], dpi=120)\n",
    "plt.title('Earth y coordinate')\n",
    "xs_sim = init_path.x_true\n",
    "xs_init = xs_min[0].detach().numpy().reshape(-1,N,2)\n",
    "xs_final = xs_min[-1].detach().numpy().reshape(-1,N,2)\n",
    "plt.plot(xs_sim[:,2,1], '--', label='sim')\n",
    "plt.plot(xs_init[:,2,1], alpha=0.5, label='init')\n",
    "plt.plot(xs_final[:,2,1], alpha=0.5, label='final')\n",
    "plt.legend()"
   ]
  },
  {
   "cell_type": "code",
   "execution_count": null,
   "id": "60a5a59a",
   "metadata": {},
   "outputs": [],
   "source": [
    "fig = plt.figure(figsize=[5,5], dpi=140)\n",
    "plot_planets(df, planets, fig=fig)\n",
    "colors = get_planet_colors()\n",
    "\n",
    "xs = xs_min[0].detach().numpy().reshape(-1,N,2)\n",
    "for i, (planet, coords) in enumerate(zip(planets, xs.transpose(1,2,0))):\n",
    "    x, y = coords\n",
    "    plt.plot(x, y, '.', alpha=0.3, color=colors[planet], label=planets[i] + ' (init)')\n",
    "    plt.plot(x[0], y[0], '+', color=colors[planet])\n",
    "    plt.plot(x[-1], y[-1], 'x', color=colors[planet])\n",
    "    \n",
    "xs = xs_min[-1].detach().numpy().reshape(-1,N,2)\n",
    "for i, (planet, coords) in enumerate(zip(planets, xs.transpose(1,2,0))):\n",
    "    x, y = coords\n",
    "    plt.plot(x, y, ':', alpha=0.5, color=colors[planet], label=planets[i] + ' (path)')\n",
    "\n",
    "plt.axis('equal')\n",
    "plt.legend(fontsize=6,  loc='upper right', ncol=3) ; plt.show()"
   ]
  },
  {
   "cell_type": "code",
   "execution_count": null,
   "id": "61e844ff",
   "metadata": {},
   "outputs": [],
   "source": []
  }
 ],
 "metadata": {
  "kernelspec": {
   "display_name": "Python 3 (ipykernel)",
   "language": "python",
   "name": "python3"
  },
  "language_info": {
   "codemirror_mode": {
    "name": "ipython",
    "version": 3
   },
   "file_extension": ".py",
   "mimetype": "text/x-python",
   "name": "python",
   "nbconvert_exporter": "python",
   "pygments_lexer": "ipython3",
   "version": "3.9.13"
  }
 },
 "nbformat": 4,
 "nbformat_minor": 5
}
