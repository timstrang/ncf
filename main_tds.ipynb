{
 "cells": [
  {
   "cell_type": "markdown",
   "id": "34ec1a40",
   "metadata": {},
   "source": [
    "## Simulation as Optimization: Finding Paths of Least Action with Gradient Descent\n",
    "Tim Strang and Sam Greydanus | 2023 | MIT License"
   ]
  },
  {
   "cell_type": "code",
   "execution_count": null,
   "id": "14dea2c7",
   "metadata": {},
   "outputs": [],
   "source": [
    "import numpy as np\n",
    "import pandas as pd\n",
    "import matplotlib.pyplot as plt\n",
    "import torch, time\n",
    "\n",
    "from celluloid import Camera\n",
    "from IPython.display import HTML\n",
    "from base64 import b64encode"
   ]
  },
  {
   "cell_type": "code",
   "execution_count": null,
   "id": "b3b82d1f",
   "metadata": {},
   "outputs": [],
   "source": [
    "%load_ext autoreload\n",
    "%autoreload 2"
   ]
  },
  {
   "cell_type": "code",
   "execution_count": null,
   "id": "50d20107",
   "metadata": {},
   "outputs": [],
   "source": [
    "from main import * # SimOpt code"
   ]
  },
  {
   "cell_type": "code",
   "execution_count": null,
   "id": "62668395",
   "metadata": {},
   "outputs": [],
   "source": [
    "def plot_action_stats(ax, S, T, V, S_ode, T_ode, V_ode):\n",
    "    alpha = .7\n",
    "    plot_config = [(S, 'k', '$S$', alpha), (T, 'r', '$\\sum_i T_i$', alpha),\n",
    "                   (-np.asarray(V), 'b', '$-\\sum_i V_i$', alpha),\n",
    "                   (S_ode, 'k:', '$S$ (ODE)', 1), (T_ode, 'r:', '$-\\sum_i T_i$ (ODE)', 1),\n",
    "                   (-V_ode, 'b:', '$-\\sum_i V_i$ (ODE)', 1)]\n",
    "    N = len(S)\n",
    "    for i, (x, fmt, label, alpha) in enumerate(plot_config):\n",
    "        if i <= 2:\n",
    "            ax.plot(np.arange(N), x, fmt, alpha=alpha, linewidth=4, label=label)\n",
    "        else:\n",
    "            ax.plot([0,N], [x]*2, fmt, alpha=alpha, linewidth=4, label=label)\n",
    "            \n",
    "def plot_helper(ax, ax_labels, fontsz, legend=False):\n",
    "    #plt.title(ax_labels['title'], fontweight=\"bold\")\n",
    "    if legend:\n",
    "        plt.legend(ncol=2, fontsize=fontsz['legend'])\n",
    "    #plt.xlabel(ax_labels['x_label'])\n",
    "    #plt.ylabel(ax_labels['y_label'])\n",
    "    #ax.xaxis.label.set_fontsize(fontsz['x_label'])\n",
    "    #ax.yaxis.label.set_fontsize(fontsz['y_label'])\n",
    "    #ax.title.set_fontsize(fontsz['title'])\n",
    "    ax.tick_params(axis='both', length=9, width=3, labelsize=15)\n",
    "    plt.tight_layout()  # helps clean up plots sometimes\n",
    "    \n",
    "def action_plot(info, x_sim, name, fontsz, ax_labels, L_fn, legend=False, fig=None, ylim=(None, None)):\n",
    "    fig = plt.figure(figsize=(6, 5.5), dpi=DPI)\n",
    "    ax = fig.add_subplot(111)\n",
    "    S_ode, T_ode, V_ode = action(torch.tensor(x_sim), L_fn=L_fn, dt=dt)\n",
    "    plot_action_stats(ax, info['S'], info['T'], info['V'], S_ode.sum(), T_ode.sum(), V_ode.sum())\n",
    "    plt.ylim(ylim[0], ylim[1])\n",
    "    path ='./static/{}_action.png'.format(name.lower().replace(' ', ''))\n",
    "    plot_helper(ax, ax_labels, fontsz, legend=legend)\n",
    "    plt.show() ; fig.savefig(path)\n",
    "\n",
    "def unity(x):\n",
    "    return x\n",
    "\n",
    "def dynamic_plot(t_sim, x_sim, t_min, xs_min, name, fontsz, ax_labels, plt_fn=unity, ylim=(None, None)):\n",
    "    fig = plt.figure(figsize=(7, 5), dpi=DPI) \n",
    "    ax = fig.add_subplot(111)\n",
    "    ax.plot(t_sim, plt_fn(x_sim), color='purple', ls='-', label='ODE solution', linewidth=2)\n",
    "    ax.scatter(t_sim, plt_fn(x_sim), color='purple', s=10)\n",
    "    ax.plot(t_min, plt_fn(xs_min[0]), 'y.-', alpha=.3, label='Initial (random) path')\n",
    "    for i, xi in enumerate(xs_min):\n",
    "        label = 'During optimization' if i==10 else None\n",
    "        ax.plot(t_min, plt_fn(xi), alpha=.3 + .7 * i/(len(xs_min)-1),\n",
    "                color=plt.cm.viridis(1-i/(len(xs_min)-1)), label=label)\n",
    "    ax.plot(t_min, plt_fn(xs_min[-1]), 'g.-', label='Final (optimized) path')\n",
    "    ax.plot(t_min[[0,-1]], plt_fn(xs_min[0])[[0,-1]], 'g+', markersize=17, label='Points held constant')\n",
    "\n",
    "    plt.ylim(ylim[0], ylim[1])\n",
    "    \n",
    "    plot_helper(ax, ax_labels, fontsz, legend = name=='Free body')\n",
    "    path ='./dynamic/{}.png'.format(name.lower().replace(' ', ''))\n",
    "    plt.show() ; fig.savefig(path)\n",
    "    \n",
    "\n",
    "DPI=300"
   ]
  },
  {
   "cell_type": "markdown",
   "id": "f901e2a0",
   "metadata": {},
   "source": [
    "## Free body"
   ]
  },
  {
   "cell_type": "code",
   "execution_count": null,
   "id": "e80c0121",
   "metadata": {},
   "outputs": [],
   "source": [
    "dt = 0.25 ; N = 1 ; steps = 60\n",
    "t_sim, x_sim = simulate_freebody(dt=dt, steps=steps)\n",
    "init_path = PerturbedPath(x_sim, N=N, coords=1, sigma=1.5e0, zero_basepath=True) # [time, N*2]\n",
    "t_min, path, xs_min, info = minimize_action(init_path, steps=550, step_size=1e0, \n",
    "                                       L_fn=lagrangian_freebody, dt=dt, opt='adam', verbose=False)"
   ]
  },
  {
   "cell_type": "code",
   "execution_count": null,
   "id": "c7cf9cea",
   "metadata": {},
   "outputs": [],
   "source": [
    "name = 'Free body'\n",
    "fontsz = {'title': 23, 'x_label': 23, 'y_label': 23, 'legend': 10}\n",
    "ax_labels = {'title':'Free Body Height vs Time',\n",
    "             'x_label':'Time (s)', 'y_label':'Height (m)'}\n",
    "dynamic_plot(t_sim, x_sim, t_min, xs_min, name, fontsz, ax_labels, ylim=(-5, 40))"
   ]
  },
  {
   "cell_type": "code",
   "execution_count": null,
   "id": "7d731ea5",
   "metadata": {
    "scrolled": true
   },
   "outputs": [],
   "source": [
    "ax_labels = {'title':'Action and associated quantities ({})'.format(name),\n",
    "                 'x_label':'Optimizer Steps', 'y_label':'J * s'}\n",
    "fontsz = {'title': 17, 'x_label': 23, 'y_label': 28, 'legend': 12}\n",
    "fig = action_plot(info, x_sim, name, fontsz, ax_labels, L_fn=lagrangian_freebody, legend=True, ylim=(-25, 25))"
   ]
  },
  {
   "cell_type": "code",
   "execution_count": null,
   "id": "be51ee8f",
   "metadata": {},
   "outputs": [],
   "source": [
    "path = 'hero_plot'\n",
    "\n",
    "def simplot(i, x_sim):\n",
    "    M_sim = int(len(x_sim)/5)\n",
    "    fig = plt.figure(figsize=(2, 2), dpi=DPI)\n",
    "    ax=fig.add_subplot(111)\n",
    "    j = i+1\n",
    "    plt.scatter(t_sim[:j*M_sim], x_sim[:j*M_sim], color='purple', s=4)\n",
    "    plt.plot(t_sim[:j*M_sim], x_sim[:j*M_sim], color='purple', linewidth=1)\n",
    "    plt.xlim(-1, t_sim.max()+1)\n",
    "    plt.ylim(-5, 40)\n",
    "    if i != 0:\n",
    "        plt.xticks([], []) ; plt.yticks([], []) # SJG comment - this approach works better\n",
    "        #plt.tick_params(axis='y', labelcolor='w')\n",
    "    \n",
    "    plt.tight_layout()\n",
    "    fig.savefig(path + f'/sim_{M_sim * j}.png')\n",
    "\n",
    "def minplot(i, min_slice):\n",
    "    fig = plt.figure(figsize=(2, 2), dpi=DPI)\n",
    "    plt.scatter(t_min, xs_min[int(min_slice[i])], color='g', s=4)\n",
    "    plt.plot(t_min, xs_min[int(min_slice[i])], 'g', linewidth=1)\n",
    "    plt.xlim(-1, t_min.max()+1)\n",
    "    plt.ylim(-2, 40)\n",
    "    #plt.title(f'Step {min_slice[i]}', fontweight='bold')\n",
    "    plt.plot(t_min[[0,-1]], xs_min[0].data[[0,-1]], 'g+', markersize=7)\n",
    "    plt.xticks([0, 5, 10, 15])\n",
    "    \n",
    "    if i != 0:\n",
    "        plt.xticks([], []) ; plt.yticks([], [])\n",
    "            \n",
    "    j = i\n",
    "    while j>0:\n",
    "        j = j-1\n",
    "        slc= int(min_slice[j])\n",
    "        plt.plot(t_min, xs_min[slc], alpha=.3 + .7*j/i, color=plt.cm.viridis(1-j/i))\n",
    "    plt.tight_layout()\n",
    "    fig.savefig(path + f'/min_{min_slice[i]}.png')\n",
    "    \n",
    "\n",
    "min_slice=[0, 3, 6, 9, -1]\n",
    "for i in range(5):\n",
    "    minplot(i, min_slice)\n",
    "    simplot(i, x_sim)"
   ]
  },
  {
   "cell_type": "markdown",
   "id": "cd4b0a28",
   "metadata": {},
   "source": [
    "## Single pendulum"
   ]
  },
  {
   "cell_type": "code",
   "execution_count": null,
   "id": "507558a0",
   "metadata": {},
   "outputs": [],
   "source": [
    "dt = 1 ; N = 1\n",
    "t_sim, x_sim = simulate_pend(dt=dt)\n",
    "init_path = PerturbedPath(x_sim, N=N, coords=1, sigma=3.0e-1, zero_basepath=False) # [time, N*2]\n",
    "init_path.x.data[3:-3] = init_path.x.data[3:-3] * 0.5\n",
    "t_min, path, xs_min, info = minimize_action(init_path, steps=2000, step_size=2e-2, L_fn=lagrangian_pend,\n",
    "                                            dt=dt, opt='adam', print_updates=3, e_coeff=1e2, verbose=False)"
   ]
  },
  {
   "cell_type": "code",
   "execution_count": null,
   "id": "b564d4e4",
   "metadata": {},
   "outputs": [],
   "source": [
    "def pend_height(xs):\n",
    "    return radial2cartesian_pend(xs)[...,1]\n",
    "\n",
    "name = 'Pendulum'\n",
    "fontsz = {'title': 19, 'x_label': 23, 'y_label': 23, 'legend': 10}\n",
    "ax_labels = {'title':'Pendulum Height vs Time',\n",
    "             'x_label':'Time (s)', 'y_label':'Height (m)'}\n",
    "\n",
    "dynamic_plot(t_sim, x_sim, t_min, xs_min, name, fontsz, ax_labels, plt_fn=pend_height)"
   ]
  },
  {
   "cell_type": "code",
   "execution_count": null,
   "id": "c2d2c6d8",
   "metadata": {},
   "outputs": [],
   "source": [
    "ax_labels = {'title':'Action and associated quantities ({})'.format(name),\n",
    "                 'x_label':'Optimizer Steps', 'y_label':'J * s'}\n",
    "fontsz = {'title': 18, 'x_label': 23, 'y_label': 28, 'legend': 10}\n",
    "action_plot(info, x_sim, name, fontsz, ax_labels, L_fn=lagrangian_pend, ylim=(-200, 200))"
   ]
  },
  {
   "cell_type": "markdown",
   "id": "60484543",
   "metadata": {},
   "source": [
    "## Double pendulum"
   ]
  },
  {
   "cell_type": "code",
   "execution_count": null,
   "id": "724b627c",
   "metadata": {},
   "outputs": [],
   "source": [
    "dt = 0.06 ; N = 2\n",
    "t_sim, x_sim = simulate_dblpend(dt=dt)\n",
    "init_path = PerturbedPath(x_sim, N=N, coords=1, sigma=1e0, zero_basepath=False)\n",
    "t_min, path, xs_min, info = minimize_action(init_path, steps=200, step_size=1e-1, \n",
    "                                            L_fn=lagrangian_dblpend, dt=dt, opt='adam', verbose=False)"
   ]
  },
  {
   "cell_type": "code",
   "execution_count": null,
   "id": "50e01a93",
   "metadata": {
    "scrolled": false
   },
   "outputs": [],
   "source": [
    "def dblpend_height(xs):\n",
    "    return radial2cartesian_dblpend(xs)[:, 1, 1]\n",
    "\n",
    "name = 'Double Pendulum'\n",
    "fontsz = {'title': 19, 'x_label': 23, 'y_label': 23, 'legend': 10}\n",
    "ax_labels = {'title':'Second Pendulum Height vs Time',\n",
    "             'x_label':'Time (s)', 'y_label':'Height (m)'}\n",
    "\n",
    "dynamic_plot(t_sim, x_sim, t_min, xs_min, name, fontsz, ax_labels, plt_fn=dblpend_height)"
   ]
  },
  {
   "cell_type": "code",
   "execution_count": null,
   "id": "4f0dae6d",
   "metadata": {},
   "outputs": [],
   "source": [
    "ax_labels = {'title':'Action and associated quantities ({})'.format(name),\n",
    "                 'x_label':'Optimizer Steps', 'y_label':'J * s'}\n",
    "fontsz = {'title': 16, 'x_label': 23, 'y_label': 28, 'legend': 10}\n",
    "action_plot(info, x_sim, name, fontsz, ax_labels, L_fn=lagrangian_dblpend, ylim=(0, 4))"
   ]
  },
  {
   "cell_type": "markdown",
   "id": "03aa0c52",
   "metadata": {},
   "source": [
    "## Three body problem"
   ]
  },
  {
   "cell_type": "code",
   "execution_count": null,
   "id": "a3aa5de0",
   "metadata": {},
   "outputs": [],
   "source": [
    "dt = 0.5 ; N = 3\n",
    "t_sim, x_sim = simulate_3body(dt=dt, stable_config=False)\n",
    "init_path = PerturbedPath(x_sim, N=N, sigma=3e-2) # [time, N*2]\n",
    "t_min, path, xs_min, info = minimize_action(init_path, steps=200, step_size=1e-3, L_fn=lagrangian_3body,\n",
    "                                            dt=dt, opt='adam', print_updates=10, e_coeff=0)"
   ]
  },
  {
   "cell_type": "code",
   "execution_count": null,
   "id": "b64a4c39",
   "metadata": {},
   "outputs": [],
   "source": [
    "N = x_sim.shape[-2]\n",
    "k=0\n",
    "def ball_xcoord(xs, shape=x_sim.shape, k=k):\n",
    "    return xs.reshape(shape)[:, 0, k]\n",
    "\n",
    "name = 'Three body'\n",
    "ax_labels = {'title':'Ball {} X-Coordinate vs. Time'.format(1 + k//2),\n",
    "             'x_label':'Time (s)', 'y_label':'Position (m)'}\n",
    "fontsz = {'title': 18, 'x_label': 23, 'y_label': 23, 'legend': 10}\n",
    "dynamic_plot(t_sim, x_sim, t_min, xs_min, name, fontsz, ax_labels, plt_fn=ball_xcoord)"
   ]
  },
  {
   "cell_type": "code",
   "execution_count": null,
   "id": "9bb54cf2",
   "metadata": {},
   "outputs": [],
   "source": [
    "ax_labels = {'title':'Action and associated quantities ({})'.format(name),\n",
    "                 'x_label':'Optimizer Steps', 'y_label':'J * s'}\n",
    "fontsz = {'title': 16, 'x_label': 23, 'y_label': 28, 'legend': 10}\n",
    "action_plot(info, x_sim, name, fontsz, ax_labels, L_fn=lagrangian_3body, ylim=(-.0001, .001))"
   ]
  },
  {
   "cell_type": "code",
   "execution_count": null,
   "id": "650521f1",
   "metadata": {},
   "outputs": [],
   "source": [
    "def plot_3body(x, do_bodies=False, colors=None, fig=None, fmt='-', **kwargs):\n",
    "    if fig is None:\n",
    "        plt.figure(figsize=[4,4], dpi=80)\n",
    "    if not colors:\n",
    "        colors = ['red', 'blue', 'green']\n",
    "    for i, c in enumerate(colors):\n",
    "        plt.plot(x[:,i,0], x[:,i,1], fmt, color=c, **kwargs)\n",
    "        if do_bodies:\n",
    "            plt.plot(x[-1,i,0], x[-1,i,1], '.', color=c, markersize=12)\n",
    "    plt.xlim(0.2,0.85) ; plt.ylim(0.2,0.85)\n",
    "    #plt.xlim(0,1) ; plt.ylim(0,1)\n",
    "\n",
    "fig = plt.figure(figsize=[4,4], dpi=80)\n",
    "colors = ['black', 'black', 'black']\n",
    "plot_3body(x_sim, fig=fig, do_bodies=True, fmt='--', alpha=0.7)\n",
    "plot_3body(xs_min[0].reshape(-1,3,2), fig=fig, do_bodies=True, fmt='-', alpha=0.3)\n",
    "plot_3body(xs_min[-1].reshape(-1,3,2), fig=fig, do_bodies=True, fmt='-', alpha=1)\n",
    "\n",
    "plt.tick_params(axis='both', length=9, width=3, labelsize=15)\n",
    "fig.savefig('dynamic/3body_2d.png')"
   ]
  },
  {
   "cell_type": "markdown",
   "id": "a7c6df08",
   "metadata": {},
   "source": [
    "## Gas simulation"
   ]
  },
  {
   "cell_type": "code",
   "execution_count": null,
   "id": "002d2c62",
   "metadata": {},
   "outputs": [],
   "source": [
    "dt = 0.5 ; N = 50\n",
    "t_sim, x_sim = simulate_gas(dt=dt, N=N)\n",
    "init_path = PerturbedPath(x_sim, N=N, sigma=1e-2)\n",
    "t_min, path, xs_min, info = minimize_action(init_path, steps=500, step_size=1e1,\n",
    "                                       L_fn=lagrangian_gas, dt=dt, opt='sgd')"
   ]
  },
  {
   "cell_type": "code",
   "execution_count": null,
   "id": "2a81d29f",
   "metadata": {},
   "outputs": [],
   "source": [
    "name = 'Gas'\n",
    "N = x_sim.shape[-2]\n",
    "k = 30\n",
    "\n",
    "def gas_xcoord(xs, N=N, k=k):\n",
    "    return xs.reshape(-1,N*2)[...,k]\n",
    "\n",
    "ax_labels = {'title':'Ball {} X-Coordinate vs. Time'.format(1 + k//2),\n",
    "             'x_label':'Time (s)', 'y_label':'Position (m)'}\n",
    "fontsz = {'title': 18, 'x_label': 23, 'y_label': 23, 'legend': 10}\n",
    "\n",
    "dynamic_plot(t_sim, x_sim, t_min, xs_min, name, fontsz, ax_labels, plt_fn=gas_xcoord)"
   ]
  },
  {
   "cell_type": "code",
   "execution_count": null,
   "id": "94c5f9ee",
   "metadata": {},
   "outputs": [],
   "source": [
    "ax_labels = {'title':'Action and associated quantities ({})'.format(name),\n",
    "                 'x_label':'Optimizer Steps', 'y_label':'J * s'}\n",
    "fontsz = {'title': 16, 'x_label': 23, 'y_label': 28, 'legend': 10}\n",
    "fig = action_plot(info, x_sim, name, fontsz, ax_labels, L_fn=lagrangian_3body)"
   ]
  },
  {
   "cell_type": "code",
   "execution_count": null,
   "id": "72aeb0c2",
   "metadata": {},
   "outputs": [],
   "source": [
    "def plot_particle(x, i, do_bodies=False, colors=None, fig=None, ls='-', color='k', **kwargs):\n",
    "    if fig is None:\n",
    "        plt.figure(figsize=[4,4], dpi=80)\n",
    "    plt.plot(x[:, i, 0], x[:, i, 1], ls=ls, color=color, linewidth=2, **kwargs)\n",
    "    if do_bodies:\n",
    "        plt.plot(x[-1,i,0], x[-1,i,1], '.', color='b', markersize=20)\n",
    "        plt.plot(x[0,i,0], x[0,i,1], '+', color='b', markersize=15, mew=2)\n",
    "    plt.xlim(0.2,0.85) ; plt.ylim(0.2,0.85)\n",
    "\n",
    "N = x_sim.shape[-2]\n",
    "obj = 31\n",
    "fig = plt.figure(figsize=[4,4], dpi=80)\n",
    "plot_particle(x_sim, obj, fig=fig, do_bodies=False, ls='--', color='purple', alpha=0.7)\n",
    "plot_particle(xs_min[0].reshape(-1,N,2), obj, fig=fig, do_bodies=False, color='y', alpha=0.7)\n",
    "plot_particle(xs_min[-1].reshape(-1,N,2), obj, fig=fig, do_bodies=True, color='g', alpha=1)\n",
    "plt.xlim(.5, .8)\n",
    "plt.ylim(.3, .6)\n",
    "\n",
    "plt.tick_params(axis='both', length=9, width=3, labelsize=15)\n",
    "fig.savefig('dynamic/gas_p31.png')"
   ]
  },
  {
   "cell_type": "markdown",
   "id": "a82adf61",
   "metadata": {},
   "source": [
    "## Ephemeris dataset and simulation"
   ]
  },
  {
   "cell_type": "code",
   "execution_count": null,
   "id": "1533e88d",
   "metadata": {},
   "outputs": [],
   "source": [
    "planets = ['sun', 'mercury', 'venus', 'earth', 'mars']\n",
    "data_dir = './data/'\n",
    "df = process_raw_ephemeris(planets, data_dir, last_n_days=365) #365\n",
    "\n",
    "t_sim, x_sim = simulate_planets(df, planets)\n",
    "plot_planets(df, planets)\n",
    "\n",
    "colors = get_planet_colors()\n",
    "for i, (planet, coords) in enumerate(zip(planets, x_sim.transpose(1,2,0))):\n",
    "    x, y = coords\n",
    "    plt.plot(x, y, ':', alpha=0.5, color=colors[planet], label=planets[i] + ' (sim)')\n",
    "    plt.plot(x[0], y[0], '+', color=colors[planet])\n",
    "    plt.plot(x[-1], y[-1], 'x', color=colors[planet])\n",
    "plt.axis('equal')\n",
    "plt.legend(fontsize=6,  loc='upper right', ncol=2) ; plt.show()"
   ]
  },
  {
   "cell_type": "code",
   "execution_count": null,
   "id": "40cafc57",
   "metadata": {},
   "outputs": [],
   "source": [
    "dt = 24*60*60 ; N = len(planets)\n",
    "df = process_raw_ephemeris(planets, data_dir, last_n_days=365)\n",
    "t_sim, x_sim = simulate_planets(df, planets, dt=dt)\n",
    "init_path = PerturbedPath(x_sim, N=N, sigma=2e10, is_ephemeris=True)\n",
    "\n",
    "L_planets = partial(lagrangian_planets, masses=get_masses(planets))\n",
    "\n",
    "t_min, path, xs_min, info = minimize_action(init_path, steps=500, step_size=1e9,\n",
    "                                       L_fn=L_planets, dt=dt, opt='adam')"
   ]
  },
  {
   "cell_type": "code",
   "execution_count": null,
   "id": "a9e7d262",
   "metadata": {},
   "outputs": [],
   "source": [
    "def earth_ycoord(xs, N=N):\n",
    "    return xs.reshape(-1,N,2)[:, 3, 1]\n",
    "\n",
    "ax_labels = {'title':'Earth Y-Coordinate',\n",
    "             'x_label':'Time (hr)', 'y_label':'Position (m)'}\n",
    "fontsz = {'title': 18, 'x_label': 23, 'y_label': 23, 'legend': 10}\n",
    "name = 'Ephemeris'\n",
    "\n",
    "dynamic_plot(t_sim, x_sim, t_min, xs_min, name, fontsz, ax_labels, plt_fn=earth_ycoord)"
   ]
  },
  {
   "cell_type": "code",
   "execution_count": null,
   "id": "1e10ac4f",
   "metadata": {},
   "outputs": [],
   "source": [
    "ax_labels = {'title':'Action and associated quantities ({})'.format(name),\n",
    "                 'x_label':'Optimizer Steps', 'y_label':'J * s'}\n",
    "fontsz = {'title': 16, 'x_label': 23, 'y_label': 28, 'legend': 10}\n",
    "action_plot(info, x_sim, name, fontsz, ax_labels, L_fn=lagrangian_3body, ylim=(-1e33, .8e34))"
   ]
  },
  {
   "cell_type": "code",
   "execution_count": null,
   "id": "d5086e71",
   "metadata": {},
   "outputs": [],
   "source": [
    "fig = plt.figure(figsize=[5,5], dpi=140)\n",
    "\n",
    "xsi = xs_min[0].detach().numpy().reshape(-1,N,2)\n",
    "xsf = xs_min[-1].detach().numpy().reshape(-1,N,2)\n",
    "sim = x_sim.reshape(-1,N,2)\n",
    "\n",
    "plt.plot(sim[:, 0, 0], sim[:, 0, 1], 'x', color='b', markersize=4)\n",
    "plt.plot(sim[:, 3, 0], sim[:, 3, 1], '.-', color='purple', markersize=4)\n",
    "plt.plot(xsi[:, 3, 0], xsi[:, 3, 1], '-.', color='y', alpha=0.3)\n",
    "plt.plot(xsf[:, 3, 0], xsf[:, 3, 1], '.-', color='g', alpha=1, markersize=5)\n",
    "plt.plot(xsi[[0, -1], 3, 0], xsi[[0, -1], 3, 1], '+', color='b', markersize=10, mew=2)\n",
    "\n",
    "plt.tick_params(axis='both', length=9, width=3, labelsize=15)\n",
    "    \n",
    "\n",
    "plt.axis('equal')\n",
    "plt.show()\n",
    "fig.savefig('dynamic/earth_xy.png')"
   ]
  },
  {
   "cell_type": "markdown",
   "id": "2ccfa2bc",
   "metadata": {},
   "source": [
    "# "
   ]
  },
  {
   "cell_type": "code",
   "execution_count": null,
   "id": "e04cd6a9",
   "metadata": {},
   "outputs": [],
   "source": [
    "fig = plt.figure(figsize=[5,5], dpi=140)\n",
    "plot_planets(df, planets, fig=fig)\n",
    "colors = get_planet_colors()\n",
    "\n",
    "xs = xs_min[0].detach().numpy().reshape(-1,N,2)\n",
    "for i, (planet, coords) in enumerate(zip(planets, xs.transpose(1,2,0))):\n",
    "    x, y = coords\n",
    "    plt.plot(x, y, '.', alpha=0.3, color=colors[planet], label=planets[i] + ' (init)')\n",
    "    plt.plot(x[0], y[0], '+', color=colors[planet])\n",
    "    plt.plot(x[-1], y[-1], 'x', color=colors[planet])\n",
    "    \n",
    "xs = xs_min[-1].detach().numpy().reshape(-1,N,2)\n",
    "for i, (planet, coords) in enumerate(zip(planets, xs.transpose(1,2,0))):\n",
    "    x, y = coords\n",
    "    plt.plot(x, y, ':', alpha=0.5, color=colors[planet], label=planets[i] + ' (path)')\n",
    "\n",
    "plt.axis('equal')\n",
    "plt.legend(fontsize=6,  loc='upper right', ncol=3) ; plt.show()"
   ]
  },
  {
   "cell_type": "code",
   "execution_count": null,
   "id": "c42874c2",
   "metadata": {},
   "outputs": [],
   "source": []
  }
 ],
 "metadata": {
  "kernelspec": {
   "display_name": "Python 3 (ipykernel)",
   "language": "python",
   "name": "python3"
  },
  "language_info": {
   "codemirror_mode": {
    "name": "ipython",
    "version": 3
   },
   "file_extension": ".py",
   "mimetype": "text/x-python",
   "name": "python",
   "nbconvert_exporter": "python",
   "pygments_lexer": "ipython3",
   "version": "3.9.13"
  }
 },
 "nbformat": 4,
 "nbformat_minor": 5
}
