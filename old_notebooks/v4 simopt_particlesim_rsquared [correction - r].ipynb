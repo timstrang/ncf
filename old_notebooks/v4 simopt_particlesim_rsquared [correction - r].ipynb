{
 "cells": [
  {
   "cell_type": "markdown",
   "id": "4731fdf1",
   "metadata": {},
   "source": [
    "## Simulation as Optimization: particle simulation"
   ]
  },
  {
   "cell_type": "code",
   "execution_count": null,
   "id": "699be0c8",
   "metadata": {},
   "outputs": [],
   "source": [
    "import numpy as np\n",
    "import matplotlib.pyplot as plt\n",
    "import torch\n",
    "\n",
    "from celluloid import Camera\n",
    "from IPython.display import HTML\n",
    "from base64 import b64encode"
   ]
  },
  {
   "cell_type": "code",
   "execution_count": null,
   "id": "2f53feea",
   "metadata": {},
   "outputs": [],
   "source": [
    "def make_video(xs, path, interval=60, **kwargs): # xs: [time, N, 2]\n",
    "    fig = plt.gcf() ; fig.set_dpi(100) ; fig.set_size_inches(3, 3)\n",
    "    camera = Camera(fig)\n",
    "    for i in range(xs.shape[0]):\n",
    "        plt.plot(xs[i][...,0], xs[i][...,1], 'k.', markersize=20)\n",
    "        plt.axis('equal') ; plt.xlim(0,1) ; plt.ylim(0,1)\n",
    "#         plt.xticks([], []); plt.yticks([], [])\n",
    "        camera.snap()\n",
    "    anim = camera.animate(blit=True, interval=interval, **kwargs)\n",
    "    anim.save(path) ; plt.close()"
   ]
  },
  {
   "cell_type": "markdown",
   "id": "df6fbb70",
   "metadata": {},
   "source": [
    "## Get a baseline simulation working"
   ]
  },
  {
   "cell_type": "code",
   "execution_count": null,
   "id": "4cb80ad5",
   "metadata": {},
   "outputs": [],
   "source": [
    "N = 2\n",
    "dt = 1\n",
    "np.random.seed(6)\n",
    "x0 = np.asarray([[0.4, 0.5], [0.6, 0.5]])\n",
    "v0 = np.random.randn(N,2)*0\n",
    "x1 = x0 + dt*v0"
   ]
  },
  {
   "cell_type": "code",
   "execution_count": null,
   "id": "0d5d2a3f",
   "metadata": {},
   "outputs": [],
   "source": [
    "# N = 6\n",
    "# dt = 1\n",
    "# np.random.seed(6)\n",
    "# # x0 = np.asarray([[0.4, 0.5], [0.6, 0.5]])\n",
    "# x0 = np.random.rand(N,2)*.5 + 0.25\n",
    "# # v0 = -np.ones((N,2))*.025 ; v0[:,1] *= 0\n",
    "# v0 = np.random.randn(N,2)*0\n",
    "# x1 = x0 + dt*v0"
   ]
  },
  {
   "cell_type": "code",
   "execution_count": null,
   "id": "3ecdcf01",
   "metadata": {},
   "outputs": [],
   "source": [
    "def potential_energy(xs, eps=1e-6, overlap_radius=0.05, scale_coeff=1e-4): # 1.5e-5\n",
    "    if len(xs.shape) > 2:\n",
    "        return sum([potential_energy(_xs, overlap_radius, scale_coeff) for _xs in xs]) # broadcast\n",
    "    else:\n",
    "        dist_matrix = ((xs[:,0:1] - xs[:,0:1].T).pow(2) + (xs[:,1:2] - xs[:,1:2].T).pow(2) + eps).sqrt()\n",
    "        dists = dist_matrix[torch.triu_indices(N,N,1).split(1)]\n",
    "        potentials =  (dists > overlap_radius) * 1/(dists + eps)  # 1/r^2\n",
    "        potentials += (dists < overlap_radius) * (10*(overlap_radius - dists) + 1/overlap_radius)\n",
    "        return - potentials.sum() * scale_coeff\n",
    "    \n",
    "def forces(xs, **kwargs):\n",
    "    xs.requires_grad = True\n",
    "    return torch.autograd.grad(potential_energy(xs), xs)[0]\n",
    "    \n",
    "print(potential_energy(torch.tensor(x0)))\n",
    "forces(torch.tensor(x0))"
   ]
  },
  {
   "cell_type": "code",
   "execution_count": null,
   "id": "274306aa",
   "metadata": {},
   "outputs": [],
   "source": [
    "def particle_numerical(x0, x1, dt, steps=25, box_width=1):\n",
    "    xs = [x0, x1]\n",
    "    ts = [0, dt]\n",
    "    v = (x1 - x0) / dt\n",
    "    x = xs[-1]\n",
    "    for i in range(steps-2):\n",
    "        a = forces(torch.tensor(x)).numpy() # get forces/accelerations\n",
    "        v = v + a*dt\n",
    "        x = x + v*dt\n",
    "        x = x % box_width\n",
    "        xs.append(x)\n",
    "        ts.append(ts[-1]+dt)\n",
    "    return np.asarray(ts), np.stack(xs)\n",
    "\n",
    "t_num, x_num = particle_numerical(x0, x1, dt)"
   ]
  },
  {
   "cell_type": "code",
   "execution_count": null,
   "id": "b3c06ea2",
   "metadata": {},
   "outputs": [],
   "source": [
    "xs = x_num\n",
    "path = 'sim.mp4' ; make_video(xs, path, interval=60)\n",
    "mp4 = open(path,'rb').read()\n",
    "data_url = \"data:video/mp4;base64,\" + b64encode(mp4).decode()\n",
    "\n",
    "HTML(\"\"\"\n",
    "<video width=300 controls>\n",
    "      <source src=\"%s\" type=\"video/mp4\">\n",
    "</video>\n",
    "\"\"\" % data_url)"
   ]
  },
  {
   "cell_type": "markdown",
   "id": "c45b1177",
   "metadata": {},
   "source": [
    "## Recover the same dynamics by minimizing the action"
   ]
  },
  {
   "cell_type": "code",
   "execution_count": null,
   "id": "c8946e00",
   "metadata": {},
   "outputs": [],
   "source": [
    "def lagrangian(q, m=1, g=1):\n",
    "    (x, xdot) = q\n",
    "    T = .5*m*xdot**2\n",
    "    V = potential_energy(x)\n",
    "#     print(T.sum().item(), V.item())\n",
    "    return T + V\n",
    "  \n",
    "def action(x, dt=1):\n",
    "    dx = x[1:] - x[:-1]\n",
    "    wraps = (dx.abs() > 0.9)\n",
    "    dx = -dx.sign()*(dx.abs()-1)*wraps + dx*(~wraps)\n",
    "    xdot = (dx) / dt\n",
    "    xdot = torch.cat([xdot, xdot[-1:]], axis=0)\n",
    "    return lagrangian(q=(x, xdot)).sum()\n",
    "\n",
    "def get_path_between(x, steps=1000, step_size=1e-2, dt=1, box_width=1):\n",
    "    t = np.linspace(0, len(x)-1, len(x)) * dt\n",
    "    xs = [x.clone().data]\n",
    "    for i in range(steps):\n",
    "        grad = torch.autograd.grad(action(x, dt), x)\n",
    "        grad_x = grad[0]\n",
    "        grad_x[[0,-1]] *= 0\n",
    "        x.data -= grad_x * step_size\n",
    "        \n",
    "        x = x % box_width # x is subject to modulo arithmetic\n",
    "\n",
    "        if i % (steps//15) == 0:\n",
    "            xs.append(x.clone().data)\n",
    "            print('step={:04d}, S={:.3e}'.format(i, action(x).item()))\n",
    "    return t, x, xs\n",
    "\n",
    "N = 2\n",
    "dt = 1\n",
    "np.random.seed(6)\n",
    "x0 = np.asarray([[0.4, 0.5],[0.6, 0.5]])\n",
    "v0 = np.random.randn(N,2)*0\n",
    "x1 = x0 + dt*v0\n",
    "t_num, x_num = particle_numerical(x0, x1, dt)\n",
    "x_sim = x_num\n",
    "x_num = xs_sim #xs_nopot\n",
    "\n",
    "x_noise = .005*np.random.randn(*x_num.shape).clip(-1,1)\n",
    "x_noise[:1] = x_noise[-1:] = 0\n",
    "x_pert = (x_num + x_noise).reshape(-1, N*2)\n",
    "x0 = torch.tensor(x_pert, requires_grad=True) # [time, N*2]\n",
    "t_min, x_min, xs_min = get_path_between(x0)"
   ]
  },
  {
   "cell_type": "code",
   "execution_count": null,
   "id": "5a4e5427",
   "metadata": {},
   "outputs": [],
   "source": [
    "xs_before = xs_min[0].detach().numpy().reshape(-1,N,2)\n",
    "xs_after = xs_min[-1].detach().numpy().reshape(-1,N,2)\n",
    "\n",
    "plt.figure(dpi=100)\n",
    "plt.title('Ball 2 horiz. velocity vs. time (R=0.025)')\n",
    "plt.plot((xs_before[1:] - xs_before[:-1]).reshape(-1,4)[:-1,0], '.-', label='Initial path')\n",
    "plt.plot((xs_after[1:] - xs_after[:-1]).reshape(-1,4)[:-1,0], '.-', label='Minimum action')\n",
    "plt.plot((xs_nopot[1:] - xs_nopot[:-1]).reshape(-1,4)[:-1,0], label='Minimum action, no potential')\n",
    "plt.plot((xs_sim[1:] - xs_sim[:-1]).reshape(-1,4)[:-1,0], 'k-', label='Simulator')\n",
    "plt.legend()\n",
    "plt.show()"
   ]
  },
  {
   "cell_type": "code",
   "execution_count": null,
   "id": "8226dcf4",
   "metadata": {},
   "outputs": [],
   "source": [
    "xs = xs_min[-1].detach().numpy().reshape(-1,N,2)\n",
    "\n",
    "path = 'sim.mp4' ; make_video(xs, path, interval=60)\n",
    "mp4 = open(path,'rb').read()\n",
    "data_url = \"data:video/mp4;base64,\" + b64encode(mp4).decode()\n",
    "\n",
    "HTML(\"\"\"\n",
    "<video width=300 controls>\n",
    "      <source src=\"%s\" type=\"video/mp4\">\n",
    "</video>\n",
    "\"\"\" % data_url) # min_action_no_forces"
   ]
  },
  {
   "cell_type": "code",
   "execution_count": null,
   "id": "068ef0c1",
   "metadata": {},
   "outputs": [],
   "source": []
  },
  {
   "cell_type": "code",
   "execution_count": null,
   "id": "83d52cc7",
   "metadata": {},
   "outputs": [],
   "source": []
  },
  {
   "cell_type": "code",
   "execution_count": null,
   "id": "73aae751",
   "metadata": {},
   "outputs": [],
   "source": [
    "xs_sim = xs_before"
   ]
  },
  {
   "cell_type": "code",
   "execution_count": null,
   "id": "ade56e74",
   "metadata": {},
   "outputs": [],
   "source": [
    "xs_nopot = xs_after"
   ]
  },
  {
   "cell_type": "code",
   "execution_count": null,
   "id": "8856440a",
   "metadata": {},
   "outputs": [],
   "source": []
  },
  {
   "cell_type": "code",
   "execution_count": null,
   "id": "308f0d91",
   "metadata": {},
   "outputs": [],
   "source": []
  },
  {
   "cell_type": "code",
   "execution_count": null,
   "id": "262013b5",
   "metadata": {},
   "outputs": [],
   "source": [
    "xs = xs_min[0].detach().numpy().reshape(-1,N,2)\n",
    "plt.title('Ball 2 horiz. velocity vs. time [before minimizing action]')\n",
    "plt.plot((xs[1:] - xs[:-1]).reshape(-1,4)[:-1,2])"
   ]
  },
  {
   "cell_type": "code",
   "execution_count": null,
   "id": "33508774",
   "metadata": {},
   "outputs": [],
   "source": []
  },
  {
   "cell_type": "code",
   "execution_count": null,
   "id": "af17d13b",
   "metadata": {},
   "outputs": [],
   "source": [
    "# no potential term"
   ]
  },
  {
   "cell_type": "code",
   "execution_count": null,
   "id": "9a9bf831",
   "metadata": {},
   "outputs": [],
   "source": [
    "xs = xs_min[0].detach().numpy().reshape(-1,N,2)\n",
    "xs = x_num\n",
    "\n",
    "path = 'sim.mp4' ; make_video(xs, path, interval=60)\n",
    "mp4 = open(path,'rb').read()\n",
    "data_url = \"data:video/mp4;base64,\" + b64encode(mp4).decode()\n",
    "\n",
    "HTML(\"\"\"\n",
    "<video width=300 controls>\n",
    "      <source src=\"%s\" type=\"video/mp4\">\n",
    "</video>\n",
    "\"\"\" % data_url)"
   ]
  },
  {
   "cell_type": "code",
   "execution_count": null,
   "id": "8ec1a87b",
   "metadata": {},
   "outputs": [],
   "source": []
  },
  {
   "cell_type": "code",
   "execution_count": null,
   "id": "224ecbf3",
   "metadata": {},
   "outputs": [],
   "source": []
  },
  {
   "cell_type": "code",
   "execution_count": null,
   "id": "e544baac",
   "metadata": {},
   "outputs": [],
   "source": []
  },
  {
   "cell_type": "code",
   "execution_count": null,
   "id": "b0183ae7",
   "metadata": {},
   "outputs": [],
   "source": [
    "# def _potential_energy(xs, do_overlap=False, eps=1e-6, overlap_radius=0.15):\n",
    "#     dist_matrix = ((xs[:,0:1] - xs[:,0:1].T)**2 + (xs[:,1:2] - xs[:,1:2].T)**2)**.5  # distance matrix\n",
    "# #     dist_matrix[torch.triu_indices(N,N,0).split(1)] = 100\n",
    "#     print(dist_matrix)\n",
    "#     return (dist_matrix + eps).sum()\n",
    "# #     return (1/(dist_matrix + eps)).sum()\n",
    "# #     dist_matrix[torch.triu_indices(N,N,0).split(1)] = torch.inf  # we only care about lower triangle\n",
    "# #     is_overlapping = (dist_matrix < overlap_radius)\n",
    "# #     potentials = ~is_overlapping * 1/(dist_matrix + eps)  # 1/r^2 potential if not overlapping\n",
    "# #     if do_overlap:\n",
    "# #         dist_matrix[torch.triu_indices(N,N,0).split(1)] = 0  # now these need to be zero\n",
    "# #         potentials += is_overlapping * (5*(overlap_radius - dist_matrix) + 1/overlap_radius) # c*(R-r)\n",
    "# #     return potentials.sum()\n",
    "\n",
    "# def potential_energy(xs, **kwargs):\n",
    "#     if type(xs) == np.ndarray:\n",
    "#         xs = torch.tensor(xs)\n",
    "#     if len(xs.shape) > 2:\n",
    "#         return sum([potential_energy(_xs, **kwargs) for _xs in xs]) # broadcast across additional axes\n",
    "#     else:\n",
    "#         return _potential_energy(xs, **kwargs)\n",
    "    \n",
    "# potential_energy(x_num[0], do_overlap=True)"
   ]
  },
  {
   "cell_type": "code",
   "execution_count": null,
   "id": "7e82464b",
   "metadata": {},
   "outputs": [],
   "source": []
  }
 ],
 "metadata": {
  "kernelspec": {
   "display_name": "Python 3 (ipykernel)",
   "language": "python",
   "name": "python3"
  },
  "language_info": {
   "codemirror_mode": {
    "name": "ipython",
    "version": 3
   },
   "file_extension": ".py",
   "mimetype": "text/x-python",
   "name": "python",
   "nbconvert_exporter": "python",
   "pygments_lexer": "ipython3",
   "version": "3.8.5"
  }
 },
 "nbformat": 4,
 "nbformat_minor": 5
}
