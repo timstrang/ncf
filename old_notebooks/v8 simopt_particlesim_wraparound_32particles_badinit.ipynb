{
 "cells": [
  {
   "cell_type": "markdown",
   "id": "61e04e48",
   "metadata": {},
   "source": [
    "## Simulation as Optimization: particle simulation"
   ]
  },
  {
   "cell_type": "code",
   "execution_count": null,
   "id": "816e6c82",
   "metadata": {},
   "outputs": [],
   "source": [
    "import numpy as np\n",
    "import matplotlib.pyplot as plt\n",
    "import torch\n",
    "\n",
    "from celluloid import Camera\n",
    "from IPython.display import HTML\n",
    "from base64 import b64encode"
   ]
  },
  {
   "cell_type": "code",
   "execution_count": null,
   "id": "158ba5d9",
   "metadata": {},
   "outputs": [],
   "source": [
    "def make_video(xs, path, interval=60, **kwargs): # xs: [time, N, 2]\n",
    "    fig = plt.gcf() ; fig.set_dpi(100) ; fig.set_size_inches(3, 3)\n",
    "    camera = Camera(fig)\n",
    "    for i in range(xs.shape[0]):\n",
    "        plt.plot(xs[i][...,0], xs[i][...,1], 'k.', markersize=20)\n",
    "        plt.axis('equal') ; plt.xlim(0,1) ; plt.ylim(0,1)\n",
    "#         plt.xticks([], []); plt.yticks([], [])\n",
    "        camera.snap()\n",
    "    anim = camera.animate(blit=True, interval=interval, **kwargs)\n",
    "    anim.save(path) ; plt.close()"
   ]
  },
  {
   "cell_type": "markdown",
   "id": "964911d7",
   "metadata": {},
   "source": [
    "## Get a baseline simulation working"
   ]
  },
  {
   "cell_type": "code",
   "execution_count": null,
   "id": "76a6031e",
   "metadata": {},
   "outputs": [],
   "source": [
    "# N = 2\n",
    "# dt = .5\n",
    "# np.random.seed(6)\n",
    "# x0 = np.asarray([[0.4, 0.5], [0.6, 0.5]])\n",
    "# v0 = np.random.randn(N,2)*0\n",
    "# x1 = x0 + dt*v0"
   ]
  },
  {
   "cell_type": "code",
   "execution_count": null,
   "id": "3819e9b3",
   "metadata": {},
   "outputs": [],
   "source": [
    "N = 32\n",
    "dt = 1\n",
    "np.random.seed(6)\n",
    "x0 = np.random.rand(N,2)*.5 + 0.25\n",
    "v0 = np.random.randn(N,2)*0\n",
    "x1 = x0 + dt*v0"
   ]
  },
  {
   "cell_type": "code",
   "execution_count": null,
   "id": "8e6657b8",
   "metadata": {},
   "outputs": [],
   "source": [
    "def potential_energy(xs, eps=1e-6, overlap_radius=0.05, scale_coeff=1e-6): # 1e-5\n",
    "    if len(xs.shape) > 2:\n",
    "        return sum([potential_energy(_xs, overlap_radius, scale_coeff) for _xs in xs]) # broadcast\n",
    "    else:\n",
    "        \n",
    "        dist_matrix = ((xs[:,0:1] - xs[:,0:1].T).pow(2) + (xs[:,1:2] - xs[:,1:2].T).pow(2) + eps).sqrt()\n",
    "        dists = dist_matrix[torch.triu_indices(xs.shape[0], xs.shape[0], 1).split(1)]\n",
    "        potentials  = (dists > 1-overlap_radius) * (1e2*(overlap_radius - (2-dists)) + 1/overlap_radius**2) # cap\n",
    "        potentials += (dists > 0.5) * (dists < 1-overlap_radius) * 1/(1-dists + eps)**2  # 1/(1-r)^2 (wraparound)\n",
    "        potentials += (dists > overlap_radius)* (dists < 0.5) * 1/(dists + eps)**2  # 1/r^2\n",
    "        potentials += (dists < overlap_radius) * (5e2*(overlap_radius - dists) + 1/overlap_radius**2)  # cap\n",
    "        return - potentials.sum() * scale_coeff\n",
    "    \n",
    "def forces(xs, **kwargs):\n",
    "    xs.requires_grad = True\n",
    "    return torch.autograd.grad(potential_energy(xs), xs)[0]\n",
    "    \n",
    "print(potential_energy(torch.tensor(x0)))\n",
    "forces(torch.tensor(x0))[:5]"
   ]
  },
  {
   "cell_type": "code",
   "execution_count": null,
   "id": "30648c85",
   "metadata": {},
   "outputs": [],
   "source": [
    "def particle_numerical(x0, x1, dt, steps=100, box_width=1):\n",
    "    xs = [x0, x1]\n",
    "    ts = [0, dt]\n",
    "    v = (x1 - x0) / dt\n",
    "    x = xs[-1]\n",
    "    for i in range(steps-2):\n",
    "        a = forces(torch.tensor(x)).numpy() # get forces/accelerations\n",
    "        v = v + a*dt\n",
    "        x = x + v*dt\n",
    "        x = x % box_width\n",
    "        xs.append(x)\n",
    "        ts.append(ts[-1]+dt)\n",
    "    return np.asarray(ts), np.stack(xs)\n",
    "\n",
    "t_num, x_num = particle_numerical(x0, x1, dt)"
   ]
  },
  {
   "cell_type": "code",
   "execution_count": null,
   "id": "13fc61b0",
   "metadata": {},
   "outputs": [],
   "source": [
    "xs = x_num\n",
    "path = 'sim.mp4' ; make_video(xs, path, interval=60)\n",
    "mp4 = open(path,'rb').read()\n",
    "data_url = \"data:video/mp4;base64,\" + b64encode(mp4).decode()\n",
    "\n",
    "HTML(\"\"\"\n",
    "<video width=300 controls>\n",
    "      <source src=\"%s\" type=\"video/mp4\">\n",
    "</video>\n",
    "\"\"\" % data_url)"
   ]
  },
  {
   "cell_type": "code",
   "execution_count": null,
   "id": "6816e803",
   "metadata": {},
   "outputs": [],
   "source": [
    "def interp_path(xs): # xs [time, ...]\n",
    "    path = [] ; N = xs.shape[0] - 1\n",
    "    for i in range(xs.shape[0]):\n",
    "        path.append( (1-i/N) * xs[0] + (i/N) * xs[-1] )\n",
    "    return np.stack(path)\n",
    "\n",
    "xs = interp_path(x_num)\n",
    "path = 'sim.mp4' ; make_video(xs, path, interval=60)\n",
    "mp4 = open(path,'rb').read()\n",
    "data_url = \"data:video/mp4;base64,\" + b64encode(mp4).decode()\n",
    "\n",
    "HTML(\"\"\"\n",
    "<video width=300 controls>\n",
    "      <source src=\"%s\" type=\"video/mp4\">\n",
    "</video>\n",
    "\"\"\" % data_url)"
   ]
  },
  {
   "cell_type": "markdown",
   "id": "2b0700a3",
   "metadata": {},
   "source": [
    "## Recover the same dynamics by minimizing the action"
   ]
  },
  {
   "cell_type": "code",
   "execution_count": null,
   "id": "ef6864a2",
   "metadata": {},
   "outputs": [],
   "source": [
    "def lagrangian(q, m=1, g=1):\n",
    "    (x, xdot) = q\n",
    "    T = .5*m*xdot**2\n",
    "    N = x.shape[-1] // 2\n",
    "    V = potential_energy(x.reshape(-1, N, 2))\n",
    "#     print(T.sum().item(), V.sum().item())\n",
    "    return (T.sum() - V.sum()) / (x.shape[0]*N)\n",
    "  \n",
    "def action(x, dt=1):\n",
    "    dx = x[1:] - x[:-1]\n",
    "    wraps = (dx.abs() > 0.9)\n",
    "    dx = -dx.sign()*(dx.abs()-1)*wraps + dx*(~wraps)\n",
    "    xdot = dx / dt\n",
    "    xdot = torch.cat([xdot, xdot[-1:]], axis=0)\n",
    "    return lagrangian(q=(x, xdot)).sum()\n",
    "\n",
    "def get_path_between(x, steps=3000, step_size=1e3, dt=1, box_width=1):\n",
    "    t = np.linspace(0, len(x)-1, len(x)) * dt\n",
    "    xs = [x.clone().data]\n",
    "    for i in range(steps):\n",
    "        grad = torch.autograd.grad(action(x, dt), x)\n",
    "        grad_x = grad[0]\n",
    "        grad_x[[0,-1]] *= 0\n",
    "        x.data -= grad_x * step_size\n",
    "        x = x % box_width # x is subject to modulo arithmetic\n",
    "\n",
    "        if i % (steps//15) == 0:\n",
    "            xs.append(x.clone().data)\n",
    "            print('step={:04d}, S={:.3e}'.format(i, action(x).item()))\n",
    "    return t, x, xs\n",
    "\n",
    "N = 32\n",
    "dt = 1\n",
    "np.random.seed(6)\n",
    "x0 = np.random.rand(N,2)*.5 + 0.25\n",
    "v0 = np.random.randn(N,2)*0\n",
    "x1 = x0 + dt*v0\n",
    "\n",
    "t_num, x_num = particle_numerical(x0, x1, dt)\n",
    "x_sim = x_num\n",
    "x_lin = interp_path(x_num)\n",
    "\n",
    "x_noise = .00*np.random.randn(*x_lin.shape).clip(-1,1)\n",
    "x_noise[:1] = x_noise[-1:] = 0\n",
    "x_pert = (x_lin + x_noise).reshape(-1, N*2)\n",
    "x0 = torch.tensor(x_pert, requires_grad=True) # [time, N*2]\n",
    "t_min, x_min, xs_min = get_path_between(x0, dt=dt)"
   ]
  },
  {
   "cell_type": "code",
   "execution_count": null,
   "id": "af322245",
   "metadata": {},
   "outputs": [],
   "source": [
    "xs_before = xs_min[0].detach().numpy().reshape(-1,N,2)\n",
    "xs_after = xs_min[-1].detach().numpy().reshape(-1,N,2)\n",
    "\n",
    "k = 25\n",
    "plt.figure(dpi=100)\n",
    "plt.title('Ball {} horiz. velocity vs. time'.format(1 + k//2))\n",
    "plt.plot((xs_before[1:] - xs_before[:-1]).reshape(-1,N*2)[...,k], '.-', label='Initial path')\n",
    "plt.plot((xs_after[1:] - xs_after[:-1]).reshape(-1,N*2)[...,k], '.-', label='Minimum action')\n",
    "plt.plot((x_sim[1:] - x_sim[:-1]).reshape(-1,N*2)[...,k], 'k-', label='Simulator')\n",
    "plt.legend()\n",
    "plt.show()"
   ]
  },
  {
   "cell_type": "code",
   "execution_count": null,
   "id": "b7024719",
   "metadata": {},
   "outputs": [],
   "source": []
  },
  {
   "cell_type": "code",
   "execution_count": null,
   "id": "c9e189c6",
   "metadata": {},
   "outputs": [],
   "source": [
    "xs = xs_min[0].detach().numpy().reshape(-1,N,2)\n",
    "# xs = x_num\n",
    "\n",
    "path = 'sim.mp4' ; make_video(xs, path, interval=60)\n",
    "mp4 = open(path,'rb').read()\n",
    "data_url = \"data:video/mp4;base64,\" + b64encode(mp4).decode()\n",
    "\n",
    "HTML(\"\"\"\n",
    "<video width=300 controls>\n",
    "      <source src=\"%s\" type=\"video/mp4\">\n",
    "</video>\n",
    "\"\"\" % data_url)"
   ]
  },
  {
   "cell_type": "code",
   "execution_count": null,
   "id": "6c178305",
   "metadata": {},
   "outputs": [],
   "source": [
    "xs = xs_min[-1].detach().numpy().reshape(-1,N,2)\n",
    "\n",
    "path = 'sim.mp4' ; make_video(xs, path, interval=60)\n",
    "mp4 = open(path,'rb').read()\n",
    "data_url = \"data:video/mp4;base64,\" + b64encode(mp4).decode()\n",
    "\n",
    "HTML(\"\"\"\n",
    "<video width=300 controls>\n",
    "      <source src=\"%s\" type=\"video/mp4\">\n",
    "</video>\n",
    "\"\"\" % data_url) # min_action_no_forces"
   ]
  },
  {
   "cell_type": "code",
   "execution_count": null,
   "id": "e73dbb17",
   "metadata": {},
   "outputs": [],
   "source": []
  },
  {
   "cell_type": "code",
   "execution_count": null,
   "id": "1dcf4cc6",
   "metadata": {},
   "outputs": [],
   "source": []
  },
  {
   "cell_type": "code",
   "execution_count": null,
   "id": "d0b7adb0",
   "metadata": {},
   "outputs": [],
   "source": []
  },
  {
   "cell_type": "code",
   "execution_count": null,
   "id": "2e5ad254",
   "metadata": {},
   "outputs": [],
   "source": []
  },
  {
   "cell_type": "code",
   "execution_count": null,
   "id": "f9f413c0",
   "metadata": {},
   "outputs": [],
   "source": []
  },
  {
   "cell_type": "code",
   "execution_count": null,
   "id": "cc7eb2fb",
   "metadata": {},
   "outputs": [],
   "source": []
  },
  {
   "cell_type": "code",
   "execution_count": null,
   "id": "a7967993",
   "metadata": {},
   "outputs": [],
   "source": []
  }
 ],
 "metadata": {
  "kernelspec": {
   "display_name": "Python 3 (ipykernel)",
   "language": "python",
   "name": "python3"
  },
  "language_info": {
   "codemirror_mode": {
    "name": "ipython",
    "version": 3
   },
   "file_extension": ".py",
   "mimetype": "text/x-python",
   "name": "python",
   "nbconvert_exporter": "python",
   "pygments_lexer": "ipython3",
   "version": "3.8.5"
  }
 },
 "nbformat": 4,
 "nbformat_minor": 5
}
