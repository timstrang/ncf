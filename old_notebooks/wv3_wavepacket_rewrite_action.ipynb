{
 "cells": [
  {
   "cell_type": "markdown",
   "metadata": {
    "id": "B0BLtVxuDluL"
   },
   "source": [
    "# SimOpt: quantum wave packet"
   ]
  },
  {
   "cell_type": "code",
   "execution_count": null,
   "metadata": {
    "id": "PB5Xs-4FDpg5"
   },
   "outputs": [],
   "source": [
    "import csv, math, os, shutil, sys\n",
    "import matplotlib.pyplot as plt\n",
    "import numpy as np\n",
    "import torch\n",
    "from matplotlib.animation import FuncAnimation\n",
    "\n",
    "# !pip install celluloid\n",
    "from celluloid import Camera\n",
    "from IPython.display import HTML\n",
    "from base64 import b64encode"
   ]
  },
  {
   "cell_type": "code",
   "execution_count": null,
   "metadata": {
    "colab": {
     "base_uri": "https://localhost:8080/",
     "height": 294
    },
    "id": "guf3qnFluPCg",
    "outputId": "09dd9682-be72-4799-9ee6-afd471bea3bc"
   },
   "outputs": [],
   "source": [
    "def V(x, N):\n",
    "    return np.linspace(1, -1, N)\n",
    "\n",
    "def gaussian(x, mu, sig):\n",
    "    norm = math.sqrt(2 * math.pi) * sig\n",
    "    return np.exp(-((x - mu) * (x - mu)) / (2 * sig * sig)) / norm\n",
    "\n",
    "def construct_operators(N, alpha, beta):\n",
    "    ST, SV = np.zeros((2, N, N)) # both are [N x N] matrices\n",
    "    temp = np.arange(N)\n",
    "    for l in range(N):\n",
    "        ST[:, l] += temp\n",
    "        ST[l, :] -= np.transpose(temp)\n",
    "        SV[:, l] += V(temp, N)\n",
    "        SV[l, :] -= V(np.transpose(temp), N)\n",
    "\n",
    "    ST *= alpha * ST\n",
    "    SV *= beta\n",
    "    ST = torch.tensor(ST) * 1\n",
    "    SV = torch.tensor(SV) * 0\n",
    "    K = (torch.complex(0*ST, ST) - torch.complex(0*SV, SV)).exp()\n",
    "    return ST, SV, K\n",
    "\n",
    "def normalize(psi):\n",
    "    return psi / psi.norm() #.abs().pow(2).sum().detach()\n",
    "\n",
    "class ObjectView(object):\n",
    "    def __init__(self, d): self.__dict__ = d\n",
    "        \n",
    "def init(constants):\n",
    "    dx = constants.xrange / constants.numdx  # scalar\n",
    "    dt = constants.trange / constants.numdt  # scalar\n",
    "    alpha = constants.m * (dx ** 2 / (2 * constants.hbar ** 2 * dt))  # scalar\n",
    "    beta = dt / constants.hbar ** 2  # scalar\n",
    "    x = np.linspace(0, constants.xrange, constants.numdx)\n",
    "    t = np.linspace(0, constants.trange, constants.numdt)\n",
    "\n",
    "    ST, SV, K = construct_operators(constants.numdx, alpha, beta) # all three are [numdx x numdx]\n",
    "\n",
    "    r0 = gaussian(x, 1.5, .5)[:,None] # r0: [N x 1]\n",
    "    r0[0, 0] = r0[-1, 0] = 0\n",
    "    q0 = np.concatenate((np.cos(constants.mom * x)[:,None] * r0,\n",
    "                         np.sin(constants.mom * x)[:,None] * r0), axis=1)\n",
    "    q = torch.view_as_complex(torch.tensor(q0))\n",
    "    return x, t, ST, SV, K, q\n",
    "\n",
    "def make_video(x, qs, path, interval=60, **kwargs): # xs: [time, N, 2]\n",
    "    plt.title('Dynamics of a 1D gaussian wave packet')\n",
    "    fig = plt.gcf() ; fig.set_dpi(100) ; fig.set_size_inches(5, 3)\n",
    "    camera = Camera(fig)\n",
    "    for i, q in enumerate(qs):\n",
    "        probs = (q.conj() * q).real.detach()\n",
    "        plt.plot(x, probs, 'b', label='Spatial probability')\n",
    "        camera.snap()\n",
    "    anim = camera.animate(blit=True, interval=interval, **kwargs)\n",
    "    anim.save(path) ; plt.close()\n",
    "    \n",
    "def simulate(q, K, steps=500):\n",
    "    q = normalize(q)\n",
    "    qs = [q.clone()]\n",
    "    for i in range(steps):\n",
    "        q = normalize(q @ K)\n",
    "        qs.append(q.clone())\n",
    "    return torch.stack(qs)"
   ]
  },
  {
   "cell_type": "code",
   "execution_count": null,
   "metadata": {},
   "outputs": [],
   "source": []
  },
  {
   "cell_type": "code",
   "execution_count": null,
   "metadata": {},
   "outputs": [],
   "source": [
    "%%time\n",
    "constants = dict(hbar=1, m=1, numdx=1500, numdt=150, xrange=3.5, trange=1, mom=10)  # constants\n",
    "constants = ObjectView(constants) # dict -> object\n",
    "\n",
    "x, t, ST, SV, K, q = init(constants)"
   ]
  },
  {
   "cell_type": "code",
   "execution_count": null,
   "metadata": {},
   "outputs": [],
   "source": [
    "# plt.plot(x, (q.conj() * q).real.detach())"
   ]
  },
  {
   "cell_type": "code",
   "execution_count": null,
   "metadata": {},
   "outputs": [],
   "source": [
    "%%time\n",
    "steps = constants.numdt // constants.trange\n",
    "qs = simulate(q, K, steps)"
   ]
  },
  {
   "cell_type": "code",
   "execution_count": null,
   "metadata": {},
   "outputs": [],
   "source": [
    "q0, q1 = qs[:2]"
   ]
  },
  {
   "cell_type": "code",
   "execution_count": null,
   "metadata": {},
   "outputs": [],
   "source": [
    "_x = torch.log(q0).imag"
   ]
  },
  {
   "cell_type": "code",
   "execution_count": null,
   "metadata": {},
   "outputs": [],
   "source": [
    "(_x @ ST).sum()"
   ]
  },
  {
   "cell_type": "code",
   "execution_count": null,
   "metadata": {},
   "outputs": [],
   "source": []
  },
  {
   "cell_type": "code",
   "execution_count": null,
   "metadata": {},
   "outputs": [],
   "source": []
  },
  {
   "cell_type": "code",
   "execution_count": null,
   "metadata": {},
   "outputs": [],
   "source": [
    "%%time\n",
    "path = 'sim.mp4'\n",
    "make_video(x, qs, path, interval=60)\n",
    "\n",
    "mp4 = open(path,'rb').read()\n",
    "data_url = \"data:video/mp4;base64,\" + b64encode(mp4).decode()\n",
    "HTML('<video width=400 controls><source src=\"{}\" type=\"video/mp4\"></video>'.format(data_url))"
   ]
  },
  {
   "cell_type": "code",
   "execution_count": null,
   "metadata": {},
   "outputs": [],
   "source": [
    "plt.figure(figsize=[6,3], dpi=130)\n",
    "plt.subplot(1,2,1)\n",
    "plt.imshow(K.real) ; plt.title('K (real)') ; plt.clim(-1,1)\n",
    "plt.subplot(1,2,2)\n",
    "plt.imshow(K.imag) ; plt.title('K (imag)') ; plt.clim(-1,1)\n",
    "plt.tight_layout()"
   ]
  },
  {
   "cell_type": "code",
   "execution_count": null,
   "metadata": {},
   "outputs": [],
   "source": [
    "plt.figure(figsize=[6,3], dpi=130)\n",
    "plt.subplot(1,2,1)\n",
    "plt.imshow(ST) ; plt.title('ST') ; plt.clim(0,1000)\n",
    "plt.subplot(1,2,2)\n",
    "plt.imshow(SV) ; plt.title('SV') ; plt.clim(0,1000)\n",
    "plt.tight_layout()"
   ]
  }
 ],
 "metadata": {
  "colab": {
   "provenance": []
  },
  "kernelspec": {
   "display_name": "Python 3 (ipykernel)",
   "language": "python",
   "name": "python3"
  },
  "language_info": {
   "codemirror_mode": {
    "name": "ipython",
    "version": 3
   },
   "file_extension": ".py",
   "mimetype": "text/x-python",
   "name": "python",
   "nbconvert_exporter": "python",
   "pygments_lexer": "ipython3",
   "version": "3.8.5"
  }
 },
 "nbformat": 4,
 "nbformat_minor": 1
}
