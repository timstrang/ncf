{
 "cells": [
  {
   "cell_type": "markdown",
   "id": "8e7341e3",
   "metadata": {},
   "source": [
    "## Simulation as Optimization: particle simulation"
   ]
  },
  {
   "cell_type": "code",
   "execution_count": null,
   "id": "91a53c54",
   "metadata": {},
   "outputs": [],
   "source": [
    "import numpy as np\n",
    "import matplotlib.pyplot as plt\n",
    "import torch\n",
    "\n",
    "from celluloid import Camera\n",
    "from IPython.display import HTML\n",
    "from base64 import b64encode"
   ]
  },
  {
   "cell_type": "code",
   "execution_count": null,
   "id": "8cf3ecd6",
   "metadata": {},
   "outputs": [],
   "source": [
    "def make_video(xs, path, interval=60, **kwargs): # xs: [time, N, 2]\n",
    "    fig = plt.gcf() ; fig.set_dpi(100) ; fig.set_size_inches(3, 3)\n",
    "    camera = Camera(fig)\n",
    "    for i in range(xs.shape[0]):\n",
    "        plt.plot(xs[i][...,0], xs[i][...,1], 'k.', markersize=20)\n",
    "        plt.axis('equal') ; plt.xlim(0,1) ; plt.ylim(0,1)\n",
    "#         plt.xticks([], []); plt.yticks([], [])\n",
    "        camera.snap()\n",
    "    anim = camera.animate(blit=True, interval=interval, **kwargs)\n",
    "    anim.save(path) ; plt.close()"
   ]
  },
  {
   "cell_type": "markdown",
   "id": "79ffddc1",
   "metadata": {},
   "source": [
    "## Get a baseline simulation working"
   ]
  },
  {
   "cell_type": "code",
   "execution_count": null,
   "id": "df3d6138",
   "metadata": {},
   "outputs": [],
   "source": [
    "N = 15\n",
    "dt = 1\n",
    "np.random.seed(0)\n",
    "x0 = np.random.rand(N,2)*.9 + 0.05\n",
    "v0 = np.random.randn(N,2).clip(-1,1)*.02\n",
    "x1 = x0 + dt*v0"
   ]
  },
  {
   "cell_type": "code",
   "execution_count": null,
   "id": "11db3e58",
   "metadata": {},
   "outputs": [],
   "source": [
    "def particle_numerical(x0, x1, dt, steps=20, box_width=1):\n",
    "    xs = [x0, x1]\n",
    "    ts = [0, dt]\n",
    "    v = (x1 - x0) / dt\n",
    "    x = xs[-1]\n",
    "    for i in range(steps-2):\n",
    "        a = 0 # get forces/accelerations\n",
    "        v = v + a*dt\n",
    "        x = x + v*dt\n",
    "        x = x % box_width\n",
    "        xs.append(x)\n",
    "        ts.append(ts[-1]+dt)\n",
    "    return np.asarray(ts), np.stack(xs)\n",
    "\n",
    "t_num, x_num = particle_numerical(x0, x1, dt)"
   ]
  },
  {
   "cell_type": "code",
   "execution_count": null,
   "id": "d2e5484b",
   "metadata": {},
   "outputs": [],
   "source": [
    "xs = x_num\n",
    "path = 'sim.mp4' ; make_video(xs, path, interval=60)\n",
    "mp4 = open(path,'rb').read()\n",
    "data_url = \"data:video/mp4;base64,\" + b64encode(mp4).decode()\n",
    "\n",
    "HTML(\"\"\"\n",
    "<video width=300 controls>\n",
    "      <source src=\"%s\" type=\"video/mp4\">\n",
    "</video>\n",
    "\"\"\" % data_url)"
   ]
  },
  {
   "cell_type": "markdown",
   "id": "ef035b43",
   "metadata": {},
   "source": [
    "## Recover the same dynamics by minimizing the action"
   ]
  },
  {
   "cell_type": "code",
   "execution_count": null,
   "id": "bc2a570e",
   "metadata": {},
   "outputs": [],
   "source": [
    "def lagrangian(q, m=1, g=1):\n",
    "    (x, xdot) = q\n",
    "    return .5*m*xdot**2 #- m*g*x\n",
    "  \n",
    "def action(x, dt=1):\n",
    "    dx = x[1:] - x[:-1]\n",
    "    wraps = (dx.abs() > 0.9)\n",
    "    dx = -dx.sign()*(dx.abs()-1)*wraps + dx*(~wraps)\n",
    "    xdot = (dx) / dt\n",
    "    xdot = torch.cat([xdot, xdot[-1:]], axis=0)\n",
    "    return lagrangian(q=(x, xdot)).sum()\n",
    "\n",
    "def get_path_between(x, steps=1000, step_size=1e-1, dt=1, box_width=1):\n",
    "    t = np.linspace(0, len(x)-1, len(x)) * dt\n",
    "    xs = [x.clone().data]\n",
    "    for i in range(steps):\n",
    "        grad = torch.autograd.grad(action(x, dt), x)\n",
    "        grad_x = grad[0]\n",
    "        grad_x[[0,-1]] *= 0  # fix first and last coordinates by zeroing their grads\n",
    "        x.data -= grad_x * step_size\n",
    "        \n",
    "        x = x % box_width # x is subject to modulo arithmetic\n",
    "\n",
    "        if i % (steps//15) == 0:\n",
    "            xs.append(x.clone().data)\n",
    "            print('step={:04d}, S={:.3e}'.format(i, action(x).item()))\n",
    "    return t, x, xs\n",
    "\n",
    "N = 15\n",
    "dt = 1\n",
    "np.random.seed(0)\n",
    "x0 = np.random.rand(N,2)*.9 + 0.05\n",
    "v0 = np.random.randn(N,2).clip(-1,1)*.02\n",
    "x1 = x0 + dt*v0\n",
    "t_num, x_num = particle_numerical(x0, x1, dt)\n",
    "\n",
    "x_noise = .06*np.random.randn(*x_num.shape).clip(-1,1)\n",
    "x_noise[:1] = x_noise[-1:] = 0\n",
    "x_pert = (x_num + x_noise).reshape(-1, N*2)\n",
    "# x_pert = x_num.reshape(-1, N*2)\n",
    "# x_pert = x_pert + 1#np.random.randn(*x_pert[1:-1].shape)\n",
    "x0 = torch.tensor(x_pert, requires_grad=True) # [time, N*2]\n",
    "t_min, x_min, xs_min = get_path_between(x0)"
   ]
  },
  {
   "cell_type": "code",
   "execution_count": null,
   "id": "79209568",
   "metadata": {},
   "outputs": [],
   "source": [
    "xs = xs_min[0].detach().numpy().reshape(-1,N,2)\n",
    "# xs = x_num\n",
    "\n",
    "path = 'sim.mp4' ; make_video(xs, path, interval=60)\n",
    "mp4 = open(path,'rb').read()\n",
    "data_url = \"data:video/mp4;base64,\" + b64encode(mp4).decode()\n",
    "\n",
    "HTML(\"\"\"\n",
    "<video width=300 controls>\n",
    "      <source src=\"%s\" type=\"video/mp4\">\n",
    "</video>\n",
    "\"\"\" % data_url)"
   ]
  },
  {
   "cell_type": "code",
   "execution_count": null,
   "id": "6ff7f444",
   "metadata": {},
   "outputs": [],
   "source": [
    "xs = xs_min[-1].detach().numpy().reshape(-1,N,2)\n",
    "\n",
    "path = 'sim.mp4' ; make_video(xs, path, interval=60)\n",
    "mp4 = open(path,'rb').read()\n",
    "data_url = \"data:video/mp4;base64,\" + b64encode(mp4).decode()\n",
    "\n",
    "HTML(\"\"\"\n",
    "<video width=300 controls>\n",
    "      <source src=\"%s\" type=\"video/mp4\">\n",
    "</video>\n",
    "\"\"\" % data_url)"
   ]
  },
  {
   "cell_type": "code",
   "execution_count": null,
   "id": "40bb2154",
   "metadata": {},
   "outputs": [],
   "source": []
  },
  {
   "cell_type": "code",
   "execution_count": null,
   "id": "a19e84cc",
   "metadata": {},
   "outputs": [],
   "source": []
  },
  {
   "cell_type": "code",
   "execution_count": null,
   "id": "b6c58d6a",
   "metadata": {},
   "outputs": [],
   "source": []
  },
  {
   "cell_type": "code",
   "execution_count": null,
   "id": "6ba043c0",
   "metadata": {},
   "outputs": [],
   "source": []
  }
 ],
 "metadata": {
  "kernelspec": {
   "display_name": "Python 3 (ipykernel)",
   "language": "python",
   "name": "python3"
  },
  "language_info": {
   "codemirror_mode": {
    "name": "ipython",
    "version": 3
   },
   "file_extension": ".py",
   "mimetype": "text/x-python",
   "name": "python",
   "nbconvert_exporter": "python",
   "pygments_lexer": "ipython3",
   "version": "3.8.5"
  }
 },
 "nbformat": 4,
 "nbformat_minor": 5
}
