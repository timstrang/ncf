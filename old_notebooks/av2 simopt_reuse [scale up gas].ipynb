{
 "cells": [
  {
   "cell_type": "markdown",
   "id": "fbfb2194",
   "metadata": {},
   "source": [
    "## Simulation as Optimization: reuse code"
   ]
  },
  {
   "cell_type": "code",
   "execution_count": null,
   "id": "f7a2abbd",
   "metadata": {},
   "outputs": [],
   "source": [
    "import numpy as np\n",
    "import matplotlib.pyplot as plt\n",
    "import torch, time\n",
    "\n",
    "from celluloid import Camera\n",
    "from IPython.display import HTML\n",
    "from base64 import b64encode"
   ]
  },
  {
   "cell_type": "code",
   "execution_count": null,
   "id": "6338264f",
   "metadata": {},
   "outputs": [],
   "source": [
    "def make_video(xs, path, interval=60, ms=10, **kwargs): # xs: [time, N, 2]\n",
    "    fig = plt.gcf() ; fig.set_dpi(100) ; fig.set_size_inches(3, 3)\n",
    "    camera = Camera(fig)\n",
    "    for i in range(xs.shape[0]):\n",
    "        plt.plot(xs[i][...,0], xs[i][...,1], 'k.', markersize=ms)\n",
    "        plt.axis('equal') ; plt.xlim(0,1) ; plt.ylim(0,1)\n",
    "        plt.xticks([], []); plt.yticks([], [])\n",
    "        camera.snap()\n",
    "    anim = camera.animate(blit=True, interval=interval, **kwargs)\n",
    "    anim.save(path) ; plt.close()"
   ]
  },
  {
   "cell_type": "markdown",
   "id": "7cdd2120",
   "metadata": {},
   "source": [
    "## Get a baseline simulation working"
   ]
  },
  {
   "cell_type": "code",
   "execution_count": null,
   "id": "86340d7c",
   "metadata": {},
   "outputs": [],
   "source": [
    "def V_gas(xs, eps=1e-6, overlap_radius=0.05, scale_coeff=1e-6): # 1e-5\n",
    "    if len(xs.shape) > 2:\n",
    "        return sum([V_gas(_xs, overlap_radius, scale_coeff) for _xs in xs]) # broadcast\n",
    "    else:\n",
    "        \n",
    "        dist_matrix = ((xs[:,0:1] - xs[:,0:1].T).pow(2) + (xs[:,1:2] - xs[:,1:2].T).pow(2) + eps).sqrt()\n",
    "        dists = dist_matrix[torch.triu_indices(xs.shape[0], xs.shape[0], 1).split(1)]\n",
    "        # potentials  = (dists > 1-overlap_radius) * (5e2*(overlap_radius - (1-dists)) + 1/overlap_radius) # cap\n",
    "        potentials = (dists > 0.5) * (dists < 1-overlap_radius) * 1/(1-dists + eps)  # 1/(1-r) (wraparound)\n",
    "        potentials += (dists > overlap_radius)* (dists < 0.5) * 1/(dists + eps)  # 1/r\n",
    "        potentials += (dists < overlap_radius) * (5e2*(overlap_radius - dists) + 1/overlap_radius)  # cap\n",
    "        return -potentials.sum() * scale_coeff\n",
    "    \n",
    "def V_3body(xs, eps=1e-6, overlap_radius=0.05, scale_coeff=1e-4): # 1e-5\n",
    "    if len(xs.shape) > 2:\n",
    "        return sum([V_3body(_xs, overlap_radius, scale_coeff) for _xs in xs]) # broadcast\n",
    "    else:\n",
    "        dist_matrix = ((xs[:,0:1] - xs[:,0:1].T).pow(2) + (xs[:,1:2] - xs[:,1:2].T).pow(2) + eps).sqrt()\n",
    "        dists = dist_matrix[torch.triu_indices(xs.shape[0], xs.shape[0], 1).split(1)]\n",
    "        potentials =  (dists > overlap_radius) * 1/(dists + eps)  # 1/r^2\n",
    "        potentials += (dists < overlap_radius) * (5e2*(overlap_radius - dists) + 1/overlap_radius)\n",
    "        return potentials.sum() * scale_coeff\n",
    "    \n",
    "def forces(xs, potential_fn, **kwargs):\n",
    "    xs.requires_grad = True\n",
    "    return torch.autograd.grad(potential_fn(xs), xs)[0]"
   ]
  },
  {
   "cell_type": "code",
   "execution_count": null,
   "id": "3581b9cf",
   "metadata": {},
   "outputs": [],
   "source": [
    "def solve_ode_euler(x0, x1, dt, steps=100, box_width=1, potential_fn=None):\n",
    "    xs = [x0, x1]\n",
    "    ts = [0, dt]\n",
    "    v = (x1 - x0) / dt\n",
    "    x = xs[-1]\n",
    "    for i in range(steps-2):\n",
    "        a = forces(torch.tensor(x), potential_fn).numpy() # get forces/accelerations\n",
    "        v = v + a*dt\n",
    "        x = x + v*dt\n",
    "        x = x % box_width\n",
    "        xs.append(x)\n",
    "        ts.append(ts[-1]+dt)\n",
    "    return np.asarray(ts), np.stack(xs)\n",
    "\n",
    "def simulate_3body(dt=0.5, steps=100):\n",
    "    np.random.seed(1)\n",
    "    x0 = np.asarray([[0.4, 0.3], [0.4, 0.7], [0.7, 0.5]])\n",
    "    v0 = np.asarray([[0.017, -0.006], [-.012, -.012], [0.0, 0.017]])\n",
    "    x1 = x0 + dt*v0\n",
    "    return solve_ode_euler(x0, x1, dt, potential_fn=V_3body, steps=steps)\n",
    "\n",
    "def simulate_gas(dt=1, N=500):\n",
    "    np.random.seed(1)\n",
    "    x0 = np.random.rand(N,2)*.8 + 0.1\n",
    "    v0 = np.random.randn(N,2)*0\n",
    "    x1 = x0 + dt*v0\n",
    "    return solve_ode_euler(x0, x1, dt, potential_fn=V_gas)"
   ]
  },
  {
   "cell_type": "code",
   "execution_count": null,
   "id": "d797dd1c",
   "metadata": {},
   "outputs": [],
   "source": [
    "t, x = simulate_gas(dt=1, N=500)\n",
    "\n",
    "make_video(x, path='sim.mp4', interval=60)\n",
    "mp4 = open('sim.mp4','rb').read()\n",
    "data_url = \"data:video/mp4;base64,\" + b64encode(mp4).decode()\n",
    "HTML('<video width=300 controls><source src=\"{}\" type=\"video/mp4\"></video>'.format(data_url))"
   ]
  },
  {
   "cell_type": "code",
   "execution_count": null,
   "id": "498aaf9c",
   "metadata": {},
   "outputs": [],
   "source": [
    "t, x = simulate_3body()\n",
    "make_video(x, path='sim.mp4', interval=60, ms=20)\n",
    "mp4 = open('sim.mp4','rb').read()\n",
    "data_url = \"data:video/mp4;base64,\" + b64encode(mp4).decode()\n",
    "HTML('<video width=300 controls><source src=\"{}\" type=\"video/mp4\"></video>'.format(data_url))"
   ]
  },
  {
   "cell_type": "markdown",
   "id": "e9d76315",
   "metadata": {},
   "source": [
    "## Recover the same dynamics by minimizing the action"
   ]
  },
  {
   "cell_type": "code",
   "execution_count": null,
   "id": "b612b995",
   "metadata": {},
   "outputs": [],
   "source": [
    "def lagrangian(q, V_fn, m=1, g=1):\n",
    "    (x, xdot) = q\n",
    "    T = .5*m*xdot**2\n",
    "    N = x.shape[-1] // 2\n",
    "    V = V_fn(x.reshape(-1, N, 2))\n",
    "    return (T.sum() - V.sum()) / (x.shape[0]*N)\n",
    "  \n",
    "def action(x, V_fn, dt=1):\n",
    "    dx = x[1:] - x[:-1]\n",
    "    wraps = (dx.abs() > 0.9)\n",
    "    dx = -dx.sign()*(dx.abs()-1)*wraps + dx*(~wraps)\n",
    "    xdot = dx / dt\n",
    "    xdot = torch.cat([xdot, xdot[-1:]], axis=0)\n",
    "    return lagrangian(q=(x, xdot), V_fn=V_fn).sum()\n",
    "\n",
    "def get_path_between(path, steps, step_size, V_fn, dt=1, box_width=1, opt='sgd'):\n",
    "    t = np.linspace(0, len(path.x)-1, len(path.x)) * dt\n",
    "    optimizer = torch.optim.SGD(path.parameters(), lr=step_size, momentum=0.8) if opt=='sgd' else \\\n",
    "                torch.optim.Adam(path.parameters(), lr=step_size)\n",
    "    xs = [path.x.clone().data]\n",
    "    t0 = time.time()\n",
    "    for i in range(steps):\n",
    "        S = action(path.x, V_fn, dt)\n",
    "        S.backward() ; path.x.grad.data[[0,-1]] *= 0\n",
    "        optimizer.step() ; path.zero_grad()\n",
    "        path.x.data = path.x.data % box_width # x is subject to modulo arithmetic\n",
    "\n",
    "        if i % (steps//15) == 0:\n",
    "            xs.append(path.x.clone().data)\n",
    "            print('step={:04d}, S={:.3e} J*s, dt={:.1f}s'.format(i, S.item(), time.time()-t0))\n",
    "            t0 = time.time()\n",
    "    return t, path, xs\n",
    "\n",
    "class PerturbedPath(torch.nn.Module):\n",
    "    def __init__(self, x_true, N, sigma=0, shift=False):\n",
    "        super(PerturbedPath, self).__init__()\n",
    "        self.x_true = x_true\n",
    "        x_noise = sigma*np.random.randn(*x_true.shape).clip(-1,1)\n",
    "        x_noise[:1] = x_noise[-1:] = 0\n",
    "        self.x_pert = x_pert = (x_true + x_noise).reshape(-1, N*2)\n",
    "        if shift:\n",
    "            x_pert_shift = np.concatenate([x_pert[5:-5,2:], x_pert[5:-5,:2]], axis=-1)\n",
    "            self.x_pert[5:-5] = x_pert[5:-5] = x_pert_shift\n",
    "            print(self.x_pert.shape)\n",
    "        self.x = torch.nn.Parameter(torch.tensor(x_pert)) # [time, N*2]"
   ]
  },
  {
   "cell_type": "markdown",
   "id": "cc5edff6",
   "metadata": {},
   "source": [
    "## Gas simulation"
   ]
  },
  {
   "cell_type": "code",
   "execution_count": null,
   "id": "97e475a3",
   "metadata": {},
   "outputs": [],
   "source": [
    "dt = 1 ; N = 500\n",
    "t_sim, x_sim = simulate_gas(dt=dt, N=N)\n",
    "init_path = PerturbedPath(x_sim, N=N, sigma=1e-2) # [time, N*2]\n",
    "t_min, path, xs_min = get_path_between(init_path, steps=100, step_size=5e2, V_fn=V_gas, dt=dt)"
   ]
  },
  {
   "cell_type": "code",
   "execution_count": null,
   "id": "82e7cd31",
   "metadata": {},
   "outputs": [],
   "source": [
    "N = x_sim.shape[-2]\n",
    "xs_before = xs_min[0].detach().numpy().reshape(-1,N,2)\n",
    "xs_after = xs_min[-1].detach().numpy().reshape(-1,N,2)\n",
    "\n",
    "k = 25\n",
    "plt.figure(dpi=100)\n",
    "plt.title('Ball {} horiz. velocity vs. time'.format(1 + k//2))\n",
    "plt.plot((xs_before[1:] - xs_before[:-1]).reshape(-1,N*2)[...,k], '.-', label='Initial path')\n",
    "plt.plot((xs_after[1:] - xs_after[:-1]).reshape(-1,N*2)[...,k], '.-', label='Minimum action')\n",
    "plt.plot((x_sim[1:] - x_sim[:-1]).reshape(-1,N*2)[...,k], 'k-', label='Simulator')\n",
    "plt.legend()\n",
    "plt.show()"
   ]
  },
  {
   "cell_type": "code",
   "execution_count": null,
   "id": "6c6e1958",
   "metadata": {},
   "outputs": [],
   "source": []
  },
  {
   "cell_type": "code",
   "execution_count": null,
   "id": "9e6d6365",
   "metadata": {},
   "outputs": [],
   "source": [
    "xs = xs_min[0].detach().numpy().reshape(-1,N,2)\n",
    "make_video(xs, path='sim.mp4', interval=60, ms=10)\n",
    "mp4 = open('sim.mp4','rb').read()\n",
    "data_url = \"data:video/mp4;base64,\" + b64encode(mp4).decode()\n",
    "HTML('<video width=300 controls><source src=\"{}\" type=\"video/mp4\"></video>'.format(data_url))"
   ]
  },
  {
   "cell_type": "code",
   "execution_count": null,
   "id": "a9d1a6b0",
   "metadata": {},
   "outputs": [],
   "source": [
    "xs = xs_min[-1].detach().numpy().reshape(-1,N,2)\n",
    "make_video(xs, path='sim.mp4', interval=60, ms=10)\n",
    "mp4 = open('sim.mp4','rb').read()\n",
    "data_url = \"data:video/mp4;base64,\" + b64encode(mp4).decode()\n",
    "HTML('<video width=300 controls><source src=\"{}\" type=\"video/mp4\"></video>'.format(data_url))"
   ]
  },
  {
   "cell_type": "code",
   "execution_count": null,
   "id": "3da9e50c",
   "metadata": {},
   "outputs": [],
   "source": []
  },
  {
   "cell_type": "code",
   "execution_count": null,
   "id": "746ab7f6",
   "metadata": {},
   "outputs": [],
   "source": []
  },
  {
   "cell_type": "markdown",
   "id": "4d078bbe",
   "metadata": {},
   "source": [
    "## 3 body simulation"
   ]
  },
  {
   "cell_type": "code",
   "execution_count": null,
   "id": "53e67e6f",
   "metadata": {},
   "outputs": [],
   "source": [
    "dt = 0.5 ; N = 3\n",
    "\n",
    "t_sim, x_sim = simulate_3body(dt=dt)\n",
    "init_path = PerturbedPath(x_sim, N=N, sigma=2e-2) # [time, N*2]\n",
    "t_min, path, xs_min = get_path_between(init_path, steps=500, step_size=1e1, V_fn=V_gas, dt=dt, opt='sgd')"
   ]
  },
  {
   "cell_type": "code",
   "execution_count": null,
   "id": "884369e3",
   "metadata": {},
   "outputs": [],
   "source": [
    "N = x_sim.shape[-2]\n",
    "xs_before = xs_min[0].detach().numpy().reshape(-1,N,2)\n",
    "xs_after = xs_min[-1].detach().numpy().reshape(-1,N,2)\n",
    "\n",
    "plt.figure(dpi=100) ; k = 0\n",
    "plt.title('Ball {} horiz. velocity vs. time'.format(1 + k//2))\n",
    "plt.plot((xs_before[1:] - xs_before[:-1]).reshape(-1,N*2)[...,k], '.-', label='Initial path')\n",
    "plt.plot((xs_after[1:] - xs_after[:-1]).reshape(-1,N*2)[...,k], '.-', label='Minimum action')\n",
    "plt.plot((x_sim[1:] - x_sim[:-1]).reshape(-1,N*2)[...,k], 'k-', label='Simulator')\n",
    "plt.legend()\n",
    "plt.show()"
   ]
  },
  {
   "cell_type": "code",
   "execution_count": null,
   "id": "81df730b",
   "metadata": {},
   "outputs": [],
   "source": [
    "xs = xs_min[0].detach().numpy().reshape(-1,N,2)\n",
    "make_video(xs, path='sim.mp4', interval=60, ms=20)\n",
    "mp4 = open('sim.mp4','rb').read()\n",
    "data_url = \"data:video/mp4;base64,\" + b64encode(mp4).decode()\n",
    "HTML('<video width=300 controls><source src=\"{}\" type=\"video/mp4\"></video>'.format(data_url))"
   ]
  },
  {
   "cell_type": "code",
   "execution_count": null,
   "id": "8937d012",
   "metadata": {},
   "outputs": [],
   "source": [
    "xs = xs_min[-1].detach().numpy().reshape(-1,N,2)\n",
    "make_video(xs, path='sim.mp4', interval=60, ms=20)\n",
    "mp4 = open('sim.mp4','rb').read()\n",
    "data_url = \"data:video/mp4;base64,\" + b64encode(mp4).decode()\n",
    "HTML('<video width=300 controls><source src=\"{}\" type=\"video/mp4\"></video>'.format(data_url))"
   ]
  },
  {
   "cell_type": "code",
   "execution_count": null,
   "id": "74967568",
   "metadata": {},
   "outputs": [],
   "source": []
  },
  {
   "cell_type": "code",
   "execution_count": null,
   "id": "c41a3a1c",
   "metadata": {},
   "outputs": [],
   "source": []
  }
 ],
 "metadata": {
  "kernelspec": {
   "display_name": "Python 3 (ipykernel)",
   "language": "python",
   "name": "python3"
  },
  "language_info": {
   "codemirror_mode": {
    "name": "ipython",
    "version": 3
   },
   "file_extension": ".py",
   "mimetype": "text/x-python",
   "name": "python",
   "nbconvert_exporter": "python",
   "pygments_lexer": "ipython3",
   "version": "3.8.5"
  }
 },
 "nbformat": 4,
 "nbformat_minor": 5
}
