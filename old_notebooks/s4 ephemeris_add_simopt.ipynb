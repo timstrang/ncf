{
 "cells": [
  {
   "cell_type": "markdown",
   "id": "c7f80a89",
   "metadata": {},
   "source": [
    "# Ephemeris Experiments\n",
    "Sam Greydanus | 2023\n",
    "### Setup\n",
    "Before running this code, you'll need to download the raw ephemeris data for the planets (or other celestial bodies) that you want to plot. To do this, go to [https://ssd.jpl.nasa.gov/horizons/app.html#/](https://ssd.jpl.nasa.gov/horizons/app.html#/). For 'Ephemeris Type' select 'Vector Table'. For 'Target Body' select the body you want (eg. 'Earth'). For Coordinate Center try using 'Solar System Barycenter (SSB) '. For time specification, I manually selected a timespan of five years; the default data interval is 1440 minutes (1 day). Once you've chosen your desired settings, click 'Generate Ephemeris' and then click 'Download Results' when the results load. This will let you download a .txt file to a local directory. Name the file after the planet, eg `earth.txt`. Repeat this process for all the planets you want, saving each of them to a different text file in the same folder. Once you have all the .txt files saved to that folder, you will be ready to run this code."
   ]
  },
  {
   "cell_type": "code",
   "execution_count": null,
   "id": "83d94140",
   "metadata": {},
   "outputs": [],
   "source": [
    "import numpy as np\n",
    "import torch, time\n",
    "\n",
    "import pandas as pd\n",
    "from functools import partial\n",
    "import matplotlib.pyplot as plt\n",
    "\n",
    "def load_planet(planet_name, data_dir):\n",
    "    '''Reads a file named, eg.,\"earth.txt\" with ephemeris data in a vector table format\n",
    "       downloaded from https://ssd.jpl.nasa.gov/horizons/app.html#/'''\n",
    "    with open(data_dir + '{}.txt'.format(planet_name), 'r') as f:\n",
    "        text = f.read()\n",
    "\n",
    "    main_data = text[text.find('$$SOE')+5:text.find('$$EOE')].split('\\n')\n",
    "    s_xyz = main_data[2::4]\n",
    "\n",
    "    f_xyz = []\n",
    "    for l in s_xyz:\n",
    "        splits = [s.strip(' ').split(' ')[0] for s in l.split('=')[1:]]\n",
    "        f_xyz.append([float(s)*1e3 for s in splits]) # convert from km to meters\n",
    "    return np.asarray(f_xyz)\n",
    "\n",
    "def get_colnames(names):\n",
    "    '''Generates DataFrame column names for each x, y, z coordinate dimension'''\n",
    "    colnames = []\n",
    "    for n in names:\n",
    "        colnames += [n + '_x', n + '_y', n + '_z']\n",
    "    return colnames\n",
    "\n",
    "def get_colformat(coords):\n",
    "    '''Reshape from [planets, time, xyz] to [time, planets*xyz]'''\n",
    "    N = coords.shape[0]\n",
    "    return coords.transpose(1,0,2).reshape(-1,N*3)\n",
    "\n",
    "def process_raw_ephemeris(planets, data_dir, last_n_days=None):\n",
    "    '''Loads raw ephemeris files for a list of planet names, organizes the data in a DataFrame,\n",
    "       and then saves the DataFrame as a csv in the same directory as the raw files.'''\n",
    "    coords = np.stack([load_planet(p, data_dir) for p in planets])\n",
    "    if last_n_days is not None:\n",
    "        coords = coords[:,-last_n_days:]\n",
    "    assert coords.shape[1] > 300, 'length should be over 300'\n",
    "    coords = np.concatenate([coords[:,:150], coords[:,-150:]], axis=1)\n",
    "    df = pd.DataFrame(data=get_colformat(coords), columns=get_colnames(planets))\n",
    "    df.to_csv(data_dir + 'ephemeris_ablate.csv')\n",
    "    return df"
   ]
  },
  {
   "cell_type": "code",
   "execution_count": null,
   "id": "11d22afb",
   "metadata": {},
   "outputs": [],
   "source": [
    "def get_colors():\n",
    "    return {'sun':'yellow','venus':'orange','mercury':'pink','earth':'blue','mars':'red'}\n",
    "\n",
    "def plot_planets(df, planets, fig=None):\n",
    "    colors = get_colors()\n",
    "    fig = plt.figure(figsize=[5,5], dpi=100) if fig is None else fig\n",
    "    \n",
    "    for i, name in enumerate(planets):\n",
    "        x, y, z = df[name + '_x'], df[name + '_y'], df[name + '_z']\n",
    "        plt.plot(x, y, '.', alpha=0.33, color=colors[name], label=name + ' (data)', markersize=2)\n",
    "        #plt.plot(x.iloc[0], y.iloc[0], 'x', alpha=0.33, color=colors[name])\n",
    "        plt.plot(x.iloc[-1], y.iloc[-1], '.', alpha=0.33, color=colors[name], markersize=9)\n",
    "    plt.title(\"Ephemeris data from JPL's Horizon System\")\n",
    "    plt.tight_layout() ; plt.axis('equal')\n",
    "    return fig\n",
    "    \n",
    "# planets = ['sun', 'venus', 'earth', 'mars','mercury']\n",
    "planets = ['sun', 'mercury', 'venus', 'earth', 'mars']\n",
    "data_dir = './data/'\n",
    "df = process_raw_ephemeris(planets, data_dir, last_n_days=365) #365\n",
    "plot_planets(df, planets)\n",
    "plt.legend(fontsize=7,  loc='upper right') ; plt.show()"
   ]
  },
  {
   "cell_type": "markdown",
   "id": "f9360103",
   "metadata": {},
   "source": [
    "## Make coplanar"
   ]
  },
  {
   "cell_type": "code",
   "execution_count": null,
   "id": "b909f674",
   "metadata": {},
   "outputs": [],
   "source": [
    "# e = df[['earth_x', 'earth_y', 'earth_z']]\n",
    "m = df[['mars_x', 'mars_y', 'mars_z']]\n",
    "# s = df[['sun_x', 'sun_y', 'sun_z']]\n",
    "# v = df[['venus_x', 'venus_y', 'venus_z']]\n",
    "# m = df[['mercury_x', 'mercury_y', 'mercury_z']]\n",
    "plt.plot(m)"
   ]
  },
  {
   "cell_type": "markdown",
   "id": "fcd3f94c",
   "metadata": {},
   "source": [
    "### It turns out that all the orbits are more or less coplanar already"
   ]
  },
  {
   "cell_type": "code",
   "execution_count": null,
   "id": "9aaa5a31",
   "metadata": {},
   "outputs": [],
   "source": []
  },
  {
   "cell_type": "markdown",
   "id": "62fa8936",
   "metadata": {},
   "source": [
    "## Simulate the planet trajectories & compare to data"
   ]
  },
  {
   "cell_type": "code",
   "execution_count": null,
   "id": "73768983",
   "metadata": {},
   "outputs": [],
   "source": [
    "def V_planets(xs, masses, eps=1e-10, G=6.67e-11): # # 2e-25\n",
    "    if len(xs.shape) > 2:\n",
    "        return sum([V_planets(_xs, masses, eps=eps, G=G) for _xs in xs]) # broadcast\n",
    "    else:\n",
    "        ixs = torch.triu_indices(xs.shape[0], xs.shape[0], 1).split(1)\n",
    "        dist_matrix = ((xs[:,0:1] - xs[:,0:1].T).pow(2) + (xs[:,1:2] - xs[:,1:2].T).pow(2) + eps).sqrt()\n",
    "        mM_matrix = torch.tensor( masses[None,:] * masses[:,None] )\n",
    "        U_vals = G * mM_matrix[ixs] / dist_matrix[ixs]\n",
    "        return -U_vals.sum()\n",
    "    \n",
    "def accelerations(xs, masses, potential_fn, **kwargs):\n",
    "    xs.requires_grad = True\n",
    "    forces = -torch.autograd.grad(potential_fn(xs), xs)[0]\n",
    "    return forces/masses[:,None]\n",
    "    \n",
    "def solve_ode_euler(x0, x1, dt, accel_fn, steps=100, box_width=1):\n",
    "    xs = [x0, x1]\n",
    "    ts = [0, dt]\n",
    "    v = (x1 - x0) / dt\n",
    "    x = xs[-1]\n",
    "    for i in range(steps-2):\n",
    "        a = accel_fn(x)\n",
    "        v = v + a*dt\n",
    "        x = x + v*dt\n",
    "        xs.append(x)\n",
    "        ts.append(ts[-1]+dt)\n",
    "    return np.asarray(ts), np.stack(xs)"
   ]
  },
  {
   "cell_type": "code",
   "execution_count": null,
   "id": "9a9b5b91",
   "metadata": {},
   "outputs": [],
   "source": [
    "def get_coords(df, planets, i=0):\n",
    "    return np.asarray([ [df[p + '_x'].iloc[i], df[p + '_y'].iloc[i]] for p in planets])\n",
    "\n",
    "def get_masses(planets):\n",
    "    d = {'sun':1.99e30, 'venus':4.87e24, 'mercury':3.3e23, 'earth':5.97e24, 'mars':6.42e23}\n",
    "    return np.asarray([d[p] for p in planets])\n",
    "\n",
    "def simulate_planets(dt=24*60*60, steps=365-300):\n",
    "    x0 = get_coords(df, planets, i=148)\n",
    "    x1 = get_coords(df, planets, i=149)\n",
    "    V_planets_fn = partial(V_planets, masses=get_masses(planets))\n",
    "    accel_fn = lambda x: accelerations(torch.tensor(x), get_masses(planets), V_planets_fn).numpy()\n",
    "    return solve_ode_euler(x0, x1, dt, accel_fn, steps=365-300)\n",
    "\n",
    "t_sim, x_sim = simulate_planets()"
   ]
  },
  {
   "cell_type": "code",
   "execution_count": null,
   "id": "3747b4ae",
   "metadata": {},
   "outputs": [],
   "source": [
    "plot_planets(df, planets)\n",
    "\n",
    "colors = get_colors()\n",
    "for i, (planet, coords) in enumerate(zip(planets, x_sim.transpose(1,2,0))):\n",
    "    x, y = coords\n",
    "    plt.plot(x, y, ':', alpha=0.5, color=colors[planet], label=planets[i] + ' (sim)')\n",
    "    plt.plot(x[0], y[0], '+', color=colors[planet])\n",
    "    plt.plot(x[-1], y[-1], 'x', color=colors[planet])\n",
    "plt.axis('equal')\n",
    "\n",
    "plt.legend(fontsize=6,  loc='upper right', ncol=2) ; plt.show()"
   ]
  },
  {
   "cell_type": "markdown",
   "id": "f2f268f7",
   "metadata": {},
   "source": [
    "## Simulate by minimizing the action"
   ]
  },
  {
   "cell_type": "code",
   "execution_count": null,
   "id": "0a15e70e",
   "metadata": {},
   "outputs": [],
   "source": [
    "def lagrangian_planets(x, xdot, masses):\n",
    "    N = x.shape[-1] // 2\n",
    "    norm_factor = x.shape[0]*N\n",
    "    xdot = xdot.reshape(-1,N,2)\n",
    "    m = torch.tensor(masses[None,:,None])\n",
    "    T = (.5*m*xdot**2).sum()\n",
    "    V = V_planets(x.reshape(-1, N, 2), masses).sum()\n",
    "    return (T - V) / norm_factor\n",
    "  \n",
    "def action(x, L_fn, dt):\n",
    "    xdot = (x[1:] - x[:-1]) / dt\n",
    "    xdot = torch.cat([xdot, xdot[-1:]], axis=0)\n",
    "    return L_fn(x, xdot).sum()\n",
    "\n",
    "def get_path_between(path, steps, step_size, L_fn, dt, opt='sgd', print_every=15):\n",
    "    t = np.linspace(0, len(path.x)-1, len(path.x)) * dt\n",
    "    optimizer = torch.optim.SGD(path.parameters(), lr=step_size, momentum=0) if opt=='sgd' else \\\n",
    "                torch.optim.Adam(path.parameters(), lr=step_size)\n",
    "    xs = [path.x.clone().data]\n",
    "    t0 = time.time()\n",
    "    for i in range(steps):\n",
    "        S = action(path.x, L_fn, dt)\n",
    "        S.backward() ; path.x.grad.data[[0,-1]] *= 0\n",
    "        optimizer.step() ; path.zero_grad()\n",
    "\n",
    "        if i % (steps//print_every) == 0:\n",
    "            xs.append(path.x.clone().detach().data)\n",
    "            print('step={:04d}, S={:.3e} J*s, dt={:.1f}s'.format(i, S.item(), time.time()-t0))\n",
    "            t0 = time.time()\n",
    "    return t, path, xs\n",
    "\n",
    "class PerturbedPath(torch.nn.Module):\n",
    "    def __init__(self, x_true, N, sigma=0, shift=False, zero_basepath=False, coords=2):\n",
    "        super(PerturbedPath, self).__init__()\n",
    "        np.random.seed(0)\n",
    "        self.x_true = x_true\n",
    "        x_noise = sigma*np.random.randn(*x_true.shape).clip(-1,1)\n",
    "        x_noise[:1] = x_noise[-1:] = 0\n",
    "        x_noise[:,0,:] = 0 # don't perturb the Sun\n",
    "        x_basepath = np.copy(x_true)\n",
    "        x_basepath[1:-1] = x_basepath[1:-1]*0 if zero_basepath else x_basepath[1:-1]\n",
    "        self.x_pert = x_pert = (x_basepath + x_noise).reshape(-1, N*coords)\n",
    "        if shift:\n",
    "            x_pert_shift = np.concatenate([x_pert[5:-5,2:], x_pert[5:-5,:2]], axis=-1)\n",
    "            self.x_pert[5:-5] = x_pert[5:-5] = x_pert_shift\n",
    "            print(self.x_pert.shape)\n",
    "        self.x = torch.nn.Parameter(torch.tensor(x_pert)) # [time, N*2]"
   ]
  },
  {
   "cell_type": "code",
   "execution_count": null,
   "id": "5ccfd536",
   "metadata": {},
   "outputs": [],
   "source": [
    "dt = 24*60*60 ; N = len(planets)\n",
    "\n",
    "t_sim, x_sim = simulate_planets(dt=dt)\n",
    "init_path = PerturbedPath(x_sim, N=N, sigma=2e10) # [time, N*2]\n",
    "\n",
    "L_planets = partial(lagrangian_planets, masses=get_masses(planets))\n",
    "\n",
    "t_min, path, xs_min = get_path_between(init_path, steps=500, step_size=1e9,\n",
    "                                       L_fn=L_planets, dt=dt, opt='adam')"
   ]
  },
  {
   "cell_type": "code",
   "execution_count": null,
   "id": "a5647952",
   "metadata": {},
   "outputs": [],
   "source": [
    "plt.figure(figsize=[5,3], dpi=120)\n",
    "plt.title('Earth x coordinate')\n",
    "xs_sim = init_path.x_true\n",
    "xs_init = xs_min[0].detach().numpy().reshape(-1,N,2)\n",
    "xs_final = xs_min[-1].detach().numpy().reshape(-1,N,2)\n",
    "plt.plot(xs_sim[:,2,0], '--', label='sim')\n",
    "plt.plot(xs_init[:,2,0], alpha=0.5, label='init')\n",
    "plt.plot(xs_final[:,2,0], alpha=0.5, label='final')\n",
    "plt.legend()"
   ]
  },
  {
   "cell_type": "code",
   "execution_count": null,
   "id": "aed23af9",
   "metadata": {},
   "outputs": [],
   "source": []
  },
  {
   "cell_type": "code",
   "execution_count": null,
   "id": "798efbf9",
   "metadata": {},
   "outputs": [],
   "source": []
  },
  {
   "cell_type": "code",
   "execution_count": null,
   "id": "78ffff52",
   "metadata": {},
   "outputs": [],
   "source": [
    "fig = plt.figure(figsize=[5,5], dpi=140)\n",
    "plot_planets(df, planets, fig=fig)\n",
    "colors = get_colors()\n",
    "\n",
    "xs = xs_min[0].detach().numpy().reshape(-1,N,2)\n",
    "for i, (planet, coords) in enumerate(zip(planets, xs.transpose(1,2,0))):\n",
    "    x, y = coords\n",
    "    plt.plot(x, y, '.', alpha=0.3, color=colors[planet], label=planets[i] + ' (init)')\n",
    "    plt.plot(x[0], y[0], '+', color=colors[planet])\n",
    "    plt.plot(x[-1], y[-1], 'x', color=colors[planet])\n",
    "    \n",
    "xs = xs_min[-1].detach().numpy().reshape(-1,N,2)\n",
    "for i, (planet, coords) in enumerate(zip(planets, xs.transpose(1,2,0))):\n",
    "    x, y = coords\n",
    "    plt.plot(x, y, ':', alpha=0.5, color=colors[planet], label=planets[i] + ' (path)')\n",
    "\n",
    "plt.axis('equal')\n",
    "plt.legend(fontsize=6,  loc='upper right', ncol=3) ; plt.show()"
   ]
  },
  {
   "cell_type": "code",
   "execution_count": null,
   "id": "ae3fdaff",
   "metadata": {},
   "outputs": [],
   "source": []
  },
  {
   "cell_type": "code",
   "execution_count": null,
   "id": "5ae95156",
   "metadata": {},
   "outputs": [],
   "source": []
  },
  {
   "cell_type": "code",
   "execution_count": null,
   "id": "bfa910c8",
   "metadata": {},
   "outputs": [],
   "source": []
  },
  {
   "cell_type": "code",
   "execution_count": null,
   "id": "146bca21",
   "metadata": {},
   "outputs": [],
   "source": []
  },
  {
   "cell_type": "code",
   "execution_count": null,
   "id": "114b31f9",
   "metadata": {},
   "outputs": [],
   "source": []
  },
  {
   "cell_type": "code",
   "execution_count": null,
   "id": "dce739bf",
   "metadata": {},
   "outputs": [],
   "source": [
    "# FORCES\n",
    "\n",
    "# sun-venus 5.60e22 # 5.47e22\n",
    "# sun-earth 3.63e22 # 3.52e22\n",
    "# sun-mars 1.75e21 # 1.65e21 \n",
    "# sun-mercury 9.80e21 # 9.3e21\n",
    "# venus-earth 4.50e17\n",
    "# venus-mars 3.5e15\n",
    "# venus-mercury 1.5e16\n",
    "# earth-mars 2.67e15\n",
    "# earth-mercury 6.1e15\n",
    "# mars-mercury 4.76e14"
   ]
  },
  {
   "cell_type": "code",
   "execution_count": null,
   "id": "dc546301",
   "metadata": {},
   "outputs": [],
   "source": []
  },
  {
   "cell_type": "code",
   "execution_count": null,
   "id": "6402805c",
   "metadata": {},
   "outputs": [],
   "source": [
    "# m = np.asarray([get_mass(p) for p in planets])\n",
    "# m"
   ]
  },
  {
   "cell_type": "code",
   "execution_count": null,
   "id": "bcc0bccf",
   "metadata": {},
   "outputs": [],
   "source": [
    "# def simulate_planets(dt=0.5, steps=100):\n",
    "#     np.random.seed(1)\n",
    "#     x0 = np.asarray([[0.4, 0.3], [0.4, 0.7], [0.7, 0.5]])\n",
    "#     v0 = np.asarray([[0.017, -0.006], [-.012, -.012], [0.0, 0.017]])\n",
    "#     x1 = x0 + dt*v0\n",
    "#     forces_fn = lambda x: forces(torch.tensor(x), V_planets).numpy()\n",
    "#     return solve_ode_euler(x0, x1, dt, forces_fn, steps=steps)"
   ]
  }
 ],
 "metadata": {
  "kernelspec": {
   "display_name": "Python 3 (ipykernel)",
   "language": "python",
   "name": "python3"
  },
  "language_info": {
   "codemirror_mode": {
    "name": "ipython",
    "version": 3
   },
   "file_extension": ".py",
   "mimetype": "text/x-python",
   "name": "python",
   "nbconvert_exporter": "python",
   "pygments_lexer": "ipython3",
   "version": "3.8.5"
  }
 },
 "nbformat": 4,
 "nbformat_minor": 5
}
