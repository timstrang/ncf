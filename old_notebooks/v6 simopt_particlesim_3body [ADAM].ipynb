{
 "cells": [
  {
   "cell_type": "markdown",
   "id": "51ec92f0",
   "metadata": {},
   "source": [
    "## Simulation as Optimization: particle simulation"
   ]
  },
  {
   "cell_type": "code",
   "execution_count": null,
   "id": "295437d4",
   "metadata": {},
   "outputs": [],
   "source": [
    "import numpy as np\n",
    "import matplotlib.pyplot as plt\n",
    "import torch\n",
    "\n",
    "from celluloid import Camera\n",
    "from IPython.display import HTML\n",
    "from base64 import b64encode"
   ]
  },
  {
   "cell_type": "code",
   "execution_count": null,
   "id": "7f5f41f6",
   "metadata": {},
   "outputs": [],
   "source": [
    "def make_video(xs, path, interval=60, **kwargs): # xs: [time, N, 2]\n",
    "    fig = plt.gcf() ; fig.set_dpi(100) ; fig.set_size_inches(3, 3)\n",
    "    camera = Camera(fig)\n",
    "    for i in range(xs.shape[0]):\n",
    "        plt.plot(xs[i][...,0], xs[i][...,1], 'k.', markersize=20)\n",
    "        plt.axis('equal') ; plt.xlim(0,1) ; plt.ylim(0,1)\n",
    "#         plt.xticks([], []); plt.yticks([], [])\n",
    "        camera.snap()\n",
    "    anim = camera.animate(blit=True, interval=interval, **kwargs)\n",
    "    anim.save(path) ; plt.close()"
   ]
  },
  {
   "cell_type": "markdown",
   "id": "a8a33d6c",
   "metadata": {},
   "source": [
    "## Get a baseline simulation working"
   ]
  },
  {
   "cell_type": "code",
   "execution_count": null,
   "id": "bff60243",
   "metadata": {},
   "outputs": [],
   "source": [
    "N = 3\n",
    "dt = 1\n",
    "np.random.seed(1)\n",
    "x0 = np.asarray([[0.4, 0.3], [0.4, 0.7], [0.7, 0.5]])\n",
    "v0 = np.asarray([[0.017, -0.006], [-.012, -.012], [0.0, 0.017]])\n",
    "x1 = x0 + dt*v0"
   ]
  },
  {
   "cell_type": "code",
   "execution_count": null,
   "id": "a0e33686",
   "metadata": {},
   "outputs": [],
   "source": [
    "def potential_energy(xs, eps=1e-6, overlap_radius=0.05, scale_coeff=1e-4): # 1e-5\n",
    "    if len(xs.shape) > 2:\n",
    "        return sum([potential_energy(_xs, overlap_radius, scale_coeff) for _xs in xs]) # broadcast\n",
    "    else:\n",
    "        dist_matrix = ((xs[:,0:1] - xs[:,0:1].T).pow(2) + (xs[:,1:2] - xs[:,1:2].T).pow(2) + eps).sqrt()\n",
    "        dists = dist_matrix[torch.triu_indices(xs.shape[0], xs.shape[0], 1).split(1)]\n",
    "        potentials =  (dists > overlap_radius) * 1/(dists + eps)  # 1/r^2\n",
    "        potentials += (dists < overlap_radius) * (1e3*(overlap_radius - dists) + 1/overlap_radius)\n",
    "        return - potentials.sum() * scale_coeff\n",
    "    \n",
    "def forces(xs, **kwargs):\n",
    "    xs.requires_grad = True\n",
    "    return -torch.autograd.grad(potential_energy(xs), xs)[0]\n",
    "    \n",
    "print(potential_energy(torch.tensor(x0)))\n",
    "forces(torch.tensor(x0))[:5]"
   ]
  },
  {
   "cell_type": "code",
   "execution_count": null,
   "id": "eb7e3ea8",
   "metadata": {},
   "outputs": [],
   "source": [
    "def particle_numerical(x0, x1, dt, steps=40, box_width=1):\n",
    "    xs = [x0, x1]\n",
    "    ts = [0, dt]\n",
    "    v = (x1 - x0) / dt\n",
    "    x = xs[-1]\n",
    "    for i in range(steps-2):\n",
    "        a = forces(torch.tensor(x)).numpy() # get forces/accelerations\n",
    "        v = v + a*dt\n",
    "        x = x + v*dt\n",
    "        x = x % box_width\n",
    "        xs.append(x)\n",
    "        ts.append(ts[-1]+dt)\n",
    "    return np.asarray(ts), np.stack(xs)\n",
    "\n",
    "t_num, x_num = particle_numerical(x0, x1, dt)"
   ]
  },
  {
   "cell_type": "code",
   "execution_count": null,
   "id": "ab35f26f",
   "metadata": {},
   "outputs": [],
   "source": [
    "xs = x_num\n",
    "path = 'sim.mp4' ; make_video(xs, path, interval=60)\n",
    "mp4 = open(path,'rb').read()\n",
    "data_url = \"data:video/mp4;base64,\" + b64encode(mp4).decode()\n",
    "\n",
    "HTML(\"\"\"\n",
    "<video width=300 controls>\n",
    "      <source src=\"%s\" type=\"video/mp4\">\n",
    "</video>\n",
    "\"\"\" % data_url)"
   ]
  },
  {
   "cell_type": "markdown",
   "id": "fc556dab",
   "metadata": {},
   "source": [
    "## Recover the same dynamics by minimizing the action"
   ]
  },
  {
   "cell_type": "code",
   "execution_count": null,
   "id": "2ae08149",
   "metadata": {},
   "outputs": [],
   "source": [
    "def lagrangian(q, m=1, g=1):\n",
    "    (x, xdot) = q\n",
    "    T = .5*m*xdot**2\n",
    "    N = x.shape[-1] // 2\n",
    "    V = potential_energy(x.reshape(-1, N, 2))\n",
    "    return (T.sum() - V.sum()) / (x.shape[0]*N)\n",
    "  \n",
    "def action(x, dt=1):\n",
    "    dx = x[1:] - x[:-1]\n",
    "    wraps = (dx.abs() > 0.9)\n",
    "    dx = -dx.sign()*(dx.abs()-1)*wraps + dx*(~wraps)\n",
    "    xdot = dx / dt\n",
    "    xdot = torch.cat([xdot, xdot[-1:]], axis=0)\n",
    "    return lagrangian(q=(x, xdot)).sum()\n",
    "\n",
    "def get_path_between(path, steps=2000, step_size=1e-2, dt=1, box_width=1):\n",
    "    t = np.linspace(0, len(path.x)-1, len(path.x)) * dt\n",
    "    optimizer = torch.optim.Adam(path.parameters(), lr=step_size)\n",
    "    xs = [path.x.clone().data]\n",
    "    for i in range(steps):\n",
    "        S = action(path.x, dt)\n",
    "        S.backward() ; path.x.grad.data[[0,-1]] *= 0\n",
    "        optimizer.step() ; path.zero_grad()\n",
    "        path.x.data = path.x.data % box_width # x is subject to modulo arithmetic\n",
    "\n",
    "        if i % (steps//15) == 0:\n",
    "            xs.append(path.x.clone().data)\n",
    "            print('step={:04d}, S={:.3e}'.format(i, S.item()))\n",
    "    return t, path, xs\n",
    "\n",
    "N = 3\n",
    "dt = 1\n",
    "np.random.seed(1)\n",
    "x0 = np.asarray([[0.4, 0.3], [0.4, 0.7], [0.7, 0.5]])\n",
    "v0 = np.asarray([[0.017, -0.006], [-.012, -.012], [0.0, 0.017]])\n",
    "x1 = x0 + dt*v0\n",
    "\n",
    "t_num, x_num = particle_numerical(x0, x1, dt)\n",
    "x_sim = x_num\n",
    "\n",
    "class PerturbedPath(torch.nn.Module):\n",
    "    def __init__(self, x_true):\n",
    "        super(PerturbedPath, self).__init__()\n",
    "        self.x_true = x_true\n",
    "        x_noise = .05*np.random.randn(*x_true.shape).clip(-1,1)\n",
    "        x_noise[:1] = x_noise[-1:] = 0\n",
    "        self.x_pert = x_pert = (x_num + x_noise).reshape(-1, N*2)\n",
    "        self.x = torch.nn.Parameter(torch.tensor(x_pert))\n",
    "        \n",
    "init_path = PerturbedPath(x_sim) # [time, N*2]\n",
    "t_min, path, xs_min = get_path_between(init_path, dt=dt)\n",
    "# train with Adam"
   ]
  },
  {
   "cell_type": "code",
   "execution_count": null,
   "id": "e496fe54",
   "metadata": {},
   "outputs": [],
   "source": [
    "xs = xs_min[0].detach().numpy().reshape(-1,N,2)\n",
    "# xs = x_num\n",
    "\n",
    "filepath = 'sim.mp4' ; make_video(xs, filepath, interval=60)\n",
    "mp4 = open(filepath,'rb').read()\n",
    "data_url = \"data:video/mp4;base64,\" + b64encode(mp4).decode()\n",
    "\n",
    "HTML(\"\"\"\n",
    "<video width=300 controls>\n",
    "      <source src=\"%s\" type=\"video/mp4\">\n",
    "</video>\n",
    "\"\"\" % data_url)"
   ]
  },
  {
   "cell_type": "code",
   "execution_count": null,
   "id": "c1f16245",
   "metadata": {},
   "outputs": [],
   "source": [
    "xs = xs_min[-1].detach().numpy().reshape(-1,N,2)\n",
    "\n",
    "filepath = 'sim.mp4' ; make_video(xs, filepath, interval=60)\n",
    "mp4 = open(filepath,'rb').read()\n",
    "data_url = \"data:video/mp4;base64,\" + b64encode(mp4).decode()\n",
    "\n",
    "HTML(\"\"\"\n",
    "<video width=300 controls>\n",
    "      <source src=\"%s\" type=\"video/mp4\">\n",
    "</video>\n",
    "\"\"\" % data_url) # min_action_no_forces"
   ]
  },
  {
   "cell_type": "code",
   "execution_count": null,
   "id": "1c1a1eca",
   "metadata": {},
   "outputs": [],
   "source": [
    "xs_before = xs_min[0].detach().numpy().reshape(-1,N,2)\n",
    "xs_after = xs_min[-1].detach().numpy().reshape(-1,N,2)\n",
    "\n",
    "k = 2\n",
    "plt.figure(dpi=100)\n",
    "plt.title('Ball {} horiz. velocity vs. time'.format(1 + k//2))\n",
    "plt.plot(t_num[:-1], (xs_before[1:] - xs_before[:-1]).reshape(-1,N*2)[...,k], '.-', label='Initial path')\n",
    "plt.plot(t_min[:-1], (xs_after[1:] - xs_after[:-1]).reshape(-1,N*2)[...,k], '.-', label='Minimum action')\n",
    "plt.plot(t_num[:-1], (x_sim[1:] - x_sim[:-1]).reshape(-1,N*2)[...,k], 'k-', label='Simulator')\n",
    "plt.legend()\n",
    "plt.show()"
   ]
  },
  {
   "cell_type": "code",
   "execution_count": null,
   "id": "cf11c234",
   "metadata": {},
   "outputs": [],
   "source": []
  },
  {
   "cell_type": "code",
   "execution_count": null,
   "id": "539d61b5",
   "metadata": {},
   "outputs": [],
   "source": []
  },
  {
   "cell_type": "code",
   "execution_count": null,
   "id": "2ae09b59",
   "metadata": {},
   "outputs": [],
   "source": []
  }
 ],
 "metadata": {
  "kernelspec": {
   "display_name": "Python 3 (ipykernel)",
   "language": "python",
   "name": "python3"
  },
  "language_info": {
   "codemirror_mode": {
    "name": "ipython",
    "version": 3
   },
   "file_extension": ".py",
   "mimetype": "text/x-python",
   "name": "python",
   "nbconvert_exporter": "python",
   "pygments_lexer": "ipython3",
   "version": "3.8.5"
  }
 },
 "nbformat": 4,
 "nbformat_minor": 5
}
