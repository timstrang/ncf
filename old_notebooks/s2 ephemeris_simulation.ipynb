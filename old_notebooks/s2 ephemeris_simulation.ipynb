{
 "cells": [
  {
   "cell_type": "markdown",
   "id": "6311eb20",
   "metadata": {},
   "source": [
    "# Constructing a small Ephemeris Dataset\n",
    "Sam Greydanus | 2023\n",
    "### Setup\n",
    "Before running this code, you'll need to download the raw ephemeris data for the planets (or other celestial bodies) that you want to plot. To do this, go to [https://ssd.jpl.nasa.gov/horizons/app.html#/](https://ssd.jpl.nasa.gov/horizons/app.html#/). For 'Ephemeris Type' select 'Vector Table'. For 'Target Body' select the body you want (eg. 'Earth'). For Coordinate Center try using 'Solar System Barycenter (SSB) '. For time specification, I manually selected a timespan of five years; the default data interval is 1440 minutes (1 day). Once you've chosen your desired settings, click 'Generate Ephemeris' and then click 'Download Results' when the results load. This will let you download a .txt file to a local directory. Name the file after the planet, eg `earth.txt`. Repeat this process for all the planets you want, saving each of them to a different text file in the same folder. Once you have all the .txt files saved to that folder, you will be ready to run this code."
   ]
  },
  {
   "cell_type": "code",
   "execution_count": null,
   "id": "c7808880",
   "metadata": {},
   "outputs": [],
   "source": [
    "import numpy as np\n",
    "import torch\n",
    "\n",
    "import pandas as pd\n",
    "from functools import partial\n",
    "import matplotlib.pyplot as plt\n",
    "\n",
    "def load_planet(planet_name, data_dir):\n",
    "    '''Reads a file named, eg.,\"earth.txt\" with ephemeris data in a vector table format\n",
    "       downloaded from https://ssd.jpl.nasa.gov/horizons/app.html#/'''\n",
    "    with open(data_dir + '{}.txt'.format(planet_name), 'r') as f:\n",
    "        text = f.read()\n",
    "\n",
    "    main_data = text[text.find('$$SOE')+5:text.find('$$EOE')].split('\\n')\n",
    "    s_xyz = main_data[2::4]\n",
    "\n",
    "    f_xyz = []\n",
    "    for l in s_xyz:\n",
    "        splits = [s.strip(' ').split(' ')[0] for s in l.split('=')[1:]]\n",
    "        f_xyz.append([float(s)*1e3 for s in splits]) # convert from km to meters\n",
    "    return np.asarray(f_xyz)\n",
    "\n",
    "def get_colnames(names):\n",
    "    '''Generates DataFrame column names for each x, y, z coordinate dimension'''\n",
    "    colnames = []\n",
    "    for n in names:\n",
    "        colnames += [n + '_x', n + '_y', n + '_z']\n",
    "    return colnames\n",
    "\n",
    "def get_colformat(coords):\n",
    "    '''Reshape from [planets, time, xyz] to [time, planets*xyz]'''\n",
    "    N = coords.shape[0]\n",
    "    return coords.transpose(1,0,2).reshape(-1,N*3)\n",
    "\n",
    "def process_raw_ephemeris(planets, data_dir, last_n_days=None):\n",
    "    '''Loads raw ephemeris files for a list of planet names, organizes the data in a DataFrame,\n",
    "       and then saves the DataFrame as a csv in the same directory as the raw files.'''\n",
    "    coords = np.stack([load_planet(p, data_dir) for p in planets])\n",
    "    if last_n_days is not None:\n",
    "        coords = coords[:,-last_n_days:]\n",
    "    df = pd.DataFrame(data=get_colformat(coords), columns=get_colnames(planets))\n",
    "    df.to_csv(data_dir + 'ephemeris.csv')\n",
    "    return df"
   ]
  },
  {
   "cell_type": "code",
   "execution_count": null,
   "id": "d252275e",
   "metadata": {},
   "outputs": [],
   "source": [
    "def get_colors():\n",
    "    return {'sun':'yellow','venus':'orange','mercury':'pink','earth':'blue','mars':'red'}\n",
    "\n",
    "def plot_planets(df, planets, fig=None):\n",
    "    colors = get_colors()\n",
    "    fig = plt.figure(figsize=[5,5], dpi=100) if fig is None else fig\n",
    "    \n",
    "    for i, name in enumerate(planets):\n",
    "        x, y, z = df[name + '_x'], df[name + '_y'], df[name + '_z']\n",
    "        plt.plot(x, y, alpha=0.33, color=colors[name], label=name + ' (data)')\n",
    "        plt.plot(x.iloc[0], y.iloc[0], 'x', alpha=0.33, color=colors[name])\n",
    "        plt.plot(x.iloc[-1], y.iloc[-1], '.', alpha=0.33, color=colors[name])\n",
    "    plt.title(\"Ephemeris data from JPL's Horizon System\")\n",
    "    plt.tight_layout() ; plt.axis('equal')\n",
    "    return fig\n",
    "    \n",
    "planets = ['sun', 'venus', 'earth', 'mars','mercury']\n",
    "data_dir = './data/'\n",
    "df = process_raw_ephemeris(planets, data_dir, last_n_days=365) #365\n",
    "plot_planets(df, planets)\n",
    "plt.legend(fontsize=7,  loc='upper right') ; plt.show()"
   ]
  },
  {
   "cell_type": "markdown",
   "id": "95999d2c",
   "metadata": {},
   "source": [
    "## Make coplanar"
   ]
  },
  {
   "cell_type": "code",
   "execution_count": null,
   "id": "09ebaf74",
   "metadata": {},
   "outputs": [],
   "source": [
    "# e = df[['earth_x', 'earth_y', 'earth_z']]\n",
    "m = df[['mars_x', 'mars_y', 'mars_z']]\n",
    "# s = df[['sun_x', 'sun_y', 'sun_z']]\n",
    "# v = df[['venus_x', 'venus_y', 'venus_z']]\n",
    "# m = df[['mercury_x', 'mercury_y', 'mercury_z']]\n",
    "plt.plot(m)"
   ]
  },
  {
   "cell_type": "markdown",
   "id": "dd743ca2",
   "metadata": {},
   "source": [
    "### It turns out that all the orbits are more or less coplanar already"
   ]
  },
  {
   "cell_type": "code",
   "execution_count": null,
   "id": "bc3c6647",
   "metadata": {},
   "outputs": [],
   "source": []
  },
  {
   "cell_type": "markdown",
   "id": "a7203af4",
   "metadata": {},
   "source": [
    "## Simulate the planet trajectories & compare to data"
   ]
  },
  {
   "cell_type": "code",
   "execution_count": null,
   "id": "69298700",
   "metadata": {},
   "outputs": [],
   "source": [
    "def V_planets(xs, masses, eps=1e-10, G=6.67e-11): # # 2e-25\n",
    "    if len(xs.shape) > 2:\n",
    "        return sum([V_planets(_xs, masses, eps=eps, G=G) for _xs in xs]) # broadcast\n",
    "    else:\n",
    "        ixs = torch.triu_indices(xs.shape[0], xs.shape[0], 1).split(1)\n",
    "        dist_matrix = ((xs[:,0:1] - xs[:,0:1].T).pow(2) + (xs[:,1:2] - xs[:,1:2].T).pow(2) + eps).sqrt()\n",
    "        mM_matrix = torch.tensor( masses[None,:] * masses[:,None] )\n",
    "        U_vals = G * mM_matrix[ixs] / dist_matrix[ixs]\n",
    "        return -U_vals.sum()\n",
    "    \n",
    "def accelerations(xs, masses, potential_fn, **kwargs):\n",
    "    xs.requires_grad = True\n",
    "    forces = -torch.autograd.grad(potential_fn(xs), xs)[0]\n",
    "    return forces/masses[:,None]\n",
    "    \n",
    "def solve_ode_euler(x0, x1, dt, accel_fn, steps=100, box_width=1):\n",
    "    xs = [x0, x1]\n",
    "    ts = [0, dt]\n",
    "    v = (x1 - x0) / dt\n",
    "    x = xs[-1]\n",
    "    for i in range(steps-2):\n",
    "        a = accel_fn(x)\n",
    "        v = v + a*dt\n",
    "        x = x + v*dt\n",
    "        xs.append(x)\n",
    "        ts.append(ts[-1]+dt)\n",
    "    return np.asarray(ts), np.stack(xs)"
   ]
  },
  {
   "cell_type": "code",
   "execution_count": null,
   "id": "74f07c74",
   "metadata": {},
   "outputs": [],
   "source": [
    "def get_coords(df, planets, i=0):\n",
    "    return np.asarray([ [df[p + '_x'].iloc[i], df[p + '_y'].iloc[i]] for p in planets])\n",
    "\n",
    "def get_masses(planets):\n",
    "    d = {'sun':1.99e30, 'venus':4.87e24, 'mercury':3.3e23, 'earth':5.97e24, 'mars':6.42e23}\n",
    "    return np.asarray([d[p] for p in planets])\n",
    "\n",
    "dt = 24*60*60 # in days\n",
    "x0 = get_coords(df, planets, i=0)\n",
    "x1 = get_coords(df, planets, i=1)\n",
    "\n",
    "V_planets_fn = partial(V_planets, masses=get_masses(planets))\n",
    "accel_fn = lambda x: accelerations(torch.tensor(x), get_masses(planets), V_planets_fn).numpy()\n",
    "t_sim, x_sim = solve_ode_euler(x0, x1, dt, accel_fn, steps=365) #300"
   ]
  },
  {
   "cell_type": "code",
   "execution_count": null,
   "id": "0bf08b9a",
   "metadata": {},
   "outputs": [],
   "source": [
    "plot_planets(df, planets)\n",
    "\n",
    "colors = get_colors()\n",
    "for i, (planet, coords) in enumerate(zip(planets, x_sim.transpose(1,2,0))):\n",
    "    x, y = coords\n",
    "    plt.plot(x, y, '--', alpha=0.5, color=colors[planet], label=planets[i] + ' (sim)')\n",
    "    plt.plot(x[-1], y[-1], '.', color=colors[planet])\n",
    "plt.axis('equal')\n",
    "\n",
    "plt.legend(fontsize=6,  loc='upper right', ncol=2) ; plt.show()"
   ]
  },
  {
   "cell_type": "code",
   "execution_count": null,
   "id": "39b9cdb7",
   "metadata": {},
   "outputs": [],
   "source": [
    "# FORCES\n",
    "\n",
    "# sun-venus 5.60e22 # 5.47e22\n",
    "# sun-earth 3.63e22 # 3.52e22\n",
    "# sun-mars 1.75e21 # 1.65e21 \n",
    "# sun-mercury 9.80e21 # 9.3e21\n",
    "# venus-earth 4.50e17\n",
    "# venus-mars 3.5e15\n",
    "# venus-mercury 1.5e16\n",
    "# earth-mars 2.67e15\n",
    "# earth-mercury 6.1e15\n",
    "# mars-mercury 4.76e14"
   ]
  },
  {
   "cell_type": "code",
   "execution_count": null,
   "id": "31f811cd",
   "metadata": {},
   "outputs": [],
   "source": []
  },
  {
   "cell_type": "code",
   "execution_count": null,
   "id": "c5019a73",
   "metadata": {},
   "outputs": [],
   "source": [
    "# m = np.asarray([get_mass(p) for p in planets])\n",
    "# m"
   ]
  },
  {
   "cell_type": "code",
   "execution_count": null,
   "id": "0c3a8494",
   "metadata": {},
   "outputs": [],
   "source": [
    "# def simulate_planets(dt=0.5, steps=100):\n",
    "#     np.random.seed(1)\n",
    "#     x0 = np.asarray([[0.4, 0.3], [0.4, 0.7], [0.7, 0.5]])\n",
    "#     v0 = np.asarray([[0.017, -0.006], [-.012, -.012], [0.0, 0.017]])\n",
    "#     x1 = x0 + dt*v0\n",
    "#     forces_fn = lambda x: forces(torch.tensor(x), V_planets).numpy()\n",
    "#     return solve_ode_euler(x0, x1, dt, forces_fn, steps=steps)"
   ]
  }
 ],
 "metadata": {
  "kernelspec": {
   "display_name": "Python 3 (ipykernel)",
   "language": "python",
   "name": "python3"
  },
  "language_info": {
   "codemirror_mode": {
    "name": "ipython",
    "version": 3
   },
   "file_extension": ".py",
   "mimetype": "text/x-python",
   "name": "python",
   "nbconvert_exporter": "python",
   "pygments_lexer": "ipython3",
   "version": "3.8.5"
  }
 },
 "nbformat": 4,
 "nbformat_minor": 5
}
