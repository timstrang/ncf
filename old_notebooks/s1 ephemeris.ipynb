{
 "cells": [
  {
   "cell_type": "markdown",
   "id": "c17364d8",
   "metadata": {},
   "source": [
    "# Constructing a small Ephemeris Dataset\n",
    "Sam Greydanus | 2023\n",
    "### Setup\n",
    "Before running this code, you'll need to download the raw ephemeris data for the planets (or other celestial bodies) that you want to plot. To do this, go to [https://ssd.jpl.nasa.gov/horizons/app.html#/](https://ssd.jpl.nasa.gov/horizons/app.html#/). For 'Ephemeris Type' select 'Vector Table'. For 'Target Body' select the body you want (eg. 'Earth'). For Coordinate Center try using 'Solar System Barycenter (SSB) '. For time specification, I manually selected a timespan of five years; the default data interval is 1440 minutes (1 day). Once you've chosen your desired settings, click 'Generate Ephemeris' and then click 'Download Results' when the results load. This will let you download a .txt file to a local directory. Name the file after the planet, eg `earth.txt`. Repeat this process for all the planets you want, saving each of them to a different text file in the same folder. Once you have all the .txt files saved to that folder, you will be ready to run this code."
   ]
  },
  {
   "cell_type": "code",
   "execution_count": null,
   "id": "c199e4aa",
   "metadata": {},
   "outputs": [],
   "source": [
    "import numpy as np\n",
    "import pandas as pd\n",
    "import matplotlib.pyplot as plt\n",
    "\n",
    "def load_planet(planet_name, data_dir):\n",
    "    '''Reads a file named, eg.,\"earth.txt\" with ephemeris data in a vector table format\n",
    "       downloaded from https://ssd.jpl.nasa.gov/horizons/app.html#/'''\n",
    "    with open(data_dir + '{}.txt'.format(planet_name), 'r') as f:\n",
    "        text = f.read()\n",
    "\n",
    "    main_data = text[text.find('$$SOE')+5:text.find('$$EOE')].split('\\n')\n",
    "    s_xyz = main_data[2::4]\n",
    "\n",
    "    f_xyz = []\n",
    "    for l in s_xyz:\n",
    "        splits = [s.strip(' ').split(' ')[0] for s in l.split('=')[1:]]\n",
    "        f_xyz.append([float(s) for s in splits])\n",
    "    return np.asarray(f_xyz)\n",
    "\n",
    "def get_colnames(names):\n",
    "    '''Generates DataFrame column names for each x, y, z coordinate dimension'''\n",
    "    colnames = []\n",
    "    for n in names:\n",
    "        colnames += [n + '_x', n + '_y', n + '_z']\n",
    "    return colnames\n",
    "\n",
    "def get_colformat(coords):\n",
    "    '''Reshape from [planets, time, xyz] to [time, planets*xyz]'''\n",
    "    N = coords.shape[0]\n",
    "    return coords.transpose(1,0,2).reshape(-1,N*3)\n",
    "\n",
    "def process_raw_ephemeris(planets, data_dir, last_n_days=None):\n",
    "    '''Loads raw ephemeris files for a list of planet names, organizes the data in a DataFrame,\n",
    "       and then saves the DataFrame as a csv in the same directory as the raw files.'''\n",
    "    coords = np.stack([load_planet(p, data_dir) for p in planets])\n",
    "    if last_n_days is not None:\n",
    "        coords = coords[:,-last_n_days:]\n",
    "    df = pd.DataFrame(data=get_colformat(coords), columns=get_colnames(planets))\n",
    "    df.to_csv(data_dir + 'ephemeris.csv')\n",
    "    return df"
   ]
  },
  {
   "cell_type": "code",
   "execution_count": null,
   "id": "65fc3bf2",
   "metadata": {},
   "outputs": [],
   "source": [
    "def plot_planets(df, planets, fig=None):\n",
    "    colors = {'sun':'yellow','venus':'orange','mercury':'pink','earth':'blue','mars':'red'}\n",
    "    fig = plt.figure(figsize=[5,5], dpi=100) if fig is None else fig\n",
    "    \n",
    "    for i, name in enumerate(planets):\n",
    "        x, y, z = df[name + '_x'], df[name + '_y'], df[name + '_z']\n",
    "        plt.plot(x, y, color=colors[name], label=name)\n",
    "        plt.plot(x.iloc[-1], y.iloc[-1], '.', color=colors[name])\n",
    "    plt.title(\"Ephemeris data from JPL's Horizon System\")\n",
    "    plt.legend(fontsize=7,  loc='upper right') ; plt.tight_layout()\n",
    "    return fig\n",
    "    \n",
    "planets = ['sun', 'venus', 'earth', 'mars']\n",
    "data_dir = './data/'\n",
    "df = process_raw_ephemeris(planets, data_dir, last_n_days=365)\n",
    "plot_planets(df, planets)\n",
    "plt.show()"
   ]
  }
 ],
 "metadata": {
  "kernelspec": {
   "display_name": "Python 3 (ipykernel)",
   "language": "python",
   "name": "python3"
  },
  "language_info": {
   "codemirror_mode": {
    "name": "ipython",
    "version": 3
   },
   "file_extension": ".py",
   "mimetype": "text/x-python",
   "name": "python",
   "nbconvert_exporter": "python",
   "pygments_lexer": "ipython3",
   "version": "3.8.5"
  }
 },
 "nbformat": 4,
 "nbformat_minor": 5
}
