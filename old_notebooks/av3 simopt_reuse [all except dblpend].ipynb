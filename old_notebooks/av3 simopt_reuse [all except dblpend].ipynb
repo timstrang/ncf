{
 "cells": [
  {
   "cell_type": "markdown",
   "id": "9e79e5af",
   "metadata": {},
   "source": [
    "## Simulation as Optimization: reuse code"
   ]
  },
  {
   "cell_type": "code",
   "execution_count": null,
   "id": "a85560cd",
   "metadata": {},
   "outputs": [],
   "source": [
    "import numpy as np\n",
    "import matplotlib.pyplot as plt\n",
    "import torch, time\n",
    "\n",
    "from celluloid import Camera\n",
    "from IPython.display import HTML\n",
    "from base64 import b64encode"
   ]
  },
  {
   "cell_type": "code",
   "execution_count": null,
   "id": "7a78627c",
   "metadata": {},
   "outputs": [],
   "source": [
    "def make_video(xs, path, interval=60, ms=10, **kwargs): # xs: [time, N, 2]\n",
    "    fig = plt.gcf() ; fig.set_dpi(100) ; fig.set_size_inches(3, 3)\n",
    "    camera = Camera(fig)\n",
    "    for i in range(xs.shape[0]):\n",
    "        plt.plot(xs[i][...,0], xs[i][...,1], 'k.', markersize=ms)\n",
    "        plt.axis('equal') ; plt.xlim(0,1) ; plt.ylim(0,1)\n",
    "        plt.xticks([], []); plt.yticks([], [])\n",
    "        camera.snap()\n",
    "    anim = camera.animate(blit=True, interval=interval, **kwargs)\n",
    "    anim.save(path) ; plt.close()"
   ]
  },
  {
   "cell_type": "markdown",
   "id": "bc679c29",
   "metadata": {},
   "source": [
    "## Get a baseline simulation working"
   ]
  },
  {
   "cell_type": "code",
   "execution_count": null,
   "id": "8dbe185b",
   "metadata": {},
   "outputs": [],
   "source": [
    "def V_gas(xs, eps=1e-6, overlap_radius=0.05, scale_coeff=1e-5): # 1e-6 -> 500 particles\n",
    "    if len(xs.shape) > 2:\n",
    "        return sum([V_gas(_xs, overlap_radius, scale_coeff) for _xs in xs]) # broadcast\n",
    "    else:\n",
    "        dist_matrix = ((xs[:,0:1] - xs[:,0:1].T).pow(2) + (xs[:,1:2] - xs[:,1:2].T).pow(2) + eps).sqrt()\n",
    "        dists = dist_matrix[torch.triu_indices(xs.shape[0], xs.shape[0], 1).split(1)]\n",
    "        # potentials  = (dists > 1-overlap_radius) * (5e2*(overlap_radius - (1-dists)) + 1/overlap_radius) # cap\n",
    "        potentials = (dists > 0.5) * (dists < 1-overlap_radius) * 1/(1-dists + eps)  # 1/(1-r) (wraparound)\n",
    "        potentials += (dists > overlap_radius)* (dists < 0.5) * 1/(dists + eps)  # 1/r\n",
    "        potentials += (dists < overlap_radius) * (5e2*(overlap_radius - dists) + 1/overlap_radius)  # cap\n",
    "        return potentials.sum() * scale_coeff\n",
    "    \n",
    "def V_3body(xs, eps=1e-6, overlap_radius=0.05, scale_coeff=1.3e-4):\n",
    "    if len(xs.shape) > 2:\n",
    "        return sum([V_3body(_xs, overlap_radius, scale_coeff) for _xs in xs]) # broadcast\n",
    "    else:\n",
    "        dist_matrix = ((xs[:,0:1] - xs[:,0:1].T).pow(2) + (xs[:,1:2] - xs[:,1:2].T).pow(2) + eps).sqrt()\n",
    "        dists = dist_matrix[torch.triu_indices(xs.shape[0], xs.shape[0], 1).split(1)]\n",
    "        potentials =  (dists > overlap_radius) * 1/(dists + eps)  # 1/r^2\n",
    "        potentials += (dists < overlap_radius) * (5e2*(overlap_radius - dists) + 1/overlap_radius)\n",
    "        return -potentials.sum() * scale_coeff\n",
    "    \n",
    "def V_freebody(xs): # assume xs are measured along vertical axis\n",
    "    return xs.sum()\n",
    "\n",
    "def V_pend(x, m=1, l=150, g=1):\n",
    "    return -m*l*g*(torch.cos(x) - 1)\n",
    "    \n",
    "def T_pend(xdot, m=1, l=150, g=1):\n",
    "    return m*l*g*(l*xdot**2) / (2 * g)\n",
    "    \n",
    "def forces(xs, potential_fn, **kwargs):\n",
    "    xs.requires_grad = True\n",
    "    return -torch.autograd.grad(potential_fn(xs), xs)[0]"
   ]
  },
  {
   "cell_type": "code",
   "execution_count": null,
   "id": "81d7cb50",
   "metadata": {},
   "outputs": [],
   "source": [
    "def solve_ode_euler(x0, x1, dt, forces_fn, steps=100, box_width=1):\n",
    "    xs = [x0, x1]\n",
    "    ts = [0, dt]\n",
    "    v = (x1 - x0) / dt\n",
    "    x = xs[-1]\n",
    "    for i in range(steps-2):\n",
    "        a = forces_fn(x)\n",
    "        v = v + a*dt\n",
    "        x = x + v*dt\n",
    "        xs.append(x)\n",
    "        ts.append(ts[-1]+dt)\n",
    "    return np.asarray(ts), np.stack(xs)\n",
    "\n",
    "def simulate_freebody(dt=0.25, steps=60):\n",
    "    np.random.seed(1)\n",
    "    x0, x1 = np.asarray([0.]), np.asarray([2.])\n",
    "    v0 = (x1 - x0) / dt\n",
    "    forces_fn = lambda x: forces(torch.tensor(x), V_freebody).numpy()\n",
    "    return solve_ode_euler(x0, x1, dt, forces_fn, steps=steps, box_width=100)\n",
    "\n",
    "def simulate_pend(dt=1):\n",
    "    np.random.seed(1)\n",
    "    x0, x1 = np.asarray([np.pi/2.]), np.asarray([np.pi/2.])\n",
    "    def pend_forces_fn(x, g=1, l=150):\n",
    "        return -g / l * np.sin(x)\n",
    "    return solve_ode_euler(x0, x1, dt, pend_forces_fn)\n",
    "\n",
    "def simulate_3body(dt=0.5, steps=100):\n",
    "    np.random.seed(1)\n",
    "    x0 = np.asarray([[0.4, 0.3], [0.4, 0.7], [0.7, 0.5]])\n",
    "    v0 = np.asarray([[0.017, -0.006], [-.012, -.012], [0.0, 0.017]])\n",
    "    x1 = x0 + dt*v0\n",
    "    forces_fn = lambda x: forces(torch.tensor(x), V_3body).numpy()\n",
    "    return solve_ode_euler(x0, x1, dt, forces_fn, steps=steps)\n",
    "\n",
    "def simulate_gas(dt=1, N=50):\n",
    "    np.random.seed(1)\n",
    "    x0 = np.random.rand(N,2)*.8 + 0.1\n",
    "    v0 = np.random.randn(N,2)*.00\n",
    "    x1 = x0 + dt*v0\n",
    "    forces_fn = lambda x: forces(torch.tensor(x), V_gas).numpy()\n",
    "    return solve_ode_euler(x0, x1, dt, forces_fn)"
   ]
  },
  {
   "cell_type": "code",
   "execution_count": null,
   "id": "b182b631",
   "metadata": {},
   "outputs": [],
   "source": [
    "t_sim, x_sim = simulate_freebody(dt=0.25, steps=60)\n",
    "plt.title('Particle in free fall')\n",
    "plt.plot(t_sim, x_sim, 'k.-')\n",
    "plt.show()"
   ]
  },
  {
   "cell_type": "code",
   "execution_count": null,
   "id": "1cdec441",
   "metadata": {},
   "outputs": [],
   "source": [
    "t_sim, x_sim = simulate_pend(dt=1)\n",
    "plt.title('Pendulum')\n",
    "plt.plot(t_sim, x_sim, 'k.-')\n",
    "plt.show()"
   ]
  },
  {
   "cell_type": "code",
   "execution_count": null,
   "id": "5e1634c5",
   "metadata": {},
   "outputs": [],
   "source": [
    "t, x = simulate_3body()\n",
    "make_video(x, path='sim.mp4', interval=60, ms=20)\n",
    "mp4 = open('sim.mp4','rb').read()\n",
    "data_url = \"data:video/mp4;base64,\" + b64encode(mp4).decode()\n",
    "HTML('<video width=300 controls><source src=\"{}\" type=\"video/mp4\"></video>'.format(data_url))"
   ]
  },
  {
   "cell_type": "code",
   "execution_count": null,
   "id": "5ba76c1a",
   "metadata": {},
   "outputs": [],
   "source": [
    "t, x = simulate_gas(dt=.5, N=50)\n",
    "\n",
    "make_video(x, path='sim.mp4', interval=30)\n",
    "mp4 = open('sim.mp4','rb').read()\n",
    "data_url = \"data:video/mp4;base64,\" + b64encode(mp4).decode()\n",
    "HTML('<video width=300 controls><source src=\"{}\" type=\"video/mp4\"></video>'.format(data_url))"
   ]
  },
  {
   "cell_type": "markdown",
   "id": "ea946ea1",
   "metadata": {},
   "source": [
    "## Recover the same dynamics by minimizing the action"
   ]
  },
  {
   "cell_type": "code",
   "execution_count": null,
   "id": "b9708f4c",
   "metadata": {},
   "outputs": [],
   "source": [
    "def lagrangian_pend(x, xdot, m=1):\n",
    "    norm_factor = x.shape[0]\n",
    "    return (T_pend(xdot).sum() - V_pend(x).sum()) / norm_factor\n",
    "\n",
    "def lagrangian_freebody(x, xdot, m=1):\n",
    "    norm_factor = x.shape[0]\n",
    "    return ((.5*m*xdot**2).sum() - V_freebody(x.reshape(-1, 1)).sum()) / norm_factor\n",
    "\n",
    "def lagrangian_3body(x, xdot, m=1):\n",
    "    N = x.shape[-1] // 2\n",
    "    norm_factor = x.shape[0]*N\n",
    "    return ((.5*m*xdot**2).sum() - V_3body(x.reshape(-1, N, 2)).sum()) / norm_factor\n",
    "\n",
    "def lagrangian_gas(x, xdot, m=1):\n",
    "    N = x.shape[-1] // 2\n",
    "    norm_factor = x.shape[0]*N\n",
    "    return ((.5*m*xdot**2).sum() -V_gas(x.reshape(-1, N, 2)).sum()) / norm_factor\n",
    "  \n",
    "def action(x, L_fn, dt):\n",
    "    xdot = (x[1:] - x[:-1]) / dt\n",
    "    xdot = torch.cat([xdot, xdot[-1:]], axis=0)\n",
    "    return L_fn(x, xdot).sum()\n",
    "\n",
    "def get_path_between(path, steps, step_size, L_fn, dt, opt='sgd', print_every=15):\n",
    "    t = np.linspace(0, len(path.x)-1, len(path.x)) * dt\n",
    "    optimizer = torch.optim.SGD(path.parameters(), lr=step_size, momentum=0) if opt=='sgd' else \\\n",
    "                torch.optim.Adam(path.parameters(), lr=step_size)\n",
    "    xs = [path.x.clone().data]\n",
    "    t0 = time.time()\n",
    "    for i in range(steps):\n",
    "        S = action(path.x, L_fn, dt)\n",
    "        S.backward() ; path.x.grad.data[[0,-1]] *= 0\n",
    "        optimizer.step() ; path.zero_grad()\n",
    "\n",
    "        if i % (steps//print_every) == 0:\n",
    "            xs.append(path.x.clone().data)\n",
    "            print('step={:04d}, S={:.3e} J*s, dt={:.1f}s'.format(i, S.item(), time.time()-t0))\n",
    "            t0 = time.time()\n",
    "    return t, path, xs\n",
    "\n",
    "class PerturbedPath(torch.nn.Module):\n",
    "    def __init__(self, x_true, N, sigma=0, shift=False, zero_basepath=False, coords=2):\n",
    "        super(PerturbedPath, self).__init__()\n",
    "        np.random.seed(0)\n",
    "        self.x_true = x_true\n",
    "        x_noise = sigma*np.random.randn(*x_true.shape).clip(-1,1)\n",
    "        x_noise[:1] = x_noise[-1:] = 0\n",
    "        x_basepath = np.copy(x_true)\n",
    "        x_basepath[1:-1] = x_basepath[1:-1]*0 if zero_basepath else x_basepath[1:-1]\n",
    "        self.x_pert = x_pert = (x_basepath + x_noise).reshape(-1, N*coords)\n",
    "        if shift:\n",
    "            x_pert_shift = np.concatenate([x_pert[5:-5,2:], x_pert[5:-5,:2]], axis=-1)\n",
    "            self.x_pert[5:-5] = x_pert[5:-5] = x_pert_shift\n",
    "            print(self.x_pert.shape)\n",
    "        self.x = torch.nn.Parameter(torch.tensor(x_pert)) # [time, N*2]"
   ]
  },
  {
   "cell_type": "markdown",
   "id": "89aebe4b",
   "metadata": {},
   "source": [
    "## Free body"
   ]
  },
  {
   "cell_type": "code",
   "execution_count": null,
   "id": "6a31a572",
   "metadata": {},
   "outputs": [],
   "source": [
    "dt = 0.25 ; N = 1\n",
    "t_sim, x_sim = simulate_freebody(dt=dt, steps=60)\n",
    "init_path = PerturbedPath(x_sim, N=N, coords=1, sigma=1.5e0, zero_basepath=True) # [time, N*2]\n",
    "t_min, path, xs_min = get_path_between(init_path, steps=500, step_size=1e0, \n",
    "                                       L_fn=lagrangian_freebody, dt=dt, opt='adam')"
   ]
  },
  {
   "cell_type": "code",
   "execution_count": null,
   "id": "8cc89ce1",
   "metadata": {},
   "outputs": [],
   "source": [
    "plt.figure(dpi=90)\n",
    "plt.title('Particle in freefall')\n",
    "plt.plot(t_sim, x_sim, 'r-', label='ODE solution')\n",
    "\n",
    "plt.plot(t_min, xs_min[0], 'y.-', label='Initial (random) path')\n",
    "for i, xi in enumerate(xs_min):\n",
    "    label = 'During optimization' if i==10 else None\n",
    "    plt.plot(t_min, xi, alpha=0.3, color=plt.cm.viridis( 1-i/(len(xs_min)-1) ), label=label)\n",
    "plt.plot(t_min, xs_min[-1], 'b.-', label='Final (optimized) path')\n",
    "plt.plot(t_min[[0,-1]], xs_min[0].data[[0,-1]], 'b+', markersize=15, label='Points held constant')\n",
    "\n",
    "plt.ylim(-5, 40)\n",
    "plt.xlabel('Time (s)') ; plt.ylabel('Height (m)') ; plt.legend(fontsize=8, ncol=3)\n",
    "plt.tight_layout() ; plt.show()"
   ]
  },
  {
   "cell_type": "markdown",
   "id": "70b1b98e",
   "metadata": {},
   "source": [
    "## Pendulum"
   ]
  },
  {
   "cell_type": "code",
   "execution_count": null,
   "id": "bae218f5",
   "metadata": {},
   "outputs": [],
   "source": [
    "dt = 1 ; N = 1\n",
    "t_sim, x_sim = simulate_pend(dt=dt)\n",
    "\n",
    "init_path = PerturbedPath(x_sim, N=N, coords=1, sigma=1.5e0, zero_basepath=True) # [time, N*2]\n",
    "t_min, path, xs_min = get_path_between(init_path, steps=1000, step_size=1e0, \n",
    "                                       L_fn=lagrangian_pend, dt=dt, opt='adam')\n",
    "\n",
    "plt.title('Pendulum')\n",
    "plt.plot(t_sim, x_sim, 'k.-', label='Simulator')\n",
    "plt.plot(t_min, xs_min[-1], 'b.-', label='Path of least action')\n",
    "plt.legend()\n",
    "plt.tight_layout() ; plt.show()"
   ]
  },
  {
   "cell_type": "markdown",
   "id": "269b125d",
   "metadata": {},
   "source": [
    "## Gas simulation"
   ]
  },
  {
   "cell_type": "code",
   "execution_count": null,
   "id": "bfc76ab1",
   "metadata": {},
   "outputs": [],
   "source": [
    "dt = 0.5 ; N = 50\n",
    "t_sim, x_sim = simulate_gas(dt=dt, N=N)\n",
    "init_path = PerturbedPath(x_sim, N=N, sigma=1e-2) # [time, N*2]\n",
    "# t_min, path, xs_min = get_path_between(init_path, steps=500, step_size=1e-3,\n",
    "#                                        L_fn=lagrangian_gas, dt=dt, opt='adam')\n",
    "t_min, path, xs_min = get_path_between(init_path, steps=500, step_size=1e1,\n",
    "                                       L_fn=lagrangian_gas, dt=dt, opt='sgd')"
   ]
  },
  {
   "cell_type": "code",
   "execution_count": null,
   "id": "09654f5a",
   "metadata": {},
   "outputs": [],
   "source": [
    "N = x_sim.shape[-2]\n",
    "xs_before = xs_min[0].detach().numpy().reshape(-1,N,2)\n",
    "xs_after = xs_min[-1].detach().numpy().reshape(-1,N,2)\n",
    "\n",
    "k = 25\n",
    "plt.figure(dpi=100)\n",
    "plt.title('Ball {} horiz. velocity vs. time'.format(1 + k//2))\n",
    "plt.plot((xs_before[1:] - xs_before[:-1]).reshape(-1,N*2)[...,k], '.-', label='Initial path')\n",
    "plt.plot((xs_after[1:] - xs_after[:-1]).reshape(-1,N*2)[...,k], '.-', label='Minimum action')\n",
    "plt.plot((x_sim[1:] - x_sim[:-1]).reshape(-1,N*2)[...,k], 'k-', label='Simulator')\n",
    "plt.legend()\n",
    "plt.show()"
   ]
  },
  {
   "cell_type": "code",
   "execution_count": null,
   "id": "33fb9d32",
   "metadata": {},
   "outputs": [],
   "source": [
    "xs = xs_min[0].detach().numpy().reshape(-1,N,2)\n",
    "make_video(xs, path='sim.mp4', interval=30, ms=10)\n",
    "mp4 = open('sim.mp4','rb').read()\n",
    "data_url = \"data:video/mp4;base64,\" + b64encode(mp4).decode()\n",
    "HTML('<video width=300 controls><source src=\"{}\" type=\"video/mp4\"></video>'.format(data_url))"
   ]
  },
  {
   "cell_type": "code",
   "execution_count": null,
   "id": "e6e0a30a",
   "metadata": {},
   "outputs": [],
   "source": [
    "xs = xs_min[-1].detach().numpy().reshape(-1,N,2)\n",
    "make_video(xs, path='sim.mp4', interval=30, ms=10)\n",
    "mp4 = open('sim.mp4','rb').read()\n",
    "data_url = \"data:video/mp4;base64,\" + b64encode(mp4).decode()\n",
    "HTML('<video width=300 controls><source src=\"{}\" type=\"video/mp4\"></video>'.format(data_url))"
   ]
  },
  {
   "cell_type": "markdown",
   "id": "f7a2e63c",
   "metadata": {},
   "source": [
    "## 3 body simulation"
   ]
  },
  {
   "cell_type": "code",
   "execution_count": null,
   "id": "f9a7fe21",
   "metadata": {},
   "outputs": [],
   "source": [
    "dt = 0.5 ; N = 3\n",
    "\n",
    "t_sim, x_sim = simulate_3body(dt=dt)\n",
    "init_path = PerturbedPath(x_sim, N=N, sigma=2e-2) # [time, N*2]\n",
    "t_min, path, xs_min = get_path_between(init_path, steps=500, step_size=1e1,\n",
    "                                       L_fn=lagrangian_3body, dt=dt, opt='sgd')"
   ]
  },
  {
   "cell_type": "code",
   "execution_count": null,
   "id": "ac7bd998",
   "metadata": {},
   "outputs": [],
   "source": [
    "N = x_sim.shape[-2]\n",
    "xs_before = xs_min[0].detach().numpy().reshape(-1,N,2)\n",
    "xs_after = xs_min[-1].detach().numpy().reshape(-1,N,2)\n",
    "\n",
    "plt.figure(dpi=100) ; k = 1\n",
    "plt.title('Ball {} horiz. velocity vs. time'.format(1 + k//2))\n",
    "plt.plot((xs_before[1:] - xs_before[:-1]).reshape(-1,N*2)[...,k], '.-', label='Initial path')\n",
    "plt.plot((xs_after[1:] - xs_after[:-1]).reshape(-1,N*2)[...,k], '.-', label='Minimum action')\n",
    "plt.plot((x_sim[1:] - x_sim[:-1]).reshape(-1,N*2)[...,k], 'k-', label='Simulator')\n",
    "plt.legend()\n",
    "plt.show()"
   ]
  },
  {
   "cell_type": "code",
   "execution_count": null,
   "id": "fd0adb41",
   "metadata": {},
   "outputs": [],
   "source": [
    "xs = xs_min[0].detach().numpy().reshape(-1,N,2)\n",
    "make_video(xs, path='sim.mp4', interval=60, ms=20)\n",
    "mp4 = open('sim.mp4','rb').read()\n",
    "data_url = \"data:video/mp4;base64,\" + b64encode(mp4).decode()\n",
    "HTML('<video width=300 controls><source src=\"{}\" type=\"video/mp4\"></video>'.format(data_url))"
   ]
  },
  {
   "cell_type": "code",
   "execution_count": null,
   "id": "eaf54a69",
   "metadata": {},
   "outputs": [],
   "source": [
    "xs = xs_min[-1].detach().numpy().reshape(-1,N,2)\n",
    "make_video(xs, path='sim.mp4', interval=60, ms=20)\n",
    "mp4 = open('sim.mp4','rb').read()\n",
    "data_url = \"data:video/mp4;base64,\" + b64encode(mp4).decode()\n",
    "HTML('<video width=300 controls><source src=\"{}\" type=\"video/mp4\"></video>'.format(data_url))"
   ]
  },
  {
   "cell_type": "code",
   "execution_count": null,
   "id": "45cf281f",
   "metadata": {},
   "outputs": [],
   "source": []
  },
  {
   "cell_type": "code",
   "execution_count": null,
   "id": "9875bce1",
   "metadata": {},
   "outputs": [],
   "source": []
  },
  {
   "cell_type": "code",
   "execution_count": null,
   "id": "a93844e0",
   "metadata": {},
   "outputs": [],
   "source": []
  },
  {
   "cell_type": "code",
   "execution_count": null,
   "id": "892ea82e",
   "metadata": {},
   "outputs": [],
   "source": []
  },
  {
   "cell_type": "code",
   "execution_count": null,
   "id": "d9e81e6e",
   "metadata": {},
   "outputs": [],
   "source": []
  },
  {
   "cell_type": "code",
   "execution_count": null,
   "id": "7804a5c1",
   "metadata": {},
   "outputs": [],
   "source": []
  },
  {
   "cell_type": "code",
   "execution_count": null,
   "id": "1907f618",
   "metadata": {},
   "outputs": [],
   "source": []
  }
 ],
 "metadata": {
  "kernelspec": {
   "display_name": "Python 3 (ipykernel)",
   "language": "python",
   "name": "python3"
  },
  "language_info": {
   "codemirror_mode": {
    "name": "ipython",
    "version": 3
   },
   "file_extension": ".py",
   "mimetype": "text/x-python",
   "name": "python",
   "nbconvert_exporter": "python",
   "pygments_lexer": "ipython3",
   "version": "3.8.5"
  }
 },
 "nbformat": 4,
 "nbformat_minor": 5
}
