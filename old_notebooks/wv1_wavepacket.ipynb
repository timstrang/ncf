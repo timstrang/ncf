{
 "cells": [
  {
   "cell_type": "markdown",
   "metadata": {
    "id": "B0BLtVxuDluL"
   },
   "source": [
    "# SimOpt: quantum wave packet"
   ]
  },
  {
   "cell_type": "code",
   "execution_count": null,
   "metadata": {
    "id": "PB5Xs-4FDpg5"
   },
   "outputs": [],
   "source": [
    "import csv, math, os, shutil, sys\n",
    "import matplotlib.pyplot as plt\n",
    "import numpy as np\n",
    "import torch\n",
    "from matplotlib.animation import FuncAnimation\n",
    "\n",
    "# !pip install celluloid\n",
    "from celluloid import Camera\n",
    "from IPython.display import HTML\n",
    "from base64 import b64encode"
   ]
  },
  {
   "cell_type": "code",
   "execution_count": null,
   "metadata": {
    "colab": {
     "base_uri": "https://localhost:8080/",
     "height": 294
    },
    "id": "guf3qnFluPCg",
    "outputId": "09dd9682-be72-4799-9ee6-afd471bea3bc"
   },
   "outputs": [],
   "source": [
    "constants = dict(hbar=1, m=1, numdx=10000, numdt=500, xrange=5, trange=1)\n",
    "\n",
    "dx = constants['xrange'] / constants['numdx']\n",
    "dt = constants['trange'] / constants['numdt']\n",
    "alpha = constants['m'] * (dx ** 2 / (2 * constants['hbar'] ** 2 * dt))\n",
    "beta = dt / constants['hbar'] ** 2\n",
    "x = np.arange(constants['numdx']) * dx\n",
    "t = np.arange(constants['numdt']) * dt\n",
    "\n",
    "\n",
    "def V(x):\n",
    "    v = np.linspace(1, -1, constants['numdx'])\n",
    "    return v\n",
    "\n",
    "\n",
    "ST = np.zeros((constants['numdx'], constants['numdx']))\n",
    "SV = np.zeros((constants['numdx'], constants['numdx']))\n",
    "temp = np.arange(constants['numdx'])\n",
    "\n",
    "for l in range(constants['numdx']):\n",
    "    ST[:, l] += temp\n",
    "    ST[l, :] -= np.transpose(temp)\n",
    "    SV[:, l] += V(temp)\n",
    "    SV[l, :] -= V(np.transpose(temp))\n",
    "\n",
    "ST *= alpha * ST\n",
    "SV *= beta\n",
    "ST = torch.from_numpy(ST) * 1\n",
    "SV = torch.from_numpy(SV) * 0\n",
    "K = torch.exp(torch.complex(0*ST, ST) - torch.complex(0*SV, SV))\n",
    "K[-2500:][:] *= 0\n",
    "\n",
    "\n",
    "def gaussian(x, mu, sig):\n",
    "    norm = math.sqrt(2 * math.pi) * sig\n",
    "    return np.exp(-((x - mu) * (x - mu)) / (2 * sig * sig)) / norm\n",
    "\n",
    "\n",
    "r0 = np.atleast_2d(gaussian(x, 2, .5)).T\n",
    "r0 = r0 + 0 * np.ones_like(r0)\n",
    "r0[0, 0] = r0[-1, 0] = 0\n",
    "mom = 10\n",
    "q0 = np.concatenate((np.atleast_2d(np.cos(mom * x)).T * r0, np.atleast_2d(np.sin(mom * x)).T * r0), axis=1)\n",
    "q = torch.view_as_complex(torch.from_numpy(q0))"
   ]
  },
  {
   "cell_type": "code",
   "execution_count": null,
   "metadata": {},
   "outputs": [],
   "source": [
    "def normalize(psi):\n",
    "    return psi / psi.norm() #.abs().pow(2).sum().detach()\n",
    "\n",
    "def simulate(q, K, steps=500):\n",
    "    q = normalize(q)\n",
    "    qs = [q.clone()]\n",
    "    for i in range(steps):\n",
    "        q = normalize(torch.matmul(q, K))\n",
    "        qs.append(q.clone())\n",
    "    return torch.stack(qs)\n",
    "    \n",
    "q = torch.view_as_complex(torch.from_numpy(q0))\n",
    "qs = simulate(q, K)"
   ]
  },
  {
   "cell_type": "code",
   "execution_count": null,
   "metadata": {},
   "outputs": [],
   "source": [
    "def make_video(x, qs, path, interval=60, **kwargs): # xs: [time, N, 2]\n",
    "    fig = plt.gcf() ; fig.set_dpi(150) ; fig.set_size_inches(5, 3)\n",
    "    camera = Camera(fig)\n",
    "    for q in qs:\n",
    "        plt.plot(x, q.abs().detach(), 'b', label='Spatial probability')\n",
    "        camera.snap()  # plt.ylim(-0.5,1.5)\n",
    "    anim = camera.animate(blit=True, interval=interval, **kwargs)\n",
    "    anim.save(path) ; plt.close()\n",
    "\n",
    "plt.title('Dynamics of a 1D Quantum Wave Packet')\n",
    "path = 'sim.mp4' ; make_video(x, qs[::3], path, interval=60)\n",
    "mp4 = open(path,'rb').read()\n",
    "data_url = \"data:video/mp4;base64,\" + b64encode(mp4).decode()\n",
    "\n",
    "HTML(\"\"\"\n",
    "<video width=600 controls>\n",
    "      <source src=\"%s\" type=\"video/mp4\">\n",
    "</video>\n",
    "\"\"\" % data_url)"
   ]
  },
  {
   "cell_type": "code",
   "execution_count": null,
   "metadata": {},
   "outputs": [],
   "source": []
  },
  {
   "cell_type": "code",
   "execution_count": null,
   "metadata": {},
   "outputs": [],
   "source": [
    "# def normalize(psi):\n",
    "#     return psi / psi.norm() #.abs().pow(2).sum().detach()\n",
    "\n",
    "# q = torch.view_as_complex(torch.from_numpy(q0))\n",
    "# q_ = q\n",
    "# q_ = normalize(q_)\n",
    "\n",
    "# q_ @ q_, q_.norm()"
   ]
  }
 ],
 "metadata": {
  "colab": {
   "provenance": []
  },
  "kernelspec": {
   "display_name": "Python 3 (ipykernel)",
   "language": "python",
   "name": "python3"
  },
  "language_info": {
   "codemirror_mode": {
    "name": "ipython",
    "version": 3
   },
   "file_extension": ".py",
   "mimetype": "text/x-python",
   "name": "python",
   "nbconvert_exporter": "python",
   "pygments_lexer": "ipython3",
   "version": "3.8.5"
  }
 },
 "nbformat": 4,
 "nbformat_minor": 1
}
